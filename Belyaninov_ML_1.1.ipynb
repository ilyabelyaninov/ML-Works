{
 "cells": [
  {
   "cell_type": "markdown",
   "id": "cbb92603",
   "metadata": {},
   "source": [
    "# Линейная регрессия"
   ]
  },
  {
   "cell_type": "markdown",
   "id": "6348c1e0",
   "metadata": {},
   "source": [
    "Студент: Белянинов Илья Витальевич\\\n",
    "Группа: ПМ22-1"
   ]
  },
  {
   "cell_type": "code",
   "execution_count": 240,
   "id": "2a20a102",
   "metadata": {},
   "outputs": [],
   "source": [
    "import numpy as np\n",
    "import pandas as pd\n",
    "import matplotlib.pyplot as plt"
   ]
  },
  {
   "cell_type": "code",
   "execution_count": 288,
   "id": "8eab9986",
   "metadata": {},
   "outputs": [],
   "source": [
    "x = pd.read_csv('https://raw.githubusercontent.com/koroteevmv/ML_course/main/ML1.1_sgd/data/x.csv')\n",
    "y = pd.read_csv('https://raw.githubusercontent.com/koroteevmv/ML_course/main/ML1.1_sgd/data/y.csv')"
   ]
  },
  {
   "cell_type": "code",
   "execution_count": 289,
   "id": "54332e4f",
   "metadata": {},
   "outputs": [
    {
     "data": {
      "text/html": [
       "<div>\n",
       "<style scoped>\n",
       "    .dataframe tbody tr th:only-of-type {\n",
       "        vertical-align: middle;\n",
       "    }\n",
       "\n",
       "    .dataframe tbody tr th {\n",
       "        vertical-align: top;\n",
       "    }\n",
       "\n",
       "    .dataframe thead th {\n",
       "        text-align: right;\n",
       "    }\n",
       "</style>\n",
       "<table border=\"1\" class=\"dataframe\">\n",
       "  <thead>\n",
       "    <tr style=\"text-align: right;\">\n",
       "      <th></th>\n",
       "      <th>Unnamed: 0</th>\n",
       "      <th>0</th>\n",
       "    </tr>\n",
       "  </thead>\n",
       "  <tbody>\n",
       "    <tr>\n",
       "      <th>0</th>\n",
       "      <td>0</td>\n",
       "      <td>1.462108</td>\n",
       "    </tr>\n",
       "    <tr>\n",
       "      <th>1</th>\n",
       "      <td>1</td>\n",
       "      <td>1.133769</td>\n",
       "    </tr>\n",
       "    <tr>\n",
       "      <th>2</th>\n",
       "      <td>2</td>\n",
       "      <td>-2.301539</td>\n",
       "    </tr>\n",
       "    <tr>\n",
       "      <th>3</th>\n",
       "      <td>3</td>\n",
       "      <td>1.744812</td>\n",
       "    </tr>\n",
       "    <tr>\n",
       "      <th>4</th>\n",
       "      <td>4</td>\n",
       "      <td>0.042214</td>\n",
       "    </tr>\n",
       "  </tbody>\n",
       "</table>\n",
       "</div>"
      ],
      "text/plain": [
       "   Unnamed: 0         0\n",
       "0           0  1.462108\n",
       "1           1  1.133769\n",
       "2           2 -2.301539\n",
       "3           3  1.744812\n",
       "4           4  0.042214"
      ]
     },
     "execution_count": 289,
     "metadata": {},
     "output_type": "execute_result"
    }
   ],
   "source": [
    "x.head()"
   ]
  },
  {
   "cell_type": "code",
   "execution_count": 290,
   "id": "3bc547f2",
   "metadata": {},
   "outputs": [],
   "source": [
    "x = pd.read_csv('https://raw.githubusercontent.com/koroteevmv/ML_course/main/ML1.1_sgd/data/x.csv', index_col=0)['0']\n",
    "y = pd.read_csv('https://raw.githubusercontent.com/koroteevmv/ML_course/main/ML1.1_sgd/data/y.csv', index_col=0)['0']"
   ]
  },
  {
   "cell_type": "code",
   "execution_count": 291,
   "id": "33029c83",
   "metadata": {},
   "outputs": [
    {
     "data": {
      "text/plain": [
       "0    1.462108\n",
       "1    1.133769\n",
       "2   -2.301539\n",
       "3    1.744812\n",
       "4    0.042214\n",
       "Name: 0, dtype: float64"
      ]
     },
     "execution_count": 291,
     "metadata": {},
     "output_type": "execute_result"
    }
   ],
   "source": [
    "x.head()"
   ]
  },
  {
   "cell_type": "code",
   "execution_count": 245,
   "id": "73153890",
   "metadata": {},
   "outputs": [
    {
     "data": {
      "image/png": "[encoded data removed]",
      "text/plain": [
       "<Figure size 432x288 with 1 Axes>"
      ]
     },
     "metadata": {
      "needs_background": "light"
     },
     "output_type": "display_data"
    }
   ],
   "source": [
    "plt.figure()\n",
    "plt.scatter(x, y)\n",
    "plt.show()"
   ]
  },
  {
   "cell_type": "code",
   "execution_count": 246,
   "id": "5c03e83e",
   "metadata": {},
   "outputs": [],
   "source": [
    "class Model(object):\n",
    "    \"\"\"Модель парной линейной регрессии\"\"\"\n",
    "    def __init__(self):\n",
    "        self.b0 = 0\n",
    "        self.b1 = 0\n",
    "        \n",
    "    def predict(self, x):\n",
    "        return self.b0 + self.b1 * x\n",
    "    \n",
    "    def error(self, X, Y):    \n",
    "        return sum((self.predict(X) - Y)**2) / (2 * len(X))\n",
    "    \n",
    "    def fit(self, X, Y):  \n",
    "        alpha = 0.1\n",
    "        dJ0 = sum(self.predict(X) - Y) /len(X)\n",
    "        dJ1 = sum((self.predict(X) - Y) * X) /len(X)\n",
    "        self.b0 -= alpha * dJ0\n",
    "        self.b1 -= alpha * dJ1"
   ]
  },
  {
   "cell_type": "code",
   "execution_count": 247,
   "id": "837dc9c7",
   "metadata": {},
   "outputs": [
    {
     "name": "stdout",
     "output_type": "stream",
     "text": [
      "0\n",
      "0\n",
      "initial error: 2937.6446095153406\n"
     ]
    }
   ],
   "source": [
    "hyp = Model()\n",
    "print(hyp.predict(0))\n",
    "print(hyp.predict(100))\n",
    "J = hyp.error(x, y)\n",
    "print(\"initial error:\", J)"
   ]
  },
  {
   "cell_type": "code",
   "execution_count": 303,
   "id": "43c4b34d",
   "metadata": {},
   "outputs": [
    {
     "data": {
      "image/png": "[encoded data removed]",
      "text/plain": [
       "<Figure size 432x288 with 1 Axes>"
      ]
     },
     "metadata": {
      "needs_background": "light"
     },
     "output_type": "display_data"
    }
   ],
   "source": [
    "X0 = np.linspace(-3, 2, 100)\n",
    "Y0 = hyp.predict(X0)\n",
    "plt.figure()\n",
    "plt.scatter(x, y)\n",
    "plt.plot(X0, Y0, 'r')\n",
    "plt.show()"
   ]
  },
  {
   "cell_type": "code",
   "execution_count": 249,
   "id": "7710b5cc",
   "metadata": {},
   "outputs": [
    {
     "name": "stdout",
     "output_type": "stream",
     "text": [
      "error after gradient descent: 2253.7456808918546\n"
     ]
    }
   ],
   "source": [
    "hyp.fit(x, y)\n",
    "J = hyp.error(x, y)\n",
    "print(\"error after gradient descent:\", J)"
   ]
  },
  {
   "cell_type": "code",
   "execution_count": 250,
   "id": "2b538c6a",
   "metadata": {},
   "outputs": [
    {
     "data": {
      "image/png": "[encoded data removed]",
      "text/plain": [
       "<Figure size 432x288 with 1 Axes>"
      ]
     },
     "metadata": {
      "needs_background": "light"
     },
     "output_type": "display_data"
    }
   ],
   "source": [
    "X0 = np.linspace(-3, 2, 100)\n",
    "Y0 = hyp.predict(X0)\n",
    "plt.figure()\n",
    "plt.scatter(x, y)\n",
    "plt.plot(X0, Y0, 'r')\n",
    "plt.show()"
   ]
  },
  {
   "cell_type": "code",
   "execution_count": 251,
   "id": "a41ff6d1",
   "metadata": {},
   "outputs": [],
   "source": [
    "class Model(object):\n",
    "    \"\"\"Модель парной линейной регрессии\"\"\"\n",
    "    def __init__(self):\n",
    "        self.b0 = 0\n",
    "        self.b1 = 0\n",
    "    def predict(self, X):\n",
    "        return self.b0 + self.b1 * np.array(X)\n",
    "    def error(self, X, Y):\n",
    "        return sum(((self.predict(X) - Y)**2) / (2 * len(X)))\n",
    "    def fit(self, X, Y, alpha=0.001, accuracy=0.01, max_steps=5000):\n",
    "        steps, errors = [], []\n",
    "        step = 0        \n",
    "        for s in range(1, max_steps+1):\n",
    "            dJ0 = sum(self.predict(X) - Y) /len(X)\n",
    "            dJ1 = sum((self.predict(X) - Y) * X) /len(X)\n",
    "            self.b0 -= alpha * dJ0\n",
    "            self.b1 -= alpha * dJ1          \n",
    "            steps.append(s)\n",
    "            errors.append(hyp.error(X, Y))\n",
    "        return steps, errors"
   ]
  },
  {
   "cell_type": "code",
   "execution_count": 252,
   "id": "b4479881",
   "metadata": {},
   "outputs": [
    {
     "name": "stdout",
     "output_type": "stream",
     "text": [
      "error after gradient descent: 0.03937321303112907\n"
     ]
    }
   ],
   "source": [
    "hyp = Model()\n",
    "steps, errors = hyp.fit(x, y)\n",
    "J = hyp.error(x, y)\n",
    "print(\"error after gradient descent:\", J)"
   ]
  },
  {
   "cell_type": "code",
   "execution_count": 294,
   "id": "33f0bfda",
   "metadata": {},
   "outputs": [
    {
     "data": {
      "image/png": "[encoded data removed]",
      "text/plain": [
       "<Figure size 432x288 with 1 Axes>"
      ]
     },
     "metadata": {
      "needs_background": "light"
     },
     "output_type": "display_data"
    }
   ],
   "source": [
    "X0 = np.linspace(-3, 2, 100)\n",
    "Y0 = hyp.predict(X0)\n",
    "plt.figure()\n",
    "plt.scatter(x, y)\n",
    "plt.plot(X0, Y0, 'r')\n",
    "plt.show()"
   ]
  },
  {
   "cell_type": "code",
   "execution_count": 228,
   "id": "2b61dd3f",
   "metadata": {},
   "outputs": [
    {
     "data": {
      "image/png": "[encoded data removed]",
      "text/plain": [
       "<Figure size 432x288 with 1 Axes>"
      ]
     },
     "metadata": {
      "needs_background": "light"
     },
     "output_type": "display_data"
    }
   ],
   "source": [
    "plt.figure()\n",
    "plt.plot(steps, errors, 'g')\n",
    "plt.show()"
   ]
  },
  {
   "cell_type": "markdown",
   "id": "343683de",
   "metadata": {},
   "source": [
    "## Задания для самостоятельного выполнения"
   ]
  },
  {
   "cell_type": "markdown",
   "id": "6d45a939",
   "metadata": {},
   "source": [
    "### 1. Проверьте работу модели с разными начальными значениями параметров. Убедитесь, что модель всегда сходится к оптимуму."
   ]
  },
  {
   "cell_type": "code",
   "execution_count": 254,
   "id": "3b9ac90f",
   "metadata": {},
   "outputs": [],
   "source": [
    "class Model(object):\n",
    "    \"\"\"Модель парной линейной регрессии\"\"\"\n",
    "    def __init__(self, b0=0, b1=0):\n",
    "        self.b0 = b0\n",
    "        self.b1 = b1\n",
    "        \n",
    "    def predict(self, X):\n",
    "        return self.b0 + self.b1 * np.array(X)\n",
    "    \n",
    "    def error(self, X, Y):\n",
    "        return float(np.sum(((self.predict(X) - Y)**2) / (2 * len(X))))\n",
    "    \n",
    "    def fit(self, X, Y, alpha=0.001, accuracy=0.01, max_steps=5000):\n",
    "        steps, errors = [], []       \n",
    "        for s in range(1, max_steps+1):\n",
    "            dJ0 = sum(self.predict(X) - Y) /len(X)\n",
    "            dJ1 = sum((self.predict(X) - Y) * X) /len(X)\n",
    "            self.b0 -= alpha * dJ0\n",
    "            self.b1 -= alpha * dJ1          \n",
    "            steps.append(s)\n",
    "            errors.append(self.error(X, Y))\n",
    "        return steps, errors"
   ]
  },
  {
   "cell_type": "code",
   "execution_count": 255,
   "id": "991f27e1",
   "metadata": {},
   "outputs": [
    {
     "data": {
      "image/png": "[encoded data removed]",
      "text/plain": [
       "<Figure size 432x288 with 1 Axes>"
      ]
     },
     "metadata": {
      "needs_background": "light"
     },
     "output_type": "display_data"
    }
   ],
   "source": [
    "import random\n",
    "\n",
    "for _ in range(5):\n",
    "    b0 = random.randint(-20,20)\n",
    "    b1 = random.randint(-20,20)\n",
    "    hyp = Model(b0, b1)\n",
    "    steps, errors = hyp.fit(x, y, alpha = 0.01, max_steps = 100)\n",
    "    plt.plot(steps, errors, label = f'b0 = {b0}, b1 = {b1}')\n",
    "\n",
    "plt.title('График работы модели с разными начальными значениями параметров')\n",
    "plt.xlabel('Steps')\n",
    "plt.ylabel('Errors')\n",
    "plt.legend()\n",
    "plt.show()"
   ]
  },
  {
   "cell_type": "markdown",
   "id": "ffe79bce",
   "metadata": {},
   "source": [
    "## 2. Проверьте работу модели с другими значениями скорости обучения. Найдите значение, при котором градиентный спуск расходится."
   ]
  },
  {
   "cell_type": "code",
   "execution_count": 256,
   "id": "d8da0958",
   "metadata": {},
   "outputs": [
    {
     "data": {
      "image/png": "[encoded data removed]",
      "text/plain": [
       "<Figure size 432x288 with 1 Axes>"
      ]
     },
     "metadata": {
      "needs_background": "light"
     },
     "output_type": "display_data"
    }
   ],
   "source": [
    "hyp = Model()\n",
    "plt.figure()\n",
    "steps, errors = hyp.fit(x, y, alpha=2, max_steps=100)\n",
    "plt.plot(steps, errors, 'g')\n",
    "plt.show()"
   ]
  },
  {
   "cell_type": "markdown",
   "id": "fd774cab",
   "metadata": {},
   "source": [
    "### 3. Модифицируйте код модели таким образом, чтобы он корректно работал как с Series, так и с DataFrame. При этом, конечно, датафрейм не должен содержать \"лишних\" столбцов."
   ]
  },
  {
   "cell_type": "code",
   "execution_count": 257,
   "id": "cfdcae3d",
   "metadata": {},
   "outputs": [
    {
     "data": {
      "text/html": [
       "<div>\n",
       "<style scoped>\n",
       "    .dataframe tbody tr th:only-of-type {\n",
       "        vertical-align: middle;\n",
       "    }\n",
       "\n",
       "    .dataframe tbody tr th {\n",
       "        vertical-align: top;\n",
       "    }\n",
       "\n",
       "    .dataframe thead th {\n",
       "        text-align: right;\n",
       "    }\n",
       "</style>\n",
       "<table border=\"1\" class=\"dataframe\">\n",
       "  <thead>\n",
       "    <tr style=\"text-align: right;\">\n",
       "      <th></th>\n",
       "      <th>0</th>\n",
       "    </tr>\n",
       "  </thead>\n",
       "  <tbody>\n",
       "    <tr>\n",
       "      <th>0</th>\n",
       "      <td>1.462108</td>\n",
       "    </tr>\n",
       "    <tr>\n",
       "      <th>1</th>\n",
       "      <td>1.133769</td>\n",
       "    </tr>\n",
       "    <tr>\n",
       "      <th>2</th>\n",
       "      <td>-2.301539</td>\n",
       "    </tr>\n",
       "    <tr>\n",
       "      <th>3</th>\n",
       "      <td>1.744812</td>\n",
       "    </tr>\n",
       "    <tr>\n",
       "      <th>4</th>\n",
       "      <td>0.042214</td>\n",
       "    </tr>\n",
       "    <tr>\n",
       "      <th>5</th>\n",
       "      <td>-0.611756</td>\n",
       "    </tr>\n",
       "    <tr>\n",
       "      <th>6</th>\n",
       "      <td>0.319039</td>\n",
       "    </tr>\n",
       "    <tr>\n",
       "      <th>7</th>\n",
       "      <td>-0.761207</td>\n",
       "    </tr>\n",
       "    <tr>\n",
       "      <th>8</th>\n",
       "      <td>0.582815</td>\n",
       "    </tr>\n",
       "    <tr>\n",
       "      <th>9</th>\n",
       "      <td>-1.099891</td>\n",
       "    </tr>\n",
       "    <tr>\n",
       "      <th>10</th>\n",
       "      <td>0.865408</td>\n",
       "    </tr>\n",
       "    <tr>\n",
       "      <th>11</th>\n",
       "      <td>1.624345</td>\n",
       "    </tr>\n",
       "    <tr>\n",
       "      <th>12</th>\n",
       "      <td>-0.528172</td>\n",
       "    </tr>\n",
       "    <tr>\n",
       "      <th>13</th>\n",
       "      <td>-0.249370</td>\n",
       "    </tr>\n",
       "    <tr>\n",
       "      <th>14</th>\n",
       "      <td>-1.072969</td>\n",
       "    </tr>\n",
       "    <tr>\n",
       "      <th>15</th>\n",
       "      <td>-0.384054</td>\n",
       "    </tr>\n",
       "    <tr>\n",
       "      <th>16</th>\n",
       "      <td>-0.172428</td>\n",
       "    </tr>\n",
       "    <tr>\n",
       "      <th>17</th>\n",
       "      <td>-0.322417</td>\n",
       "    </tr>\n",
       "    <tr>\n",
       "      <th>18</th>\n",
       "      <td>-2.060141</td>\n",
       "    </tr>\n",
       "    <tr>\n",
       "      <th>19</th>\n",
       "      <td>-0.877858</td>\n",
       "    </tr>\n",
       "  </tbody>\n",
       "</table>\n",
       "</div>"
      ],
      "text/plain": [
       "           0\n",
       "0   1.462108\n",
       "1   1.133769\n",
       "2  -2.301539\n",
       "3   1.744812\n",
       "4   0.042214\n",
       "5  -0.611756\n",
       "6   0.319039\n",
       "7  -0.761207\n",
       "8   0.582815\n",
       "9  -1.099891\n",
       "10  0.865408\n",
       "11  1.624345\n",
       "12 -0.528172\n",
       "13 -0.249370\n",
       "14 -1.072969\n",
       "15 -0.384054\n",
       "16 -0.172428\n",
       "17 -0.322417\n",
       "18 -2.060141\n",
       "19 -0.877858"
      ]
     },
     "execution_count": 257,
     "metadata": {},
     "output_type": "execute_result"
    }
   ],
   "source": [
    "x = pd.DataFrame(x)\n",
    "y = pd.DataFrame(y)\n",
    "x"
   ]
  },
  {
   "cell_type": "code",
   "execution_count": 264,
   "id": "4899372f",
   "metadata": {},
   "outputs": [],
   "source": [
    "class Model(object):\n",
    "    \"\"\"Модель парной линейной регрессии\"\"\"\n",
    "    def __init__(self, b0=0, b1=0):\n",
    "        self.b0 = b0\n",
    "        self.b1 = b1\n",
    "        \n",
    "    def predict(self, X):\n",
    "        return self.b0 + self.b1 * np.array(X)\n",
    "\n",
    "    def error(self, X, Y):\n",
    "        return float(np.sum(((self.predict(X) - Y)**2) / (2 * len(X))))\n",
    "    \n",
    "    def fit(self, X, Y, alpha=0.001, accuracy=0.01, max_steps=5000):\n",
    "        steps, errors = [], []       \n",
    "        for s in range(1, max_steps+1):\n",
    "            dJ0 = np.sum(self.predict(X) - Y) /len(X)\n",
    "            dJ1 = np.sum((self.predict(X) - Y) * X) /len(X)\n",
    "            self.b0 -= alpha * dJ0\n",
    "            self.b1 -= alpha * dJ1          \n",
    "            steps.append(s)\n",
    "            errors.append(self.error(X, Y))\n",
    "        return steps, errors"
   ]
  },
  {
   "cell_type": "code",
   "execution_count": 265,
   "id": "edc85932",
   "metadata": {},
   "outputs": [],
   "source": [
    "x['0'] = x['0'].astype(float)\n",
    "y['0'] = y['0'].astype(float)"
   ]
  },
  {
   "cell_type": "code",
   "execution_count": 266,
   "id": "35c455a7",
   "metadata": {},
   "outputs": [
    {
     "name": "stdout",
     "output_type": "stream",
     "text": [
      "error after gradient descent: 0.039373213031129055\n"
     ]
    }
   ],
   "source": [
    "hyp = Model()\n",
    "steps, errors = hyp.fit(x, y)\n",
    "J = hyp.error(x, y)\n",
    "print(\"error after gradient descent:\", J)"
   ]
  },
  {
   "cell_type": "markdown",
   "id": "73971961",
   "metadata": {},
   "source": [
    "### 4. Модифицируйте алгоритм градиентного спуcка таким образом, чтобы он останавливаля, если ошибка перестает снижаться. Для этого сравнивайте, на сколько понизилась ошибка на каждом шаге и если это снижение меньше некоторой заранее заданной очень маленькой величины - выходите из цикла. Эту величину можно взять одну миллионную, например."
   ]
  },
  {
   "cell_type": "code",
   "execution_count": 268,
   "id": "4c9b81bc",
   "metadata": {},
   "outputs": [],
   "source": [
    "class Model(object):\n",
    "    \"\"\"Модель парной линейной регрессии\"\"\"\n",
    "    def __init__(self, b0=0, b1=0):\n",
    "        self.b0 = b0\n",
    "        self.b1 = b1\n",
    "        \n",
    "    def predict(self, X):\n",
    "        return self.b0 + self.b1 * np.array(X)\n",
    "    \n",
    "    def error(self, X, Y):\n",
    "        return float(np.sum(((self.predict(X) - Y)**2) / (2 * len(X))))\n",
    "    \n",
    "    def fit(self, X, Y, alpha=0.001, accuracy=10**(-6), max_steps=5000):\n",
    "        steps, errors = [], []       \n",
    "        for s in range(1, max_steps+1):\n",
    "            dJ0 = np.sum(self.predict(X) - Y) /len(X)\n",
    "            dJ1 = np.sum((self.predict(X) - Y) * X) /len(X)\n",
    "            self.b0 -= alpha * dJ0\n",
    "            self.b1 -= alpha * dJ1          \n",
    "            steps.append(s)\n",
    "            try:\n",
    "                if float(errors[-1] - self.error(X, Y)) < accuracy:\n",
    "                    return steps, errors\n",
    "            except:\n",
    "                pass\n",
    "            errors.append(self.error(X, Y))\n",
    "        return steps, errors"
   ]
  },
  {
   "cell_type": "code",
   "execution_count": 269,
   "id": "7e3b904d",
   "metadata": {},
   "outputs": [
    {
     "name": "stdout",
     "output_type": "stream",
     "text": [
      "error after gradient descent: 410.8021056020668\n"
     ]
    }
   ],
   "source": [
    "hyp = Model()\n",
    "errors = hyp.fit(x, y, accuracy=1, max_steps=1000)\n",
    "J = hyp.error(x, y)\n",
    "print(\"error after gradient descent:\", J)"
   ]
  },
  {
   "cell_type": "code",
   "execution_count": 270,
   "id": "4cfc45cb",
   "metadata": {},
   "outputs": [
    {
     "name": "stdout",
     "output_type": "stream",
     "text": [
      "error after gradient descent: 253.13429386398101\n"
     ]
    }
   ],
   "source": [
    "hyp = Model()\n",
    "errors = hyp.fit(x, y, accuracy=0.1, max_steps=1000)\n",
    "J = hyp.error(x, y)\n",
    "print(\"error after gradient descent:\", J)"
   ]
  },
  {
   "cell_type": "markdown",
   "id": "03b400f6",
   "metadata": {},
   "source": [
    "### 5. Убедитесь, что алгоритм градиентного спуска завершается всегда - либо если ошибка перестает существенно меняться, либо при достижении максимального количества шагов."
   ]
  },
  {
   "cell_type": "code",
   "execution_count": 293,
   "id": "3ee664ea",
   "metadata": {},
   "outputs": [],
   "source": [
    "class Model(object):\n",
    "    \"\"\"Модель парной линейной регрессии\"\"\"\n",
    "    def __init__(self, b0=0, b1=0):\n",
    "        self.b0 = b0\n",
    "        self.b1 = b1\n",
    "        \n",
    "    def predict(self, X):\n",
    "        return self.b0 + self.b1 * np.array(X)\n",
    "    \n",
    "    def error(self, X, Y):\n",
    "        return float(np.sum(((self.predict(X) - Y)**2) / (2 * len(X))))\n",
    "    \n",
    "    def fit(self, X, Y, alpha=0.001, accuracy=10**(-6), max_steps=5000):\n",
    "        steps, errors = [], []       \n",
    "        for s in range(1, max_steps+1):\n",
    "            dJ0 = np.sum(self.predict(X) - Y) /len(X)\n",
    "            dJ1 = np.sum((self.predict(X) - Y) * X) /len(X)\n",
    "            self.b0 -= alpha * dJ0\n",
    "            self.b1 -= alpha * dJ1          \n",
    "            steps.append(s)\n",
    "            try:\n",
    "                if float(errors[-1] - self.error(X, Y)) < accuracy:\n",
    "                    print(f'Ошибка перестает существенно меняться. Кол-во шагов {s}')\n",
    "                    return steps, errors\n",
    "            except:\n",
    "                pass\n",
    "            errors.append(self.error(X, Y))\n",
    "        print(f'Достигнуто максимальное кол-во шагов - {s}')\n",
    "        return steps, errors"
   ]
  },
  {
   "cell_type": "code",
   "execution_count": 272,
   "id": "eead5778",
   "metadata": {},
   "outputs": [
    {
     "name": "stdout",
     "output_type": "stream",
     "text": [
      "Ошибка перестает существенно меняться. Кол-во шагов 7227\n",
      "error after gradient descent: 0.0005244076717215662\n"
     ]
    }
   ],
   "source": [
    "hyp = Model()\n",
    "steps, errors = hyp.fit(x, y, max_steps=10000)\n",
    "J = hyp.error(x, y)\n",
    "print(\"error after gradient descent:\", J)"
   ]
  },
  {
   "cell_type": "code",
   "execution_count": 273,
   "id": "07442bab",
   "metadata": {},
   "outputs": [
    {
     "name": "stdout",
     "output_type": "stream",
     "text": [
      "Достигнуто максимальное кол-во шагов - 100\n",
      "error after gradient descent: 2291.882685525399\n"
     ]
    }
   ],
   "source": [
    "hyp = Model()\n",
    "steps, errors = hyp.fit(x, y, max_steps=100)\n",
    "J = hyp.error(x, y)\n",
    "print(\"error after gradient descent:\", J)"
   ]
  },
  {
   "cell_type": "markdown",
   "id": "26e56b95",
   "metadata": {},
   "source": [
    "### 6. Реализуйте механизм адаптивной скорости обучения. Чтобы не задавать вручную параметр alpha можно отслеживать, увеличивается ли ошибка после первого шага градиентного спуска. В начале задаем скорость обучения близкой к 1. Если ошибка после одного шага увеличивается - скорость обучения надо уменьшить (например, в 2 раза). Если не увеличивается - скорость обучения можно не трогать. Еще подумайте, как после уменьшения скорости перезапускать градиентный спуск заново."
   ]
  },
  {
   "cell_type": "code",
   "execution_count": 274,
   "id": "39d96c43",
   "metadata": {},
   "outputs": [],
   "source": [
    "class Model(object):\n",
    "    \"\"\"Модель парной линейной регрессии\"\"\"\n",
    "    def __init__(self, b0=0, b1=0):\n",
    "        self.b0 = b0\n",
    "        self.b1 = b1\n",
    "        \n",
    "    def predict(self, X):\n",
    "        return self.b0 + self.b1 * np.array(X)\n",
    "    \n",
    "    def error(self, X, Y):\n",
    "        return float(np.sum(((self.predict(X) - Y)**2) / (2 * len(X))))\n",
    "    \n",
    "    def fit(self, X, Y, alpha=0.999, accuracy=10**(-6), max_steps=5000):\n",
    "        while True:\n",
    "            try:\n",
    "                print('Alpha', alpha)\n",
    "                steps, errors = [], []       \n",
    "                for s in range(1, max_steps+1):\n",
    "                    dJ0 = np.sum(self.predict(X) - Y) /len(X)\n",
    "                    dJ1 = np.sum((self.predict(X) - Y) * X) /len(X)\n",
    "                    self.b0 -= alpha * dJ0\n",
    "                    self.b1 -= alpha * dJ1          \n",
    "                    steps.append(s)\n",
    "                    if len(errors)!= 0:\n",
    "                        if errors[-1] < self.error(X, Y):\n",
    "                            alpha /= 2\n",
    "                            p\n",
    "                    errors.append(self.error(X, Y))\n",
    "                return steps, errors\n",
    "            except:\n",
    "                pass"
   ]
  },
  {
   "cell_type": "code",
   "execution_count": 275,
   "id": "30337eb4",
   "metadata": {},
   "outputs": [
    {
     "name": "stdout",
     "output_type": "stream",
     "text": [
      "Alpha 0.999\n",
      "Alpha 0.4995\n",
      "Alpha 0.24975\n",
      "Alpha 0.124875\n",
      "Alpha 0.0624375\n",
      "Alpha 0.03121875\n",
      "Alpha 0.015609375\n",
      "Alpha 0.0078046875\n",
      "Alpha 0.00390234375\n",
      "Alpha 0.001951171875\n",
      "Alpha 0.0009755859375\n",
      "Alpha 0.00048779296875\n",
      "Alpha 0.000243896484375\n",
      "Alpha 0.0001219482421875\n",
      "Alpha 6.097412109375e-05\n",
      "Alpha 3.0487060546875e-05\n",
      "Alpha 1.52435302734375e-05\n",
      "Alpha 7.62176513671875e-06\n",
      "Alpha 3.810882568359375e-06\n",
      "Alpha 1.9054412841796875e-06\n",
      "Alpha 9.527206420898437e-07\n",
      "Alpha 4.763603210449219e-07\n",
      "Alpha 2.3818016052246094e-07\n",
      "Alpha 1.1909008026123047e-07\n",
      "Alpha 5.9545040130615234e-08\n",
      "Alpha 2.9772520065307617e-08\n",
      "Alpha 1.4886260032653809e-08\n",
      "Alpha 7.443130016326904e-09\n",
      "Alpha 3.721565008163452e-09\n",
      "Alpha 1.860782504081726e-09\n",
      "Alpha 9.30391252040863e-10\n",
      "Alpha 4.651956260204315e-10\n",
      "Alpha 2.3259781301021576e-10\n",
      "Alpha 1.1629890650510788e-10\n",
      "Alpha 5.814945325255394e-11\n",
      "Alpha 2.907472662627697e-11\n",
      "Alpha 1.4537363313138485e-11\n",
      "Alpha 7.2686816565692425e-12\n",
      "Alpha 3.6343408282846212e-12\n",
      "Alpha 1.8171704141423106e-12\n",
      "Alpha 9.085852070711553e-13\n",
      "Alpha 4.5429260353557765e-13\n",
      "Alpha 2.2714630176778883e-13\n",
      "Alpha 1.1357315088389441e-13\n",
      "Alpha 5.6786575441947207e-14\n",
      "Alpha 2.8393287720973603e-14\n",
      "Alpha 1.4196643860486802e-14\n",
      "Alpha 7.098321930243401e-15\n",
      "Alpha 3.5491609651217004e-15\n",
      "Alpha 1.7745804825608502e-15\n",
      "Alpha 8.872902412804251e-16\n",
      "Alpha 4.4364512064021255e-16\n",
      "error after gradient descent: 2.7156536662233335e-29\n"
     ]
    }
   ],
   "source": [
    "hyp = Model()\n",
    "steps, errors = hyp.fit(x, y, max_steps=1000)\n",
    "J = hyp.error(x, y)\n",
    "print(\"error after gradient descent:\", J)"
   ]
  },
  {
   "cell_type": "markdown",
   "id": "4c2431d6",
   "metadata": {},
   "source": [
    "### 7. Добавьте к классу модели метод рисования графиков. Сделайте так, чтобы он был независим от масштаба переданных данных."
   ]
  },
  {
   "cell_type": "code",
   "execution_count": 301,
   "id": "7b55478c",
   "metadata": {},
   "outputs": [],
   "source": [
    "class Model(object):\n",
    "    \"\"\"Модель парной линейной регрессии\"\"\"\n",
    "    def __init__(self, b0=0, b1=0):\n",
    "        self.b0 = b0\n",
    "        self.b1 = b1\n",
    "        \n",
    "    def predict(self, X):\n",
    "        return self.b0 + self.b1 * np.array(X)\n",
    "    \n",
    "    def error(self, X, Y):\n",
    "        return float(np.sum(((self.predict(X) - Y)**2) / (2 * len(X))))\n",
    "    \n",
    "    def fit(self, X, Y, alpha=0.999, accuracy=10**(-6), max_steps=5000):\n",
    "        while True:\n",
    "            try:\n",
    "                print('Alpha', alpha)\n",
    "                steps, errors = [], []       \n",
    "                for s in range(1, max_steps+1):\n",
    "                    dJ0 = np.sum(self.predict(X) - Y) /len(X)\n",
    "                    dJ1 = np.sum((self.predict(X) - Y) * X) /len(X)\n",
    "                    self.b0 -= alpha * dJ0\n",
    "                    self.b1 -= alpha * dJ1          \n",
    "                    steps.append(s)\n",
    "                    if len(errors)!= 0:\n",
    "                        if errors[-1] < self.error(X, Y):\n",
    "                            alpha /= 2\n",
    "                            p\n",
    "                    errors.append(self.error(X, Y))\n",
    "                return steps, errors\n",
    "            except:\n",
    "                pass\n",
    "\n",
    "    def plot(self, X, Y, title=\"График линейной регрессии\"):\n",
    "        plt.figure(figsize=(8, 6))\n",
    "        plt.scatter(X, Y, color='b')\n",
    "        plt.plot(np.array(X), np.array(self.predict(X)), color='r')\n",
    "        plt.xlabel(\"X\")\n",
    "        plt.ylabel(\"Y\")\n",
    "        plt.title(title)\n",
    "        plt.show()"
   ]
  },
  {
   "cell_type": "code",
   "execution_count": 302,
   "id": "f612340a",
   "metadata": {},
   "outputs": [
    {
     "data": {
      "image/png": "[encoded data removed]",
      "text/plain": [
       "<Figure size 576x432 with 1 Axes>"
      ]
     },
     "metadata": {
      "needs_background": "light"
     },
     "output_type": "display_data"
    }
   ],
   "source": [
    "hyp = Model()\n",
    "hyp.plot(x, y)"
   ]
  },
  {
   "cell_type": "code",
   "execution_count": null,
   "id": "a2656f3c",
   "metadata": {},
   "outputs": [],
   "source": []
  }
 ],
 "metadata": {
  "kernelspec": {
   "display_name": "Python 3 (ipykernel)",
   "language": "python",
   "name": "python3"
  },
  "language_info": {
   "codemirror_mode": {
    "name": "ipython",
    "version": 3
   },
   "file_extension": ".py",
   "mimetype": "text/x-python",
   "name": "python",
   "nbconvert_exporter": "python",
   "pygments_lexer": "ipython3",
   "version": "3.11.5"
  }
 },
 "nbformat": 4,
 "nbformat_minor": 5
}
