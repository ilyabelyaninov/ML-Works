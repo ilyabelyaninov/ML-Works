{
 "cells": [
  {
   "cell_type": "code",
   "execution_count": 1,
   "id": "803a6d74",
   "metadata": {},
   "outputs": [],
   "source": [
    "import numpy as np\n",
    "import pandas as pd\n",
    "import matplotlib.pyplot as plt\n",
    "import time"
   ]
  },
  {
   "cell_type": "code",
   "execution_count": 2,
   "id": "cc4960db",
   "metadata": {},
   "outputs": [],
   "source": [
    "data = pd.read_csv(\"https://raw.githubusercontent.com/koroteevmv/ML_course/2023/ML3.1%20polynomial%20features/gen_regression.csv\")"
   ]
  },
  {
   "cell_type": "code",
   "execution_count": 163,
   "id": "1f56b036",
   "metadata": {},
   "outputs": [
    {
     "data": {
      "text/html": [
       "<div>\n",
       "<style scoped>\n",
       "    .dataframe tbody tr th:only-of-type {\n",
       "        vertical-align: middle;\n",
       "    }\n",
       "\n",
       "    .dataframe tbody tr th {\n",
       "        vertical-align: top;\n",
       "    }\n",
       "\n",
       "    .dataframe thead th {\n",
       "        text-align: right;\n",
       "    }\n",
       "</style>\n",
       "<table border=\"1\" class=\"dataframe\">\n",
       "  <thead>\n",
       "    <tr style=\"text-align: right;\">\n",
       "      <th></th>\n",
       "      <th>Unnamed: 0</th>\n",
       "      <th>x</th>\n",
       "      <th>y</th>\n",
       "    </tr>\n",
       "  </thead>\n",
       "  <tbody>\n",
       "    <tr>\n",
       "      <th>0</th>\n",
       "      <td>0</td>\n",
       "      <td>96.597780</td>\n",
       "      <td>97761.592016</td>\n",
       "    </tr>\n",
       "    <tr>\n",
       "      <th>1</th>\n",
       "      <td>1</td>\n",
       "      <td>48.002892</td>\n",
       "      <td>27613.989207</td>\n",
       "    </tr>\n",
       "    <tr>\n",
       "      <th>2</th>\n",
       "      <td>2</td>\n",
       "      <td>47.939756</td>\n",
       "      <td>29410.187753</td>\n",
       "    </tr>\n",
       "    <tr>\n",
       "      <th>3</th>\n",
       "      <td>3</td>\n",
       "      <td>47.809026</td>\n",
       "      <td>15789.597531</td>\n",
       "    </tr>\n",
       "    <tr>\n",
       "      <th>4</th>\n",
       "      <td>4</td>\n",
       "      <td>69.784427</td>\n",
       "      <td>20953.383453</td>\n",
       "    </tr>\n",
       "  </tbody>\n",
       "</table>\n",
       "</div>"
      ],
      "text/plain": [
       "   Unnamed: 0          x             y\n",
       "0           0  96.597780  97761.592016\n",
       "1           1  48.002892  27613.989207\n",
       "2           2  47.939756  29410.187753\n",
       "3           3  47.809026  15789.597531\n",
       "4           4  69.784427  20953.383453"
      ]
     },
     "execution_count": 163,
     "metadata": {},
     "output_type": "execute_result"
    }
   ],
   "source": [
    "data.head()"
   ]
  },
  {
   "cell_type": "code",
   "execution_count": 164,
   "id": "d35b1d1a",
   "metadata": {},
   "outputs": [],
   "source": [
    "X = data.x\n",
    "y = data.y"
   ]
  },
  {
   "cell_type": "code",
   "execution_count": 165,
   "id": "cf992a3f",
   "metadata": {},
   "outputs": [
    {
     "data": {
      "text/plain": [
       "<matplotlib.collections.PathCollection at 0x20a236aafa0>"
      ]
     },
     "execution_count": 165,
     "metadata": {},
     "output_type": "execute_result"
    },
    {
     "data": {
      "image/png": "[encoded data removed]",
      "text/plain": [
       "<Figure size 432x288 with 1 Axes>"
      ]
     },
     "metadata": {
      "needs_background": "light"
     },
     "output_type": "display_data"
    }
   ],
   "source": [
    "plt.scatter(X, y)"
   ]
  },
  {
   "cell_type": "code",
   "execution_count": 166,
   "id": "e4e29208",
   "metadata": {},
   "outputs": [],
   "source": [
    "X = pd.DataFrame(X)"
   ]
  },
  {
   "cell_type": "code",
   "execution_count": 167,
   "id": "aae6ff9f",
   "metadata": {},
   "outputs": [
    {
     "data": {
      "text/plain": [
       "0.011997222900390625"
      ]
     },
     "execution_count": 167,
     "metadata": {},
     "output_type": "execute_result"
    }
   ],
   "source": [
    "from sklearn.linear_model import LinearRegression\n",
    "\n",
    "time_start = time.time()\n",
    "\n",
    "linear = LinearRegression().fit(X, y)\n",
    "\n",
    "time_delta_lin = time.time()-time_start\n",
    "\n",
    "time_delta_lin"
   ]
  },
  {
   "cell_type": "code",
   "execution_count": 168,
   "id": "49ff24c5",
   "metadata": {},
   "outputs": [
    {
     "name": "stderr",
     "output_type": "stream",
     "text": [
      "C:\\Anaconda\\lib\\site-packages\\sklearn\\base.py:450: UserWarning: X does not have valid feature names, but LinearRegression was fitted with feature names\n",
      "  warnings.warn(\n"
     ]
    },
    {
     "data": {
      "text/plain": [
       "[<matplotlib.lines.Line2D at 0x20a236fdbe0>]"
      ]
     },
     "execution_count": 168,
     "metadata": {},
     "output_type": "execute_result"
    },
    {
     "data": {
      "image/png": "[encoded data removed]",
      "text/plain": [
       "<Figure size 432x288 with 1 Axes>"
      ]
     },
     "metadata": {
      "needs_background": "light"
     },
     "output_type": "display_data"
    }
   ],
   "source": [
    "xx = np.arange(X.x.min(axis=0), X.x.max(axis=0))\n",
    "yy = linear.predict(pd.DataFrame(xx))\n",
    "\n",
    "plt.scatter(X.x, y)\n",
    "plt.plot(xx, yy, c='r')"
   ]
  },
  {
   "cell_type": "code",
   "execution_count": 169,
   "id": "a570f361",
   "metadata": {},
   "outputs": [
    {
     "name": "stderr",
     "output_type": "stream",
     "text": [
      "C:\\Anaconda\\lib\\site-packages\\sklearn\\base.py:450: UserWarning: X does not have valid feature names, but LinearRegression was fitted with feature names\n",
      "  warnings.warn(\n"
     ]
    },
    {
     "data": {
      "text/plain": [
       "[<matplotlib.lines.Line2D at 0x20a23762bb0>]"
      ]
     },
     "execution_count": 169,
     "metadata": {},
     "output_type": "execute_result"
    },
    {
     "data": {
      "image/png": "[encoded data removed]",
      "text/plain": [
       "<Figure size 432x288 with 1 Axes>"
      ]
     },
     "metadata": {
      "needs_background": "light"
     },
     "output_type": "display_data"
    }
   ],
   "source": [
    "xx = np.arange(X.x.min(axis=0), X.x.max(axis=0))\n",
    "yy = linear.predict(pd.DataFrame(xx))\n",
    "\n",
    "plt.scatter(X.x, y)\n",
    "plt.plot(xx, yy, c='r')"
   ]
  },
  {
   "cell_type": "code",
   "execution_count": 170,
   "id": "ff8a631c",
   "metadata": {},
   "outputs": [
    {
     "data": {
      "text/plain": [
       "0.37467360318911636"
      ]
     },
     "execution_count": 170,
     "metadata": {},
     "output_type": "execute_result"
    }
   ],
   "source": [
    "linear.score(X, y)"
   ]
  },
  {
   "cell_type": "code",
   "execution_count": 171,
   "id": "cc1c1df7",
   "metadata": {},
   "outputs": [],
   "source": [
    "from sklearn.preprocessing import PolynomialFeatures"
   ]
  },
  {
   "cell_type": "code",
   "execution_count": 172,
   "id": "d0c717f5",
   "metadata": {},
   "outputs": [],
   "source": [
    "transformation = PolynomialFeatures(degree=2)"
   ]
  },
  {
   "cell_type": "code",
   "execution_count": 173,
   "id": "5e9f1e4b",
   "metadata": {},
   "outputs": [
    {
     "data": {
      "text/plain": [
       "PolynomialFeatures()"
      ]
     },
     "execution_count": 173,
     "metadata": {},
     "output_type": "execute_result"
    }
   ],
   "source": [
    "transformation.fit(X)"
   ]
  },
  {
   "cell_type": "code",
   "execution_count": 174,
   "id": "9b7b2d63",
   "metadata": {},
   "outputs": [],
   "source": [
    "X_2 = transformation.transform(X)"
   ]
  },
  {
   "cell_type": "code",
   "execution_count": 175,
   "id": "02474fc3",
   "metadata": {},
   "outputs": [
    {
     "data": {
      "text/plain": [
       "((100, 3),\n",
       " array([[1.00000000e+00, 9.65977805e+01, 9.33113119e+03],\n",
       "        [1.00000000e+00, 4.80028921e+01, 2.30427765e+03],\n",
       "        [1.00000000e+00, 4.79397558e+01, 2.29822018e+03],\n",
       "        [1.00000000e+00, 4.78090258e+01, 2.28570295e+03],\n",
       "        [1.00000000e+00, 6.97844271e+01, 4.86986627e+03]]))"
      ]
     },
     "execution_count": 175,
     "metadata": {},
     "output_type": "execute_result"
    }
   ],
   "source": [
    "X_2.shape, X_2[:5]"
   ]
  },
  {
   "cell_type": "code",
   "execution_count": 176,
   "id": "973ec017",
   "metadata": {},
   "outputs": [
    {
     "data": {
      "text/plain": [
       "0.002000570297241211"
      ]
     },
     "execution_count": 176,
     "metadata": {},
     "output_type": "execute_result"
    }
   ],
   "source": [
    "time_st = time.time()\n",
    "\n",
    "poly_2d = LinearRegression().fit(X_2, y)\n",
    "\n",
    "time_delta_poly2 = time.time()-time_st\n",
    "time_delta_poly2"
   ]
  },
  {
   "cell_type": "code",
   "execution_count": 177,
   "id": "3cd2e74f",
   "metadata": {},
   "outputs": [
    {
     "name": "stderr",
     "output_type": "stream",
     "text": [
      "C:\\Anaconda\\lib\\site-packages\\sklearn\\base.py:450: UserWarning: X does not have valid feature names, but PolynomialFeatures was fitted with feature names\n",
      "  warnings.warn(\n"
     ]
    }
   ],
   "source": [
    "xx_2d = transformation.transform(pd.DataFrame(xx))"
   ]
  },
  {
   "cell_type": "code",
   "execution_count": 178,
   "id": "c226d708",
   "metadata": {},
   "outputs": [
    {
     "data": {
      "text/plain": [
       "[<matplotlib.lines.Line2D at 0x20a237cf640>]"
      ]
     },
     "execution_count": 178,
     "metadata": {},
     "output_type": "execute_result"
    },
    {
     "data": {
      "image/png": "[encoded data removed]",
      "text/plain": [
       "<Figure size 432x288 with 1 Axes>"
      ]
     },
     "metadata": {
      "needs_background": "light"
     },
     "output_type": "display_data"
    }
   ],
   "source": [
    "yy_2d = poly_2d.predict(xx_2d)\n",
    "plt.scatter(X.x, y)\n",
    "plt.plot(xx, yy_2d, c='r')"
   ]
  },
  {
   "cell_type": "code",
   "execution_count": 179,
   "id": "31d9533f",
   "metadata": {},
   "outputs": [
    {
     "data": {
      "text/plain": [
       "0.7359753787024842"
      ]
     },
     "execution_count": 179,
     "metadata": {},
     "output_type": "execute_result"
    }
   ],
   "source": [
    "poly_2d.score(X_2, y)"
   ]
  },
  {
   "cell_type": "code",
   "execution_count": 180,
   "id": "2866da95",
   "metadata": {},
   "outputs": [],
   "source": [
    "data = pd.read_csv(\"https://raw.githubusercontent.com/koroteevmv/ML_course/2023/ML3.1%20polynomial%20features/gen_classification.csv\",\n",
    "                   index_col=0)"
   ]
  },
  {
   "cell_type": "code",
   "execution_count": 181,
   "id": "4f34cec4",
   "metadata": {},
   "outputs": [],
   "source": [
    "y = data.y\n",
    "X = data.drop([\"y\"], axis=1)"
   ]
  },
  {
   "cell_type": "code",
   "execution_count": 182,
   "id": "4242a62d",
   "metadata": {},
   "outputs": [
    {
     "data": {
      "text/plain": [
       "<matplotlib.collections.PathCollection at 0x20a237ef400>"
      ]
     },
     "execution_count": 182,
     "metadata": {},
     "output_type": "execute_result"
    },
    {
     "data": {
      "image/png": "[encoded data removed]",
      "text/plain": [
       "<Figure size 432x288 with 1 Axes>"
      ]
     },
     "metadata": {
      "needs_background": "light"
     },
     "output_type": "display_data"
    }
   ],
   "source": [
    "plt.scatter(X.iloc[:, 0][y==0], X.iloc[:, 1][y==0], marker=\"o\", c='r', s=100)\n",
    "plt.scatter(X.iloc[:, 0][y==1], X.iloc[:, 1][y==1], marker=\"x\", c='b', s=100)"
   ]
  },
  {
   "cell_type": "code",
   "execution_count": 183,
   "id": "6f9f35f9",
   "metadata": {},
   "outputs": [],
   "source": [
    "from sklearn.linear_model import LogisticRegression"
   ]
  },
  {
   "cell_type": "code",
   "execution_count": 184,
   "id": "96347f4b",
   "metadata": {},
   "outputs": [
    {
     "data": {
      "text/plain": [
       "0.08546805381774902"
      ]
     },
     "execution_count": 184,
     "metadata": {},
     "output_type": "execute_result"
    }
   ],
   "source": [
    "t_st = time.time()\n",
    "\n",
    "logistic = LogisticRegression().fit(X, y)\n",
    "\n",
    "time_delta_log = time.time()-t_st\n",
    "time_delta_log"
   ]
  },
  {
   "cell_type": "code",
   "execution_count": 185,
   "id": "e3822372",
   "metadata": {},
   "outputs": [
    {
     "name": "stderr",
     "output_type": "stream",
     "text": [
      "C:\\Anaconda\\lib\\site-packages\\sklearn\\base.py:450: UserWarning: X does not have valid feature names, but LogisticRegression was fitted with feature names\n",
      "  warnings.warn(\n"
     ]
    },
    {
     "data": {
      "text/plain": [
       "<matplotlib.collections.PathCollection at 0x20a2491f8e0>"
      ]
     },
     "execution_count": 185,
     "metadata": {},
     "output_type": "execute_result"
    },
    {
     "data": {
      "image/png": "[encoded data removed]",
      "text/plain": [
       "<Figure size 432x288 with 1 Axes>"
      ]
     },
     "metadata": {
      "needs_background": "light"
     },
     "output_type": "display_data"
    }
   ],
   "source": [
    "xx, yy = np.meshgrid(\n",
    "    np.arange(X.min()[0], X.max()[0]+0.1, 0.01),\n",
    "    np.arange(X.min()[1], X.max()[1]+0.1, 0.01))\n",
    "XX = np.array(list(zip(xx.ravel(), yy.ravel()))).reshape((-1, 2))\n",
    "\n",
    "Z = logistic.predict(XX).reshape(xx.shape)\n",
    "\n",
    "plt.contourf(xx, yy, Z, alpha=0.4)\n",
    "plt.scatter(X.iloc[:, 0][y==0], X.iloc[:, 1][y==0], marker=\"o\", c='r', s=100)\n",
    "plt.scatter(X.iloc[:, 0][y==1], X.iloc[:, 1][y==1], marker=\"x\", c='b', s=100)"
   ]
  },
  {
   "cell_type": "code",
   "execution_count": 186,
   "id": "37af2263",
   "metadata": {},
   "outputs": [
    {
     "data": {
      "text/plain": [
       "0.832"
      ]
     },
     "execution_count": 186,
     "metadata": {},
     "output_type": "execute_result"
    }
   ],
   "source": [
    "logistic.score(X, y)"
   ]
  },
  {
   "cell_type": "code",
   "execution_count": 187,
   "id": "e37b2a1c",
   "metadata": {},
   "outputs": [],
   "source": [
    "class_transform = PolynomialFeatures(degree=3, include_bias=False)\n",
    "X_3 = class_transform.fit_transform(X)"
   ]
  },
  {
   "cell_type": "code",
   "execution_count": 188,
   "id": "3a4407ef",
   "metadata": {},
   "outputs": [
    {
     "data": {
      "text/plain": [
       "(250, 9)"
      ]
     },
     "execution_count": 188,
     "metadata": {},
     "output_type": "execute_result"
    }
   ],
   "source": [
    "X_3.shape"
   ]
  },
  {
   "cell_type": "code",
   "execution_count": 189,
   "id": "39c76a0a",
   "metadata": {},
   "outputs": [
    {
     "data": {
      "text/plain": [
       "0.034993886947631836"
      ]
     },
     "execution_count": 189,
     "metadata": {},
     "output_type": "execute_result"
    }
   ],
   "source": [
    "time_st = time.time()\n",
    "\n",
    "class_3 = LogisticRegression().fit(X_3, y)\n",
    "\n",
    "time_delta_poly3 = time.time()-time_st\n",
    "time_delta_poly3"
   ]
  },
  {
   "cell_type": "code",
   "execution_count": 190,
   "id": "424dfdf2",
   "metadata": {},
   "outputs": [
    {
     "name": "stderr",
     "output_type": "stream",
     "text": [
      "C:\\Anaconda\\lib\\site-packages\\sklearn\\base.py:450: UserWarning: X does not have valid feature names, but PolynomialFeatures was fitted with feature names\n",
      "  warnings.warn(\n"
     ]
    },
    {
     "data": {
      "text/plain": [
       "<matplotlib.collections.PathCollection at 0x20a24964490>"
      ]
     },
     "execution_count": 190,
     "metadata": {},
     "output_type": "execute_result"
    },
    {
     "data": {
      "image/png": "[encoded data removed]",
      "text/plain": [
       "<Figure size 432x288 with 1 Axes>"
      ]
     },
     "metadata": {
      "needs_background": "light"
     },
     "output_type": "display_data"
    }
   ],
   "source": [
    "Z = class_3.predict(class_transform.transform(XX)).reshape(xx.shape)\n",
    "\n",
    "plt.contourf(xx, yy, Z, alpha=0.4)\n",
    "plt.scatter(X.iloc[:, 0][y==0], X.iloc[:, 1][y==0], marker=\"o\", c='r', s=100)\n",
    "plt.scatter(X.iloc[:, 0][y==1], X.iloc[:, 1][y==1], marker=\"x\", c='b', s=100)"
   ]
  },
  {
   "cell_type": "code",
   "execution_count": 191,
   "id": "0d6c6afd",
   "metadata": {},
   "outputs": [
    {
     "data": {
      "text/plain": [
       "0.9"
      ]
     },
     "execution_count": 191,
     "metadata": {},
     "output_type": "execute_result"
    }
   ],
   "source": [
    "class_3.score(X_3, y)"
   ]
  },
  {
   "cell_type": "code",
   "execution_count": 192,
   "id": "d1e8fd14",
   "metadata": {},
   "outputs": [
    {
     "data": {
      "text/plain": [
       "(21613, 21)"
      ]
     },
     "execution_count": 192,
     "metadata": {},
     "output_type": "execute_result"
    }
   ],
   "source": [
    "data_kc_prices = pd.read_csv(\"https://raw.githubusercontent.com/koroteevmv/ML_course/2023/ML3.1%20polynomial%20features/kc_house_data.csv\")\n",
    "data_kc_prices.shape"
   ]
  },
  {
   "cell_type": "code",
   "execution_count": 193,
   "id": "2e053d72",
   "metadata": {},
   "outputs": [
    {
     "data": {
      "text/html": [
       "<div>\n",
       "<style scoped>\n",
       "    .dataframe tbody tr th:only-of-type {\n",
       "        vertical-align: middle;\n",
       "    }\n",
       "\n",
       "    .dataframe tbody tr th {\n",
       "        vertical-align: top;\n",
       "    }\n",
       "\n",
       "    .dataframe thead th {\n",
       "        text-align: right;\n",
       "    }\n",
       "</style>\n",
       "<table border=\"1\" class=\"dataframe\">\n",
       "  <thead>\n",
       "    <tr style=\"text-align: right;\">\n",
       "      <th></th>\n",
       "      <th>id</th>\n",
       "      <th>date</th>\n",
       "      <th>price</th>\n",
       "      <th>bedrooms</th>\n",
       "      <th>bathrooms</th>\n",
       "      <th>sqft_living</th>\n",
       "      <th>sqft_lot</th>\n",
       "      <th>floors</th>\n",
       "      <th>waterfront</th>\n",
       "      <th>view</th>\n",
       "      <th>...</th>\n",
       "      <th>grade</th>\n",
       "      <th>sqft_above</th>\n",
       "      <th>sqft_basement</th>\n",
       "      <th>yr_built</th>\n",
       "      <th>yr_renovated</th>\n",
       "      <th>zipcode</th>\n",
       "      <th>lat</th>\n",
       "      <th>long</th>\n",
       "      <th>sqft_living15</th>\n",
       "      <th>sqft_lot15</th>\n",
       "    </tr>\n",
       "  </thead>\n",
       "  <tbody>\n",
       "    <tr>\n",
       "      <th>0</th>\n",
       "      <td>7129300520</td>\n",
       "      <td>20141013T000000</td>\n",
       "      <td>221900.0</td>\n",
       "      <td>3</td>\n",
       "      <td>1.00</td>\n",
       "      <td>1180</td>\n",
       "      <td>5650</td>\n",
       "      <td>1.0</td>\n",
       "      <td>0</td>\n",
       "      <td>0</td>\n",
       "      <td>...</td>\n",
       "      <td>7</td>\n",
       "      <td>1180</td>\n",
       "      <td>0</td>\n",
       "      <td>1955</td>\n",
       "      <td>0</td>\n",
       "      <td>98178</td>\n",
       "      <td>47.5112</td>\n",
       "      <td>-122.257</td>\n",
       "      <td>1340</td>\n",
       "      <td>5650</td>\n",
       "    </tr>\n",
       "    <tr>\n",
       "      <th>1</th>\n",
       "      <td>6414100192</td>\n",
       "      <td>20141209T000000</td>\n",
       "      <td>538000.0</td>\n",
       "      <td>3</td>\n",
       "      <td>2.25</td>\n",
       "      <td>2570</td>\n",
       "      <td>7242</td>\n",
       "      <td>2.0</td>\n",
       "      <td>0</td>\n",
       "      <td>0</td>\n",
       "      <td>...</td>\n",
       "      <td>7</td>\n",
       "      <td>2170</td>\n",
       "      <td>400</td>\n",
       "      <td>1951</td>\n",
       "      <td>1991</td>\n",
       "      <td>98125</td>\n",
       "      <td>47.7210</td>\n",
       "      <td>-122.319</td>\n",
       "      <td>1690</td>\n",
       "      <td>7639</td>\n",
       "    </tr>\n",
       "    <tr>\n",
       "      <th>2</th>\n",
       "      <td>5631500400</td>\n",
       "      <td>20150225T000000</td>\n",
       "      <td>180000.0</td>\n",
       "      <td>2</td>\n",
       "      <td>1.00</td>\n",
       "      <td>770</td>\n",
       "      <td>10000</td>\n",
       "      <td>1.0</td>\n",
       "      <td>0</td>\n",
       "      <td>0</td>\n",
       "      <td>...</td>\n",
       "      <td>6</td>\n",
       "      <td>770</td>\n",
       "      <td>0</td>\n",
       "      <td>1933</td>\n",
       "      <td>0</td>\n",
       "      <td>98028</td>\n",
       "      <td>47.7379</td>\n",
       "      <td>-122.233</td>\n",
       "      <td>2720</td>\n",
       "      <td>8062</td>\n",
       "    </tr>\n",
       "    <tr>\n",
       "      <th>3</th>\n",
       "      <td>2487200875</td>\n",
       "      <td>20141209T000000</td>\n",
       "      <td>604000.0</td>\n",
       "      <td>4</td>\n",
       "      <td>3.00</td>\n",
       "      <td>1960</td>\n",
       "      <td>5000</td>\n",
       "      <td>1.0</td>\n",
       "      <td>0</td>\n",
       "      <td>0</td>\n",
       "      <td>...</td>\n",
       "      <td>7</td>\n",
       "      <td>1050</td>\n",
       "      <td>910</td>\n",
       "      <td>1965</td>\n",
       "      <td>0</td>\n",
       "      <td>98136</td>\n",
       "      <td>47.5208</td>\n",
       "      <td>-122.393</td>\n",
       "      <td>1360</td>\n",
       "      <td>5000</td>\n",
       "    </tr>\n",
       "    <tr>\n",
       "      <th>4</th>\n",
       "      <td>1954400510</td>\n",
       "      <td>20150218T000000</td>\n",
       "      <td>510000.0</td>\n",
       "      <td>3</td>\n",
       "      <td>2.00</td>\n",
       "      <td>1680</td>\n",
       "      <td>8080</td>\n",
       "      <td>1.0</td>\n",
       "      <td>0</td>\n",
       "      <td>0</td>\n",
       "      <td>...</td>\n",
       "      <td>8</td>\n",
       "      <td>1680</td>\n",
       "      <td>0</td>\n",
       "      <td>1987</td>\n",
       "      <td>0</td>\n",
       "      <td>98074</td>\n",
       "      <td>47.6168</td>\n",
       "      <td>-122.045</td>\n",
       "      <td>1800</td>\n",
       "      <td>7503</td>\n",
       "    </tr>\n",
       "  </tbody>\n",
       "</table>\n",
       "<p>5 rows × 21 columns</p>\n",
       "</div>"
      ],
      "text/plain": [
       "           id             date     price  bedrooms  bathrooms  sqft_living  \\\n",
       "0  7129300520  20141013T000000  221900.0         3       1.00         1180   \n",
       "1  6414100192  20141209T000000  538000.0         3       2.25         2570   \n",
       "2  5631500400  20150225T000000  180000.0         2       1.00          770   \n",
       "3  2487200875  20141209T000000  604000.0         4       3.00         1960   \n",
       "4  1954400510  20150218T000000  510000.0         3       2.00         1680   \n",
       "\n",
       "   sqft_lot  floors  waterfront  view  ...  grade  sqft_above  sqft_basement  \\\n",
       "0      5650     1.0           0     0  ...      7        1180              0   \n",
       "1      7242     2.0           0     0  ...      7        2170            400   \n",
       "2     10000     1.0           0     0  ...      6         770              0   \n",
       "3      5000     1.0           0     0  ...      7        1050            910   \n",
       "4      8080     1.0           0     0  ...      8        1680              0   \n",
       "\n",
       "   yr_built  yr_renovated  zipcode      lat     long  sqft_living15  \\\n",
       "0      1955             0    98178  47.5112 -122.257           1340   \n",
       "1      1951          1991    98125  47.7210 -122.319           1690   \n",
       "2      1933             0    98028  47.7379 -122.233           2720   \n",
       "3      1965             0    98136  47.5208 -122.393           1360   \n",
       "4      1987             0    98074  47.6168 -122.045           1800   \n",
       "\n",
       "   sqft_lot15  \n",
       "0        5650  \n",
       "1        7639  \n",
       "2        8062  \n",
       "3        5000  \n",
       "4        7503  \n",
       "\n",
       "[5 rows x 21 columns]"
      ]
     },
     "execution_count": 193,
     "metadata": {},
     "output_type": "execute_result"
    }
   ],
   "source": [
    "data_kc_prices.head()"
   ]
  },
  {
   "cell_type": "code",
   "execution_count": 194,
   "id": "67573fce",
   "metadata": {},
   "outputs": [],
   "source": [
    "y_kc_prices = data_kc_prices.price\n",
    "X_kc_prices = data_kc_prices.drop([\"id\", \"date\", \"price\"], axis=1)"
   ]
  },
  {
   "cell_type": "code",
   "execution_count": 195,
   "id": "e6d1188f",
   "metadata": {},
   "outputs": [
    {
     "data": {
      "text/plain": [
       "((21613, 18), (21613,))"
      ]
     },
     "execution_count": 195,
     "metadata": {},
     "output_type": "execute_result"
    }
   ],
   "source": [
    "X_kc_prices.shape, y_kc_prices.shape"
   ]
  },
  {
   "cell_type": "code",
   "execution_count": 196,
   "id": "5064a599",
   "metadata": {},
   "outputs": [
    {
     "data": {
      "text/plain": [
       "0.09097719192504883"
      ]
     },
     "execution_count": 196,
     "metadata": {},
     "output_type": "execute_result"
    }
   ],
   "source": [
    "time_st = time.time()\n",
    "\n",
    "reg_kc_multiple = LinearRegression().fit(X_kc_prices, y_kc_prices)\n",
    "\n",
    "time_delta_reg_kc = time.time() - time_st\n",
    "\n",
    "time_delta_reg_kc"
   ]
  },
  {
   "cell_type": "code",
   "execution_count": 197,
   "id": "32dfb284",
   "metadata": {},
   "outputs": [
    {
     "data": {
      "text/plain": [
       "0.6997471890109157"
      ]
     },
     "execution_count": 197,
     "metadata": {},
     "output_type": "execute_result"
    }
   ],
   "source": [
    "reg_kc_multiple.score(X_kc_prices, y_kc_prices)"
   ]
  },
  {
   "cell_type": "code",
   "execution_count": 198,
   "id": "fd872c2d",
   "metadata": {},
   "outputs": [
    {
     "data": {
      "text/plain": [
       "[<matplotlib.lines.Line2D at 0x20a12058610>]"
      ]
     },
     "execution_count": 198,
     "metadata": {},
     "output_type": "execute_result"
    },
    {
     "data": {
      "image/png": "[encoded data removed]",
      "text/plain": [
       "<Figure size 432x288 with 1 Axes>"
      ]
     },
     "metadata": {
      "needs_background": "light"
     },
     "output_type": "display_data"
    }
   ],
   "source": [
    "y_pred_kc_prices = reg_kc_multiple.predict(X_kc_prices)\n",
    "plt.scatter(y_pred_kc_prices, y_kc_prices)\n",
    "plt.plot(y_pred_kc_prices, y_pred_kc_prices, c='r')"
   ]
  },
  {
   "cell_type": "code",
   "execution_count": 199,
   "id": "e4c5c548",
   "metadata": {},
   "outputs": [],
   "source": [
    "X_3_kc_prices = (poly_features_kc_prices := PolynomialFeatures(degree=3)).fit_transform(X_kc_prices)"
   ]
  },
  {
   "cell_type": "code",
   "execution_count": 200,
   "id": "dbe05eb5",
   "metadata": {},
   "outputs": [
    {
     "data": {
      "text/plain": [
       "(21613, 1330)"
      ]
     },
     "execution_count": 200,
     "metadata": {},
     "output_type": "execute_result"
    }
   ],
   "source": [
    "X_3_kc_prices.shape"
   ]
  },
  {
   "cell_type": "code",
   "execution_count": 80,
   "id": "1eb6b9de",
   "metadata": {},
   "outputs": [
    {
     "data": {
      "text/plain": [
       "5.227627277374268"
      ]
     },
     "execution_count": 80,
     "metadata": {},
     "output_type": "execute_result"
    }
   ],
   "source": [
    "time_st = time.time()\n",
    "\n",
    "reg_poly2_kc = LinearRegression().fit(X_3_kc_prices, y_kc_prices)\n",
    "\n",
    "time_delta_reg_poly2_kc = time.time() - time_st\n",
    "\n",
    "time_delta_reg_poly2_kc"
   ]
  },
  {
   "cell_type": "code",
   "execution_count": 73,
   "id": "14eb424e",
   "metadata": {},
   "outputs": [
    {
     "data": {
      "text/plain": [
       "0.8641868188657003"
      ]
     },
     "execution_count": 73,
     "metadata": {},
     "output_type": "execute_result"
    }
   ],
   "source": [
    "reg_poly2_kc.score(X_3_kc_prices, y_kc_prices)"
   ]
  },
  {
   "cell_type": "code",
   "execution_count": 74,
   "id": "7e9b2c41",
   "metadata": {},
   "outputs": [
    {
     "data": {
      "text/plain": [
       "[<matplotlib.lines.Line2D at 0x20a1282ceb0>]"
      ]
     },
     "execution_count": 74,
     "metadata": {},
     "output_type": "execute_result"
    },
    {
     "data": {
      "image/png": "[encoded data removed]",
      "text/plain": [
       "<Figure size 432x288 with 1 Axes>"
      ]
     },
     "metadata": {
      "needs_background": "light"
     },
     "output_type": "display_data"
    }
   ],
   "source": [
    "y_pred_kc_prices = reg_poly2_kc.predict(X_3_kc_prices)\n",
    "plt.scatter(y_pred_kc_prices, y_kc_prices)\n",
    "plt.plot(y_pred_kc_prices, y_pred_kc_prices, c='r')"
   ]
  },
  {
   "cell_type": "markdown",
   "id": "9213b17d",
   "metadata": {},
   "source": [
    "### Задания для самостоятельного выполнения"
   ]
  },
  {
   "cell_type": "markdown",
   "id": "9b522d22",
   "metadata": {},
   "source": [
    "#### 1. В выполненной работе добавьте замер времени обучения каждой модели."
   ]
  },
  {
   "cell_type": "code",
   "execution_count": 81,
   "id": "6d4c25f2",
   "metadata": {},
   "outputs": [
    {
     "data": {
      "text/plain": [
       "0.0030007362365722656"
      ]
     },
     "execution_count": 81,
     "metadata": {},
     "output_type": "execute_result"
    }
   ],
   "source": [
    "time_delta"
   ]
  },
  {
   "cell_type": "code",
   "execution_count": 82,
   "id": "b7106197",
   "metadata": {},
   "outputs": [
    {
     "data": {
      "text/plain": [
       "0.0029981136322021484"
      ]
     },
     "execution_count": 82,
     "metadata": {},
     "output_type": "execute_result"
    }
   ],
   "source": [
    "time_delta_lin"
   ]
  },
  {
   "cell_type": "code",
   "execution_count": 83,
   "id": "284b00b7",
   "metadata": {},
   "outputs": [
    {
     "data": {
      "text/plain": [
       "0.010018587112426758"
      ]
     },
     "execution_count": 83,
     "metadata": {},
     "output_type": "execute_result"
    }
   ],
   "source": [
    "time_delta_log"
   ]
  },
  {
   "cell_type": "code",
   "execution_count": 84,
   "id": "1ec6edff",
   "metadata": {},
   "outputs": [
    {
     "data": {
      "text/plain": [
       "0.0010018348693847656"
      ]
     },
     "execution_count": 84,
     "metadata": {},
     "output_type": "execute_result"
    }
   ],
   "source": [
    "time_delta_poly2"
   ]
  },
  {
   "cell_type": "code",
   "execution_count": 85,
   "id": "cfbc2c4d",
   "metadata": {},
   "outputs": [
    {
     "data": {
      "text/plain": [
       "0.013997554779052734"
      ]
     },
     "execution_count": 85,
     "metadata": {},
     "output_type": "execute_result"
    }
   ],
   "source": [
    "time_delta_poly3"
   ]
  },
  {
   "cell_type": "code",
   "execution_count": 86,
   "id": "f823cde6",
   "metadata": {},
   "outputs": [
    {
     "data": {
      "text/plain": [
       "0.021000385284423828"
      ]
     },
     "execution_count": 86,
     "metadata": {},
     "output_type": "execute_result"
    }
   ],
   "source": [
    "time_delta_reg_kc"
   ]
  },
  {
   "cell_type": "code",
   "execution_count": 87,
   "id": "8b473c3e",
   "metadata": {},
   "outputs": [
    {
     "data": {
      "text/plain": [
       "5.227627277374268"
      ]
     },
     "execution_count": 87,
     "metadata": {},
     "output_type": "execute_result"
    }
   ],
   "source": [
    "time_delta_reg_poly2_kc"
   ]
  },
  {
   "cell_type": "markdown",
   "id": "e41dca1f",
   "metadata": {},
   "source": [
    "#### 2. На датасете \"gen_regression\" постройте модель пятого, десятого и сотого порядков. Сравните эффективность и время обучения каждой модели."
   ]
  },
  {
   "cell_type": "code",
   "execution_count": 139,
   "id": "eb743ad6",
   "metadata": {},
   "outputs": [],
   "source": [
    "data = pd.read_csv(\"https://raw.githubusercontent.com/koroteevmv/ML_course/2023/ML3.1%20polynomial%20features/gen_regression.csv\")"
   ]
  },
  {
   "cell_type": "code",
   "execution_count": 140,
   "id": "cf60433c",
   "metadata": {},
   "outputs": [
    {
     "data": {
      "text/html": [
       "<div>\n",
       "<style scoped>\n",
       "    .dataframe tbody tr th:only-of-type {\n",
       "        vertical-align: middle;\n",
       "    }\n",
       "\n",
       "    .dataframe tbody tr th {\n",
       "        vertical-align: top;\n",
       "    }\n",
       "\n",
       "    .dataframe thead th {\n",
       "        text-align: right;\n",
       "    }\n",
       "</style>\n",
       "<table border=\"1\" class=\"dataframe\">\n",
       "  <thead>\n",
       "    <tr style=\"text-align: right;\">\n",
       "      <th></th>\n",
       "      <th>Unnamed: 0</th>\n",
       "      <th>x</th>\n",
       "      <th>y</th>\n",
       "    </tr>\n",
       "  </thead>\n",
       "  <tbody>\n",
       "    <tr>\n",
       "      <th>0</th>\n",
       "      <td>0</td>\n",
       "      <td>96.597780</td>\n",
       "      <td>97761.592016</td>\n",
       "    </tr>\n",
       "    <tr>\n",
       "      <th>1</th>\n",
       "      <td>1</td>\n",
       "      <td>48.002892</td>\n",
       "      <td>27613.989207</td>\n",
       "    </tr>\n",
       "    <tr>\n",
       "      <th>2</th>\n",
       "      <td>2</td>\n",
       "      <td>47.939756</td>\n",
       "      <td>29410.187753</td>\n",
       "    </tr>\n",
       "    <tr>\n",
       "      <th>3</th>\n",
       "      <td>3</td>\n",
       "      <td>47.809026</td>\n",
       "      <td>15789.597531</td>\n",
       "    </tr>\n",
       "    <tr>\n",
       "      <th>4</th>\n",
       "      <td>4</td>\n",
       "      <td>69.784427</td>\n",
       "      <td>20953.383453</td>\n",
       "    </tr>\n",
       "  </tbody>\n",
       "</table>\n",
       "</div>"
      ],
      "text/plain": [
       "   Unnamed: 0          x             y\n",
       "0           0  96.597780  97761.592016\n",
       "1           1  48.002892  27613.989207\n",
       "2           2  47.939756  29410.187753\n",
       "3           3  47.809026  15789.597531\n",
       "4           4  69.784427  20953.383453"
      ]
     },
     "execution_count": 140,
     "metadata": {},
     "output_type": "execute_result"
    }
   ],
   "source": [
    "data.head()"
   ]
  },
  {
   "cell_type": "code",
   "execution_count": 141,
   "id": "4272d98e",
   "metadata": {},
   "outputs": [],
   "source": [
    "X = data.x\n",
    "y = data.y\n",
    "\n",
    "X = pd.DataFrame(X)"
   ]
  },
  {
   "cell_type": "code",
   "execution_count": 142,
   "id": "e3dd45fe",
   "metadata": {},
   "outputs": [
    {
     "data": {
      "text/plain": [
       "((100, 6),\n",
       " array([[1.00000000e+00, 9.65977805e+01, 9.33113119e+03, 9.01366562e+05,\n",
       "         8.70700093e+07, 8.41076964e+09],\n",
       "        [1.00000000e+00, 4.80028921e+01, 2.30427765e+03, 1.10611992e+05,\n",
       "         5.30969551e+06, 2.54880741e+08],\n",
       "        [1.00000000e+00, 4.79397558e+01, 2.29822018e+03, 1.10176114e+05,\n",
       "         5.28181602e+06, 2.53208970e+08],\n",
       "        [1.00000000e+00, 4.78090258e+01, 2.28570295e+03, 1.09277231e+05,\n",
       "         5.22443797e+06, 2.49775290e+08],\n",
       "        [1.00000000e+00, 6.97844271e+01, 4.86986627e+03, 3.39840828e+05,\n",
       "         2.37155975e+07, 1.65497938e+09]]))"
      ]
     },
     "execution_count": 142,
     "metadata": {},
     "output_type": "execute_result"
    }
   ],
   "source": [
    "transformation = PolynomialFeatures(degree=5)\n",
    "\n",
    "transformation.fit(X)\n",
    "\n",
    "X_5 = transformation.transform(X)\n",
    "\n",
    "X_5.shape,X_5[:5]"
   ]
  },
  {
   "cell_type": "code",
   "execution_count": 143,
   "id": "54619803",
   "metadata": {},
   "outputs": [
    {
     "data": {
      "text/plain": [
       "0.001999378204345703"
      ]
     },
     "execution_count": 143,
     "metadata": {},
     "output_type": "execute_result"
    }
   ],
   "source": [
    "time_st = time.time()\n",
    "\n",
    "poly_5d = LinearRegression().fit(X_5, y)\n",
    "\n",
    "time_delta_poly5 = time.time()-time_st\n",
    "time_delta_poly5"
   ]
  },
  {
   "cell_type": "code",
   "execution_count": 144,
   "id": "fd5d03e3",
   "metadata": {},
   "outputs": [
    {
     "data": {
      "text/plain": [
       "0.9217478060447022"
      ]
     },
     "execution_count": 144,
     "metadata": {},
     "output_type": "execute_result"
    }
   ],
   "source": [
    "poly_5d.score(X_5, y)"
   ]
  },
  {
   "cell_type": "code",
   "execution_count": 145,
   "id": "fd967732",
   "metadata": {},
   "outputs": [
    {
     "data": {
      "text/plain": [
       "((100, 11),\n",
       " array([[1.00000000e+00, 9.65977805e+01, 9.33113119e+03, 9.01366562e+05,\n",
       "         8.70700093e+07, 8.41076964e+09, 8.12461679e+11, 7.84819949e+13,\n",
       "         7.58118651e+15, 7.32325791e+17, 7.07410459e+19],\n",
       "        [1.00000000e+00, 4.80028921e+01, 2.30427765e+03, 1.10611992e+05,\n",
       "         5.30969551e+06, 2.54880741e+08, 1.22350127e+10, 5.87315995e+11,\n",
       "         2.81928664e+13, 1.35333912e+15, 6.49641920e+16],\n",
       "        [1.00000000e+00, 4.79397558e+01, 2.29822018e+03, 1.10176114e+05,\n",
       "         5.28181602e+06, 2.53208970e+08, 1.21387762e+10, 5.81929966e+11,\n",
       "         2.78975804e+13, 1.33740319e+15, 6.41147824e+16],\n",
       "        [1.00000000e+00, 4.78090258e+01, 2.28570295e+03, 1.09277231e+05,\n",
       "         5.22443797e+06, 2.49775290e+08, 1.19415133e+10, 5.70912117e+11,\n",
       "         2.72947521e+13, 1.30493551e+15, 6.23876955e+16],\n",
       "        [1.00000000e+00, 6.97844271e+01, 4.86986627e+03, 3.39840828e+05,\n",
       "         2.37155975e+07, 1.65497938e+09, 1.15491788e+11, 8.05952827e+12,\n",
       "         5.62429563e+14, 3.92488248e+16, 2.73895676e+18]]))"
      ]
     },
     "execution_count": 145,
     "metadata": {},
     "output_type": "execute_result"
    }
   ],
   "source": [
    "transformation = PolynomialFeatures(degree=10)\n",
    "\n",
    "transformation.fit(X)\n",
    "\n",
    "X_10 = transformation.transform(X)\n",
    "\n",
    "X_10.shape, X_10[:5]"
   ]
  },
  {
   "cell_type": "code",
   "execution_count": 146,
   "id": "35f8b43d",
   "metadata": {},
   "outputs": [
    {
     "data": {
      "text/plain": [
       "0.0010018348693847656"
      ]
     },
     "execution_count": 146,
     "metadata": {},
     "output_type": "execute_result"
    }
   ],
   "source": [
    "time_st = time.time()\n",
    "\n",
    "poly_10d = LinearRegression().fit(X_10, y)\n",
    "\n",
    "time_delta_poly10 = time.time()-time_st\n",
    "time_delta_poly10"
   ]
  },
  {
   "cell_type": "code",
   "execution_count": 147,
   "id": "1fd3ad59",
   "metadata": {},
   "outputs": [
    {
     "data": {
      "text/plain": [
       "0.9232002062570795"
      ]
     },
     "execution_count": 147,
     "metadata": {},
     "output_type": "execute_result"
    }
   ],
   "source": [
    "poly_10d.score(X_10, y)"
   ]
  },
  {
   "cell_type": "code",
   "execution_count": 148,
   "id": "4e48ed72",
   "metadata": {},
   "outputs": [
    {
     "data": {
      "text/plain": [
       "array([ 0.00000000e+00,  8.15660435e-07,  2.48375212e-07,  6.68368834e-06,\n",
       "        1.32215306e-04,  1.52343697e-03, -1.02105220e-04,  2.65933860e-06,\n",
       "       -3.39194242e-08,  2.12809704e-10, -5.25912263e-13])"
      ]
     },
     "execution_count": 148,
     "metadata": {},
     "output_type": "execute_result"
    }
   ],
   "source": [
    "poly_10d.coef_"
   ]
  },
  {
   "cell_type": "markdown",
   "id": "d5ffd890",
   "metadata": {},
   "source": [
    "#### 3. То же самое проделайте с датасетом для классификации и \"King county\"."
   ]
  },
  {
   "cell_type": "code",
   "execution_count": 152,
   "id": "59b0db98",
   "metadata": {},
   "outputs": [
    {
     "data": {
      "text/plain": [
       "(21613, 21)"
      ]
     },
     "execution_count": 152,
     "metadata": {},
     "output_type": "execute_result"
    }
   ],
   "source": [
    "data_kc_prices = pd.read_csv(\"https://raw.githubusercontent.com/koroteevmv/ML_course/2023/ML3.1%20polynomial%20features/kc_house_data.csv\")\n",
    "data_kc_prices.shape"
   ]
  },
  {
   "cell_type": "code",
   "execution_count": 153,
   "id": "1663018e",
   "metadata": {},
   "outputs": [
    {
     "data": {
      "text/html": [
       "<div>\n",
       "<style scoped>\n",
       "    .dataframe tbody tr th:only-of-type {\n",
       "        vertical-align: middle;\n",
       "    }\n",
       "\n",
       "    .dataframe tbody tr th {\n",
       "        vertical-align: top;\n",
       "    }\n",
       "\n",
       "    .dataframe thead th {\n",
       "        text-align: right;\n",
       "    }\n",
       "</style>\n",
       "<table border=\"1\" class=\"dataframe\">\n",
       "  <thead>\n",
       "    <tr style=\"text-align: right;\">\n",
       "      <th></th>\n",
       "      <th>id</th>\n",
       "      <th>date</th>\n",
       "      <th>price</th>\n",
       "      <th>bedrooms</th>\n",
       "      <th>bathrooms</th>\n",
       "      <th>sqft_living</th>\n",
       "      <th>sqft_lot</th>\n",
       "      <th>floors</th>\n",
       "      <th>waterfront</th>\n",
       "      <th>view</th>\n",
       "      <th>...</th>\n",
       "      <th>grade</th>\n",
       "      <th>sqft_above</th>\n",
       "      <th>sqft_basement</th>\n",
       "      <th>yr_built</th>\n",
       "      <th>yr_renovated</th>\n",
       "      <th>zipcode</th>\n",
       "      <th>lat</th>\n",
       "      <th>long</th>\n",
       "      <th>sqft_living15</th>\n",
       "      <th>sqft_lot15</th>\n",
       "    </tr>\n",
       "  </thead>\n",
       "  <tbody>\n",
       "    <tr>\n",
       "      <th>0</th>\n",
       "      <td>7129300520</td>\n",
       "      <td>20141013T000000</td>\n",
       "      <td>221900.0</td>\n",
       "      <td>3</td>\n",
       "      <td>1.00</td>\n",
       "      <td>1180</td>\n",
       "      <td>5650</td>\n",
       "      <td>1.0</td>\n",
       "      <td>0</td>\n",
       "      <td>0</td>\n",
       "      <td>...</td>\n",
       "      <td>7</td>\n",
       "      <td>1180</td>\n",
       "      <td>0</td>\n",
       "      <td>1955</td>\n",
       "      <td>0</td>\n",
       "      <td>98178</td>\n",
       "      <td>47.5112</td>\n",
       "      <td>-122.257</td>\n",
       "      <td>1340</td>\n",
       "      <td>5650</td>\n",
       "    </tr>\n",
       "    <tr>\n",
       "      <th>1</th>\n",
       "      <td>6414100192</td>\n",
       "      <td>20141209T000000</td>\n",
       "      <td>538000.0</td>\n",
       "      <td>3</td>\n",
       "      <td>2.25</td>\n",
       "      <td>2570</td>\n",
       "      <td>7242</td>\n",
       "      <td>2.0</td>\n",
       "      <td>0</td>\n",
       "      <td>0</td>\n",
       "      <td>...</td>\n",
       "      <td>7</td>\n",
       "      <td>2170</td>\n",
       "      <td>400</td>\n",
       "      <td>1951</td>\n",
       "      <td>1991</td>\n",
       "      <td>98125</td>\n",
       "      <td>47.7210</td>\n",
       "      <td>-122.319</td>\n",
       "      <td>1690</td>\n",
       "      <td>7639</td>\n",
       "    </tr>\n",
       "    <tr>\n",
       "      <th>2</th>\n",
       "      <td>5631500400</td>\n",
       "      <td>20150225T000000</td>\n",
       "      <td>180000.0</td>\n",
       "      <td>2</td>\n",
       "      <td>1.00</td>\n",
       "      <td>770</td>\n",
       "      <td>10000</td>\n",
       "      <td>1.0</td>\n",
       "      <td>0</td>\n",
       "      <td>0</td>\n",
       "      <td>...</td>\n",
       "      <td>6</td>\n",
       "      <td>770</td>\n",
       "      <td>0</td>\n",
       "      <td>1933</td>\n",
       "      <td>0</td>\n",
       "      <td>98028</td>\n",
       "      <td>47.7379</td>\n",
       "      <td>-122.233</td>\n",
       "      <td>2720</td>\n",
       "      <td>8062</td>\n",
       "    </tr>\n",
       "    <tr>\n",
       "      <th>3</th>\n",
       "      <td>2487200875</td>\n",
       "      <td>20141209T000000</td>\n",
       "      <td>604000.0</td>\n",
       "      <td>4</td>\n",
       "      <td>3.00</td>\n",
       "      <td>1960</td>\n",
       "      <td>5000</td>\n",
       "      <td>1.0</td>\n",
       "      <td>0</td>\n",
       "      <td>0</td>\n",
       "      <td>...</td>\n",
       "      <td>7</td>\n",
       "      <td>1050</td>\n",
       "      <td>910</td>\n",
       "      <td>1965</td>\n",
       "      <td>0</td>\n",
       "      <td>98136</td>\n",
       "      <td>47.5208</td>\n",
       "      <td>-122.393</td>\n",
       "      <td>1360</td>\n",
       "      <td>5000</td>\n",
       "    </tr>\n",
       "    <tr>\n",
       "      <th>4</th>\n",
       "      <td>1954400510</td>\n",
       "      <td>20150218T000000</td>\n",
       "      <td>510000.0</td>\n",
       "      <td>3</td>\n",
       "      <td>2.00</td>\n",
       "      <td>1680</td>\n",
       "      <td>8080</td>\n",
       "      <td>1.0</td>\n",
       "      <td>0</td>\n",
       "      <td>0</td>\n",
       "      <td>...</td>\n",
       "      <td>8</td>\n",
       "      <td>1680</td>\n",
       "      <td>0</td>\n",
       "      <td>1987</td>\n",
       "      <td>0</td>\n",
       "      <td>98074</td>\n",
       "      <td>47.6168</td>\n",
       "      <td>-122.045</td>\n",
       "      <td>1800</td>\n",
       "      <td>7503</td>\n",
       "    </tr>\n",
       "  </tbody>\n",
       "</table>\n",
       "<p>5 rows × 21 columns</p>\n",
       "</div>"
      ],
      "text/plain": [
       "           id             date     price  bedrooms  bathrooms  sqft_living  \\\n",
       "0  7129300520  20141013T000000  221900.0         3       1.00         1180   \n",
       "1  6414100192  20141209T000000  538000.0         3       2.25         2570   \n",
       "2  5631500400  20150225T000000  180000.0         2       1.00          770   \n",
       "3  2487200875  20141209T000000  604000.0         4       3.00         1960   \n",
       "4  1954400510  20150218T000000  510000.0         3       2.00         1680   \n",
       "\n",
       "   sqft_lot  floors  waterfront  view  ...  grade  sqft_above  sqft_basement  \\\n",
       "0      5650     1.0           0     0  ...      7        1180              0   \n",
       "1      7242     2.0           0     0  ...      7        2170            400   \n",
       "2     10000     1.0           0     0  ...      6         770              0   \n",
       "3      5000     1.0           0     0  ...      7        1050            910   \n",
       "4      8080     1.0           0     0  ...      8        1680              0   \n",
       "\n",
       "   yr_built  yr_renovated  zipcode      lat     long  sqft_living15  \\\n",
       "0      1955             0    98178  47.5112 -122.257           1340   \n",
       "1      1951          1991    98125  47.7210 -122.319           1690   \n",
       "2      1933             0    98028  47.7379 -122.233           2720   \n",
       "3      1965             0    98136  47.5208 -122.393           1360   \n",
       "4      1987             0    98074  47.6168 -122.045           1800   \n",
       "\n",
       "   sqft_lot15  \n",
       "0        5650  \n",
       "1        7639  \n",
       "2        8062  \n",
       "3        5000  \n",
       "4        7503  \n",
       "\n",
       "[5 rows x 21 columns]"
      ]
     },
     "execution_count": 153,
     "metadata": {},
     "output_type": "execute_result"
    }
   ],
   "source": [
    "data_kc_prices.head()"
   ]
  },
  {
   "cell_type": "code",
   "execution_count": null,
   "id": "20db2f0c",
   "metadata": {},
   "outputs": [],
   "source": [
    "y_kc_prices = data_kc_prices.price\n",
    "X_kc_prices = data_kc_prices.drop([\"id\", \"date\", \"price\"], axis=1)"
   ]
  },
  {
   "cell_type": "code",
   "execution_count": null,
   "id": "9789a664",
   "metadata": {},
   "outputs": [],
   "source": [
    "# transformation = PolynomialFeatures(degree=5)\n",
    "\n",
    "# transformation.fit(X_kc_prices)\n",
    "\n",
    "# X_5_KC = transformation.transform(X_kc_prices)\n",
    "\n",
    "# X_5_KC.shape,X_5_KC[:5]"
   ]
  },
  {
   "cell_type": "code",
   "execution_count": null,
   "id": "ad03c4f2",
   "metadata": {},
   "outputs": [],
   "source": [
    "# time_st = time.time()\n",
    "\n",
    "# poly_5d = LinearRegression().fit(X_5_KC, y)\n",
    "\n",
    "# time_delta_poly5_kc = time.time()-time_st\n",
    "# time_delta_poly5_kc"
   ]
  },
  {
   "cell_type": "markdown",
   "id": "b626f3fd",
   "metadata": {},
   "source": [
    "#### 4. Составьте таблицу эффективности разных моделей для каждой задачи. В таблице должна быть информация о времени обучения модели и получившейся точности. Сделайте вывод о целесообразности применения разных степеней полиномов."
   ]
  },
  {
   "cell_type": "code",
   "execution_count": null,
   "id": "c53d48e9",
   "metadata": {},
   "outputs": [],
   "source": []
  },
  {
   "cell_type": "markdown",
   "id": "e2d09cf8",
   "metadata": {},
   "source": [
    "#### 5. Для линейной модели в задаче о продаже домов выведите коэффициенты модели и названия соответствующих атрибутов. Сделайте вывод об относительной важности атрибутов."
   ]
  },
  {
   "cell_type": "markdown",
   "id": "e79a6bc4",
   "metadata": {},
   "source": [
    "#### 6. Попробуйте также проинтерпретировать полиномиальную модель."
   ]
  },
  {
   "cell_type": "code",
   "execution_count": null,
   "id": "653d2e09",
   "metadata": {},
   "outputs": [],
   "source": []
  }
 ],
 "metadata": {
  "kernelspec": {
   "display_name": "Python 3 (ipykernel)",
   "language": "python",
   "name": "python3"
  },
  "language_info": {
   "codemirror_mode": {
    "name": "ipython",
    "version": 3
   },
   "file_extension": ".py",
   "mimetype": "text/x-python",
   "name": "python",
   "nbconvert_exporter": "python",
   "pygments_lexer": "ipython3",
   "version": "3.9.12"
  }
 },
 "nbformat": 4,
 "nbformat_minor": 5
}
