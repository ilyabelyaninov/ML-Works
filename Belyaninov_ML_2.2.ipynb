{
 "cells": [
  {
   "cell_type": "code",
   "execution_count": 2,
   "id": "d2b04172",
   "metadata": {},
   "outputs": [],
   "source": [
    "import pandas as pd"
   ]
  },
  {
   "cell_type": "code",
   "execution_count": 3,
   "id": "d2ed3455",
   "metadata": {},
   "outputs": [],
   "source": [
    "data = pd.read_csv(\"https://raw.githubusercontent.com/koroteevmv/ML_course/2023/ML2.2%20real%20classification/data/diabetes.csv\")"
   ]
  },
  {
   "cell_type": "code",
   "execution_count": 4,
   "id": "25e6d73d",
   "metadata": {},
   "outputs": [
    {
     "data": {
      "text/html": [
       "<div>\n",
       "<style scoped>\n",
       "    .dataframe tbody tr th:only-of-type {\n",
       "        vertical-align: middle;\n",
       "    }\n",
       "\n",
       "    .dataframe tbody tr th {\n",
       "        vertical-align: top;\n",
       "    }\n",
       "\n",
       "    .dataframe thead th {\n",
       "        text-align: right;\n",
       "    }\n",
       "</style>\n",
       "<table border=\"1\" class=\"dataframe\">\n",
       "  <thead>\n",
       "    <tr style=\"text-align: right;\">\n",
       "      <th></th>\n",
       "      <th>Pregnancies</th>\n",
       "      <th>Glucose</th>\n",
       "      <th>BloodPressure</th>\n",
       "      <th>SkinThickness</th>\n",
       "      <th>Insulin</th>\n",
       "      <th>BMI</th>\n",
       "      <th>DiabetesPedigreeFunction</th>\n",
       "      <th>Age</th>\n",
       "      <th>Outcome</th>\n",
       "    </tr>\n",
       "  </thead>\n",
       "  <tbody>\n",
       "    <tr>\n",
       "      <th>0</th>\n",
       "      <td>6</td>\n",
       "      <td>148</td>\n",
       "      <td>72</td>\n",
       "      <td>35</td>\n",
       "      <td>0</td>\n",
       "      <td>33.6</td>\n",
       "      <td>0.627</td>\n",
       "      <td>50</td>\n",
       "      <td>1</td>\n",
       "    </tr>\n",
       "    <tr>\n",
       "      <th>1</th>\n",
       "      <td>1</td>\n",
       "      <td>85</td>\n",
       "      <td>66</td>\n",
       "      <td>29</td>\n",
       "      <td>0</td>\n",
       "      <td>26.6</td>\n",
       "      <td>0.351</td>\n",
       "      <td>31</td>\n",
       "      <td>0</td>\n",
       "    </tr>\n",
       "    <tr>\n",
       "      <th>2</th>\n",
       "      <td>8</td>\n",
       "      <td>183</td>\n",
       "      <td>64</td>\n",
       "      <td>0</td>\n",
       "      <td>0</td>\n",
       "      <td>23.3</td>\n",
       "      <td>0.672</td>\n",
       "      <td>32</td>\n",
       "      <td>1</td>\n",
       "    </tr>\n",
       "    <tr>\n",
       "      <th>3</th>\n",
       "      <td>1</td>\n",
       "      <td>89</td>\n",
       "      <td>66</td>\n",
       "      <td>23</td>\n",
       "      <td>94</td>\n",
       "      <td>28.1</td>\n",
       "      <td>0.167</td>\n",
       "      <td>21</td>\n",
       "      <td>0</td>\n",
       "    </tr>\n",
       "    <tr>\n",
       "      <th>4</th>\n",
       "      <td>0</td>\n",
       "      <td>137</td>\n",
       "      <td>40</td>\n",
       "      <td>35</td>\n",
       "      <td>168</td>\n",
       "      <td>43.1</td>\n",
       "      <td>2.288</td>\n",
       "      <td>33</td>\n",
       "      <td>1</td>\n",
       "    </tr>\n",
       "  </tbody>\n",
       "</table>\n",
       "</div>"
      ],
      "text/plain": [
       "   Pregnancies  Glucose  BloodPressure  SkinThickness  Insulin   BMI  \\\n",
       "0            6      148             72             35        0  33.6   \n",
       "1            1       85             66             29        0  26.6   \n",
       "2            8      183             64              0        0  23.3   \n",
       "3            1       89             66             23       94  28.1   \n",
       "4            0      137             40             35      168  43.1   \n",
       "\n",
       "   DiabetesPedigreeFunction  Age  Outcome  \n",
       "0                     0.627   50        1  \n",
       "1                     0.351   31        0  \n",
       "2                     0.672   32        1  \n",
       "3                     0.167   21        0  \n",
       "4                     2.288   33        1  "
      ]
     },
     "execution_count": 4,
     "metadata": {},
     "output_type": "execute_result"
    }
   ],
   "source": [
    "data.head()"
   ]
  },
  {
   "cell_type": "code",
   "execution_count": 5,
   "id": "f8915999",
   "metadata": {},
   "outputs": [
    {
     "name": "stdout",
     "output_type": "stream",
     "text": [
      "<class 'pandas.core.frame.DataFrame'>\n",
      "RangeIndex: 768 entries, 0 to 767\n",
      "Data columns (total 9 columns):\n",
      " #   Column                    Non-Null Count  Dtype  \n",
      "---  ------                    --------------  -----  \n",
      " 0   Pregnancies               768 non-null    int64  \n",
      " 1   Glucose                   768 non-null    int64  \n",
      " 2   BloodPressure             768 non-null    int64  \n",
      " 3   SkinThickness             768 non-null    int64  \n",
      " 4   Insulin                   768 non-null    int64  \n",
      " 5   BMI                       768 non-null    float64\n",
      " 6   DiabetesPedigreeFunction  768 non-null    float64\n",
      " 7   Age                       768 non-null    int64  \n",
      " 8   Outcome                   768 non-null    int64  \n",
      "dtypes: float64(2), int64(7)\n",
      "memory usage: 54.1 KB\n"
     ]
    }
   ],
   "source": [
    "data.info()"
   ]
  },
  {
   "cell_type": "code",
   "execution_count": 6,
   "id": "350ae1b5",
   "metadata": {},
   "outputs": [
    {
     "data": {
      "text/html": [
       "<div>\n",
       "<style scoped>\n",
       "    .dataframe tbody tr th:only-of-type {\n",
       "        vertical-align: middle;\n",
       "    }\n",
       "\n",
       "    .dataframe tbody tr th {\n",
       "        vertical-align: top;\n",
       "    }\n",
       "\n",
       "    .dataframe thead th {\n",
       "        text-align: right;\n",
       "    }\n",
       "</style>\n",
       "<table border=\"1\" class=\"dataframe\">\n",
       "  <thead>\n",
       "    <tr style=\"text-align: right;\">\n",
       "      <th></th>\n",
       "      <th>Pregnancies</th>\n",
       "      <th>Glucose</th>\n",
       "      <th>BloodPressure</th>\n",
       "      <th>SkinThickness</th>\n",
       "      <th>Insulin</th>\n",
       "      <th>BMI</th>\n",
       "      <th>DiabetesPedigreeFunction</th>\n",
       "      <th>Age</th>\n",
       "      <th>Outcome</th>\n",
       "    </tr>\n",
       "  </thead>\n",
       "  <tbody>\n",
       "    <tr>\n",
       "      <th>count</th>\n",
       "      <td>768.000000</td>\n",
       "      <td>768.000000</td>\n",
       "      <td>768.000000</td>\n",
       "      <td>768.000000</td>\n",
       "      <td>768.000000</td>\n",
       "      <td>768.000000</td>\n",
       "      <td>768.000000</td>\n",
       "      <td>768.000000</td>\n",
       "      <td>768.000000</td>\n",
       "    </tr>\n",
       "    <tr>\n",
       "      <th>mean</th>\n",
       "      <td>3.845052</td>\n",
       "      <td>120.894531</td>\n",
       "      <td>69.105469</td>\n",
       "      <td>20.536458</td>\n",
       "      <td>79.799479</td>\n",
       "      <td>31.992578</td>\n",
       "      <td>0.471876</td>\n",
       "      <td>33.240885</td>\n",
       "      <td>0.348958</td>\n",
       "    </tr>\n",
       "    <tr>\n",
       "      <th>std</th>\n",
       "      <td>3.369578</td>\n",
       "      <td>31.972618</td>\n",
       "      <td>19.355807</td>\n",
       "      <td>15.952218</td>\n",
       "      <td>115.244002</td>\n",
       "      <td>7.884160</td>\n",
       "      <td>0.331329</td>\n",
       "      <td>11.760232</td>\n",
       "      <td>0.476951</td>\n",
       "    </tr>\n",
       "    <tr>\n",
       "      <th>min</th>\n",
       "      <td>0.000000</td>\n",
       "      <td>0.000000</td>\n",
       "      <td>0.000000</td>\n",
       "      <td>0.000000</td>\n",
       "      <td>0.000000</td>\n",
       "      <td>0.000000</td>\n",
       "      <td>0.078000</td>\n",
       "      <td>21.000000</td>\n",
       "      <td>0.000000</td>\n",
       "    </tr>\n",
       "    <tr>\n",
       "      <th>25%</th>\n",
       "      <td>1.000000</td>\n",
       "      <td>99.000000</td>\n",
       "      <td>62.000000</td>\n",
       "      <td>0.000000</td>\n",
       "      <td>0.000000</td>\n",
       "      <td>27.300000</td>\n",
       "      <td>0.243750</td>\n",
       "      <td>24.000000</td>\n",
       "      <td>0.000000</td>\n",
       "    </tr>\n",
       "    <tr>\n",
       "      <th>50%</th>\n",
       "      <td>3.000000</td>\n",
       "      <td>117.000000</td>\n",
       "      <td>72.000000</td>\n",
       "      <td>23.000000</td>\n",
       "      <td>30.500000</td>\n",
       "      <td>32.000000</td>\n",
       "      <td>0.372500</td>\n",
       "      <td>29.000000</td>\n",
       "      <td>0.000000</td>\n",
       "    </tr>\n",
       "    <tr>\n",
       "      <th>75%</th>\n",
       "      <td>6.000000</td>\n",
       "      <td>140.250000</td>\n",
       "      <td>80.000000</td>\n",
       "      <td>32.000000</td>\n",
       "      <td>127.250000</td>\n",
       "      <td>36.600000</td>\n",
       "      <td>0.626250</td>\n",
       "      <td>41.000000</td>\n",
       "      <td>1.000000</td>\n",
       "    </tr>\n",
       "    <tr>\n",
       "      <th>max</th>\n",
       "      <td>17.000000</td>\n",
       "      <td>199.000000</td>\n",
       "      <td>122.000000</td>\n",
       "      <td>99.000000</td>\n",
       "      <td>846.000000</td>\n",
       "      <td>67.100000</td>\n",
       "      <td>2.420000</td>\n",
       "      <td>81.000000</td>\n",
       "      <td>1.000000</td>\n",
       "    </tr>\n",
       "  </tbody>\n",
       "</table>\n",
       "</div>"
      ],
      "text/plain": [
       "       Pregnancies     Glucose  BloodPressure  SkinThickness     Insulin  \\\n",
       "count   768.000000  768.000000     768.000000     768.000000  768.000000   \n",
       "mean      3.845052  120.894531      69.105469      20.536458   79.799479   \n",
       "std       3.369578   31.972618      19.355807      15.952218  115.244002   \n",
       "min       0.000000    0.000000       0.000000       0.000000    0.000000   \n",
       "25%       1.000000   99.000000      62.000000       0.000000    0.000000   \n",
       "50%       3.000000  117.000000      72.000000      23.000000   30.500000   \n",
       "75%       6.000000  140.250000      80.000000      32.000000  127.250000   \n",
       "max      17.000000  199.000000     122.000000      99.000000  846.000000   \n",
       "\n",
       "              BMI  DiabetesPedigreeFunction         Age     Outcome  \n",
       "count  768.000000                768.000000  768.000000  768.000000  \n",
       "mean    31.992578                  0.471876   33.240885    0.348958  \n",
       "std      7.884160                  0.331329   11.760232    0.476951  \n",
       "min      0.000000                  0.078000   21.000000    0.000000  \n",
       "25%     27.300000                  0.243750   24.000000    0.000000  \n",
       "50%     32.000000                  0.372500   29.000000    0.000000  \n",
       "75%     36.600000                  0.626250   41.000000    1.000000  \n",
       "max     67.100000                  2.420000   81.000000    1.000000  "
      ]
     },
     "execution_count": 6,
     "metadata": {},
     "output_type": "execute_result"
    }
   ],
   "source": [
    "data.describe()"
   ]
  },
  {
   "cell_type": "code",
   "execution_count": 8,
   "id": "bb40af77",
   "metadata": {},
   "outputs": [
    {
     "data": {
      "text/plain": [
       "((768,), (768, 8))"
      ]
     },
     "execution_count": 8,
     "metadata": {},
     "output_type": "execute_result"
    }
   ],
   "source": [
    "y = data.Outcome\n",
    "X = data.drop([\"Outcome\"], axis=1)\n",
    "y.shape, X.shape"
   ]
  },
  {
   "cell_type": "code",
   "execution_count": 9,
   "id": "0b9d20d7",
   "metadata": {},
   "outputs": [
    {
     "name": "stderr",
     "output_type": "stream",
     "text": [
      "C:\\Anaconda\\lib\\site-packages\\sklearn\\linear_model\\_logistic.py:814: ConvergenceWarning: lbfgs failed to converge (status=1):\n",
      "STOP: TOTAL NO. of ITERATIONS REACHED LIMIT.\n",
      "\n",
      "Increase the number of iterations (max_iter) or scale the data as shown in:\n",
      "    https://scikit-learn.org/stable/modules/preprocessing.html\n",
      "Please also refer to the documentation for alternative solver options:\n",
      "    https://scikit-learn.org/stable/modules/linear_model.html#logistic-regression\n",
      "  n_iter_i = _check_optimize_result(\n"
     ]
    },
    {
     "data": {
      "text/plain": [
       "LogisticRegression()"
      ]
     },
     "execution_count": 9,
     "metadata": {},
     "output_type": "execute_result"
    }
   ],
   "source": [
    "from sklearn.linear_model import LogisticRegression\n",
    "logistic = LogisticRegression()\n",
    "logistic.fit(X, y)"
   ]
  },
  {
   "cell_type": "code",
   "execution_count": 10,
   "id": "17329b48",
   "metadata": {},
   "outputs": [
    {
     "name": "stdout",
     "output_type": "stream",
     "text": [
      "Coefficients: \n",
      " [ 1.17252335e-01  3.35998236e-02 -1.40873814e-02 -1.27048489e-03\n",
      " -1.24032044e-03  7.72023595e-02  1.41904166e+00  1.00353805e-02]\n"
     ]
    }
   ],
   "source": [
    "print(\"Coefficients: \\n\", logistic.coef_[0])"
   ]
  },
  {
   "cell_type": "code",
   "execution_count": 11,
   "id": "756e9457",
   "metadata": {},
   "outputs": [
    {
     "name": "stdout",
     "output_type": "stream",
     "text": [
      "Pregnancies 0.11725233532587193\n",
      "Glucose 0.03359982355513219\n",
      "BloodPressure -0.014087381375314834\n",
      "SkinThickness -0.0012704848887338878\n",
      "Insulin -0.0012403204425827387\n",
      "BMI 0.0772023595410882\n",
      "DiabetesPedigreeFunction 1.4190416580357113\n",
      "Age 0.01003538052704967\n"
     ]
    }
   ],
   "source": [
    "_ = [print(k, v) for k, v in zip(X.columns, logistic.coef_[0])]"
   ]
  },
  {
   "cell_type": "code",
   "execution_count": 12,
   "id": "f2f8fb81",
   "metadata": {},
   "outputs": [
    {
     "name": "stdout",
     "output_type": "stream",
     "text": [
      "Intercept: \n",
      " [-7.70291206]\n"
     ]
    }
   ],
   "source": [
    "print(\"Intercept: \\n\", logistic.intercept_)"
   ]
  },
  {
   "cell_type": "code",
   "execution_count": 13,
   "id": "ea5ddb73",
   "metadata": {},
   "outputs": [
    {
     "name": "stdout",
     "output_type": "stream",
     "text": [
      "1 1\n",
      "0 0\n",
      "1 1\n",
      "0 0\n",
      "1 1\n",
      "0 0\n",
      "1 0\n",
      "0 1\n",
      "1 1\n",
      "1 0\n"
     ]
    }
   ],
   "source": [
    "y_pred = logistic.predict(X)\n",
    "_ = [print(a, b) for a, b in list(zip(y, y_pred))[:10]]"
   ]
  },
  {
   "cell_type": "code",
   "execution_count": 14,
   "id": "68c762f5",
   "metadata": {},
   "outputs": [
    {
     "data": {
      "text/plain": [
       "array([[447,  53],\n",
       "       [114, 154]], dtype=int64)"
      ]
     },
     "execution_count": 14,
     "metadata": {},
     "output_type": "execute_result"
    }
   ],
   "source": [
    "from sklearn import metrics\n",
    "metrics.confusion_matrix(y, y_pred)"
   ]
  },
  {
   "cell_type": "code",
   "execution_count": 15,
   "id": "3c817655",
   "metadata": {},
   "outputs": [
    {
     "data": {
      "text/plain": [
       "<AxesSubplot:>"
      ]
     },
     "execution_count": 15,
     "metadata": {},
     "output_type": "execute_result"
    },
    {
     "data": {
      "image/png": "[encoded data removed]",
      "text/plain": [
       "<Figure size 432x288 with 2 Axes>"
      ]
     },
     "metadata": {
      "needs_background": "light"
     },
     "output_type": "display_data"
    }
   ],
   "source": [
    "import seaborn as sns\n",
    "sns.heatmap(metrics.confusion_matrix(y, y_pred), annot=True)"
   ]
  },
  {
   "cell_type": "code",
   "execution_count": 16,
   "id": "27eec7fd",
   "metadata": {},
   "outputs": [
    {
     "data": {
      "text/plain": [
       "0.7825520833333334"
      ]
     },
     "execution_count": 16,
     "metadata": {},
     "output_type": "execute_result"
    }
   ],
   "source": [
    "logistic.score(X, y)"
   ]
  },
  {
   "cell_type": "code",
   "execution_count": 18,
   "id": "de3e118c",
   "metadata": {},
   "outputs": [
    {
     "data": {
      "text/plain": [
       "0.7825520833333334"
      ]
     },
     "execution_count": 18,
     "metadata": {},
     "output_type": "execute_result"
    }
   ],
   "source": [
    "metrics.accuracy_score(y, y_pred)"
   ]
  },
  {
   "cell_type": "code",
   "execution_count": 19,
   "id": "9e2997b3",
   "metadata": {},
   "outputs": [],
   "source": [
    "from sklearn.preprocessing import PolynomialFeatures"
   ]
  },
  {
   "cell_type": "code",
   "execution_count": 20,
   "id": "fc68b412",
   "metadata": {},
   "outputs": [],
   "source": [
    "poly = PolynomialFeatures(2)"
   ]
  },
  {
   "cell_type": "code",
   "execution_count": 21,
   "id": "e858ae4e",
   "metadata": {},
   "outputs": [
    {
     "data": {
      "text/plain": [
       "array([[1.00000e+00, 6.00000e+00, 1.48000e+02, ..., 3.93129e-01,\n",
       "        3.13500e+01, 2.50000e+03],\n",
       "       [1.00000e+00, 1.00000e+00, 8.50000e+01, ..., 1.23201e-01,\n",
       "        1.08810e+01, 9.61000e+02],\n",
       "       [1.00000e+00, 8.00000e+00, 1.83000e+02, ..., 4.51584e-01,\n",
       "        2.15040e+01, 1.02400e+03],\n",
       "       ...,\n",
       "       [1.00000e+00, 5.00000e+00, 1.21000e+02, ..., 6.00250e-02,\n",
       "        7.35000e+00, 9.00000e+02],\n",
       "       [1.00000e+00, 1.00000e+00, 1.26000e+02, ..., 1.21801e-01,\n",
       "        1.64030e+01, 2.20900e+03],\n",
       "       [1.00000e+00, 1.00000e+00, 9.30000e+01, ..., 9.92250e-02,\n",
       "        7.24500e+00, 5.29000e+02]])"
      ]
     },
     "execution_count": 21,
     "metadata": {},
     "output_type": "execute_result"
    }
   ],
   "source": [
    "poly = poly.fit_transform(X)\n",
    "poly"
   ]
  },
  {
   "cell_type": "code",
   "execution_count": 22,
   "id": "b2afec78",
   "metadata": {},
   "outputs": [
    {
     "name": "stderr",
     "output_type": "stream",
     "text": [
      "C:\\Anaconda\\lib\\site-packages\\sklearn\\linear_model\\_logistic.py:814: ConvergenceWarning: lbfgs failed to converge (status=1):\n",
      "STOP: TOTAL NO. of ITERATIONS REACHED LIMIT.\n",
      "\n",
      "Increase the number of iterations (max_iter) or scale the data as shown in:\n",
      "    https://scikit-learn.org/stable/modules/preprocessing.html\n",
      "Please also refer to the documentation for alternative solver options:\n",
      "    https://scikit-learn.org/stable/modules/linear_model.html#logistic-regression\n",
      "  n_iter_i = _check_optimize_result(\n"
     ]
    }
   ],
   "source": [
    "polynomial = LogisticRegression()\n",
    "polynomial.fit(poly, y)\n",
    "y_pred_poly = polynomial.predict(poly)"
   ]
  },
  {
   "cell_type": "code",
   "execution_count": 24,
   "id": "eb97a6b4",
   "metadata": {},
   "outputs": [
    {
     "name": "stdout",
     "output_type": "stream",
     "text": [
      "Coefficients: \n",
      " [-8.30812233e-06 -8.19440204e-06 -5.15353695e-04 -2.62604838e-04\n",
      " -8.01723588e-05 -2.74842924e-04 -1.25452277e-04 -1.07295729e-06\n",
      " -1.28668592e-04  6.93194358e-05  4.56839612e-04  5.37486317e-04\n",
      "  1.20103684e-04  5.64352728e-05  1.62799863e-04  8.35807597e-06\n",
      "  6.88809620e-05  1.66752510e-04 -6.19488313e-06 -7.45612245e-06\n",
      " -5.12867633e-05  9.18256911e-05  7.93198740e-05 -6.21287237e-04\n",
      " -7.72035530e-04 -1.99387427e-04  7.14791649e-05  2.40670836e-04\n",
      "  6.34472132e-05  1.24528452e-03  3.96244716e-05  1.98894572e-04\n",
      " -6.54716896e-05  3.88293433e-05  1.49919612e-04  3.60053134e-06\n",
      " -2.95406408e-04 -1.09801505e-04  1.40390920e-04  1.22203994e-04\n",
      "  3.22591453e-05  7.03048297e-05  7.25609500e-07  2.47604293e-05\n",
      " -4.53484096e-04]\n"
     ]
    }
   ],
   "source": [
    "print(\"Coefficients: \\n\", polynomial.coef_[0])"
   ]
  },
  {
   "cell_type": "code",
   "execution_count": 30,
   "id": "9e7f8668",
   "metadata": {},
   "outputs": [
    {
     "name": "stdout",
     "output_type": "stream",
     "text": [
      "Pregnancies -8.308122334021955e-06\n",
      "Glucose -8.194402039155719e-06\n",
      "BloodPressure -0.0005153536950228874\n",
      "SkinThickness -0.00026260483809398055\n",
      "Insulin -8.017235879319873e-05\n",
      "BMI -0.00027484292381955316\n",
      "DiabetesPedigreeFunction -0.00012545227673394893\n",
      "Age -1.0729572947866596e-06\n"
     ]
    }
   ],
   "source": [
    "_ = [print(k, v) for k, v in zip(X.columns, polynomial.coef_[0])]"
   ]
  },
  {
   "cell_type": "code",
   "execution_count": 35,
   "id": "96c1c42e",
   "metadata": {},
   "outputs": [
    {
     "name": "stdout",
     "output_type": "stream",
     "text": [
      "1 0\n",
      "0 0\n",
      "1 1\n",
      "0 0\n",
      "1 1\n",
      "0 0\n",
      "1 0\n",
      "0 1\n",
      "1 1\n",
      "1 0\n"
     ]
    }
   ],
   "source": [
    "y_pred = polynomial.predict(poly)\n",
    "_ = [print(a, b) for a, b in list(zip(y, y_pred))[:10]]"
   ]
  },
  {
   "cell_type": "code",
   "execution_count": 36,
   "id": "f65c4696",
   "metadata": {},
   "outputs": [
    {
     "data": {
      "text/plain": [
       "array([[411,  89],\n",
       "       [127, 141]], dtype=int64)"
      ]
     },
     "execution_count": 36,
     "metadata": {},
     "output_type": "execute_result"
    }
   ],
   "source": [
    "from sklearn import metrics\n",
    "metrics.confusion_matrix(y, y_pred)"
   ]
  },
  {
   "cell_type": "code",
   "execution_count": 37,
   "id": "5deeb054",
   "metadata": {},
   "outputs": [
    {
     "data": {
      "text/plain": [
       "<AxesSubplot:>"
      ]
     },
     "execution_count": 37,
     "metadata": {},
     "output_type": "execute_result"
    },
    {
     "data": {
      "image/png": "[encoded data removed]",
      "text/plain": [
       "<Figure size 432x288 with 2 Axes>"
      ]
     },
     "metadata": {
      "needs_background": "light"
     },
     "output_type": "display_data"
    }
   ],
   "source": [
    "import seaborn as sns\n",
    "sns.heatmap(metrics.confusion_matrix(y, y_pred), annot=True)"
   ]
  },
  {
   "cell_type": "code",
   "execution_count": 38,
   "id": "596e41cf",
   "metadata": {},
   "outputs": [
    {
     "data": {
      "text/plain": [
       "0.71875"
      ]
     },
     "execution_count": 38,
     "metadata": {},
     "output_type": "execute_result"
    }
   ],
   "source": [
    "metrics.accuracy_score(y, y_pred)"
   ]
  },
  {
   "cell_type": "markdown",
   "id": "f4c72476",
   "metadata": {},
   "source": [
    "### 1. Изучите документацию sklearn, посвященную классу LogisticRegression. Какую еще информацию можно вывести для обученной модели? Попробуйте изменить аргументы при создании модели и посмотрите, как это влияет на качество предсказания."
   ]
  },
  {
   "cell_type": "code",
   "execution_count": 110,
   "id": "b78ae69a",
   "metadata": {},
   "outputs": [
    {
     "name": "stdout",
     "output_type": "stream",
     "text": [
      "Accuracy model 1: 0.7466666666666667\n",
      "Accuracy model 2: 0.78\n",
      "Accuracy model 3: 0.76\n"
     ]
    }
   ],
   "source": [
    "from sklearn.linear_model import LogisticRegression\n",
    "from sklearn.datasets import make_classification\n",
    "from sklearn.model_selection import train_test_split\n",
    "from sklearn.metrics import r2_score, mean_squared_error\n",
    "import warnings\n",
    "warnings.filterwarnings('ignore')\n",
    "\n",
    "X,y = make_classification (n_samples=1000,\n",
    "                          n_features=6,\n",
    "                          n_informative=6,\n",
    "                          n_redundant=0,\n",
    "                          n_classes=6,\n",
    "                          class_sep=2,\n",
    "                          random_state=0)\n",
    "\n",
    "X_train, X_test, y_train, y_test = train_test_split(X, y, test_size=0.15, random_state=0)\n",
    "\n",
    "model_1 = LogisticRegression(C=1.0, solver='liblinear')\n",
    "model_2 = LogisticRegression(C=0.5, solver='lbfgs') #solver по умолчанию\n",
    "model_3 = LogisticRegression(C=0.01, solver='lbfgs')\n",
    "\n",
    "model_1.fit(X_train, y_train)\n",
    "model_2.fit(X_train, y_train)\n",
    "model_3.fit(X_train, y_train)\n",
    "\n",
    "accuracy_model_1 = model_1.score(X_test, y_test)\n",
    "accuracy_model_2 = model_2.score(X_test, y_test)\n",
    "accuracy_model_3 = model_3.score(X_test, y_test)\n",
    "\n",
    "print(f\"Accuracy model 1: {accuracy_model_1}\")\n",
    "print(f\"Accuracy model 2: {accuracy_model_2}\")\n",
    "print(f\"Accuracy model 3: {accuracy_model_3}\")"
   ]
  },
  {
   "cell_type": "code",
   "execution_count": 111,
   "id": "b5adbcd9",
   "metadata": {},
   "outputs": [
    {
     "data": {
      "text/plain": [
       "0.6231316271345229"
      ]
     },
     "execution_count": 111,
     "metadata": {},
     "output_type": "execute_result"
    }
   ],
   "source": [
    "r2_score(model_2.predict(X_test), y_test)"
   ]
  },
  {
   "cell_type": "code",
   "execution_count": 112,
   "id": "6abcf2fb",
   "metadata": {},
   "outputs": [
    {
     "data": {
      "text/plain": [
       "1.18"
      ]
     },
     "execution_count": 112,
     "metadata": {},
     "output_type": "execute_result"
    }
   ],
   "source": [
    "mean_squared_error(model_2.predict(X_test), y_test)"
   ]
  },
  {
   "cell_type": "markdown",
   "id": "239d9e67",
   "metadata": {},
   "source": [
    "### 2.Попробуйте применить к той же задаче другие модели классификации. Для каждой из них выведите матрицу классификации и оценку точности. Рекомендуется исследовать следующие модели:\n",
    "###### Метод опорных векторов\n",
    "Без ядра\\\n",
    "С линейным ядром\\\n",
    "С гауссовым ядром\\\n",
    "С полиномиальным ядром\n",
    "###### Метод ближайших соседей\n",
    "###### Многослойный перцептрон\n",
    "###### Дерево решений\n",
    "###### Наивный байесовский классификатор\n",
    "###### (*) Другие методы:\n",
    "Пассивно-агрессивный классификатор\\\n",
    "Гребневый классификатор\\\n",
    "Случайный лес\\\n",
    "Беггинг"
   ]
  },
  {
   "cell_type": "code",
   "execution_count": 116,
   "id": "fa59d9d3",
   "metadata": {},
   "outputs": [
    {
     "name": "stdout",
     "output_type": "stream",
     "text": [
      "Accuracy SVM without Kernel: 0.94\n",
      "Confusion Matrix SVM without Kernel:\n",
      "[[32  1  0  0  1  0]\n",
      " [ 0 20  0  0  0  0]\n",
      " [ 0  0 24  0  0  1]\n",
      " [ 2  0  0 24  0  0]\n",
      " [ 0  0  0  0 20  1]\n",
      " [ 0  0  2  0  1 21]]\n",
      "Accuracy SVM with Linear Kernel: 0.8266666666666667\n",
      "Confusion Matrix SVM with Linear Kernel:\n",
      "[[31  2  0  0  1  0]\n",
      " [ 2 16  0  1  0  1]\n",
      " [ 1  0 23  0  0  1]\n",
      " [ 3  5  0 18  0  0]\n",
      " [ 0  0  0  0 19  2]\n",
      " [ 0  1  2  0  4 17]]\n",
      "Accuracy SVM with Polynomial Kernel: 0.92\n",
      "Confusion Matrix SVM with Polynomial Kernel:\n",
      "[[31  2  0  0  1  0]\n",
      " [ 0 20  0  0  0  0]\n",
      " [ 0  0 24  0  0  1]\n",
      " [ 1  3  0 22  0  0]\n",
      " [ 0  0  1  0 19  1]\n",
      " [ 0  0  2  0  0 22]]\n",
      "Accuracy SVM with Gaussian Kernel: 0.94\n",
      "Confusion Matrix SVM with Gaussian Kernel:\n",
      "[[32  1  0  0  1  0]\n",
      " [ 0 20  0  0  0  0]\n",
      " [ 0  0 24  0  0  1]\n",
      " [ 2  0  0 24  0  0]\n",
      " [ 0  0  0  0 20  1]\n",
      " [ 0  0  2  0  1 21]]\n",
      "Accuracy SVM with Sigmoid Kernel: 0.5\n",
      "Confusion Matrix SVM with Sigmoid Kernel:\n",
      "[[20  7  1  5  1  0]\n",
      " [ 4 12  1  1  1  1]\n",
      " [ 5  2 14  0  2  2]\n",
      " [10  5  4  7  0  0]\n",
      " [ 0  1  0  1 13  6]\n",
      " [ 2  2  3  0  8  9]]\n"
     ]
    }
   ],
   "source": [
    "from sklearn.svm import SVC\n",
    "from sklearn.metrics import accuracy_score, confusion_matrix\n",
    "from sklearn.datasets import make_classification\n",
    "from sklearn.model_selection import train_test_split\n",
    "\n",
    "X,y = make_classification (n_samples=1000,\n",
    "                          n_features=6,\n",
    "                          n_informative=6,\n",
    "                          n_redundant=0,\n",
    "                          n_classes=6,\n",
    "                          class_sep=2,\n",
    "                          random_state=0)\n",
    "\n",
    "X_train, X_test, y_train, y_test = train_test_split(X, y, test_size=0.15, random_state=0)\n",
    "\n",
    "# без ядра\n",
    "svm_ = SVC()\n",
    "svm_.fit(X_train, y_train)\n",
    "pred_ = svm_.predict(X_test)\n",
    "accuracy_ = accuracy_score(y_test, pred_)\n",
    "conf_matrix = confusion_matrix(y_test, pred_)\n",
    "print(f\"Accuracy SVM without Kernel: {accuracy_}\")\n",
    "print(\"Confusion Matrix SVM without Kernel:\")\n",
    "print(conf_matrix)\n",
    "\n",
    "# с линейным ядром\n",
    "svm_linear = SVC(kernel='linear')\n",
    "svm_linear.fit(X_train, y_train)\n",
    "pred_linear = svm_linear.predict(X_test)\n",
    "accuracy_linear = accuracy_score(y_test, pred_linear)\n",
    "conf_matrix_linear = confusion_matrix(y_test, pred_linear)\n",
    "print(f\"Accuracy SVM with Linear Kernel: {accuracy_linear}\")\n",
    "print(\"Confusion Matrix SVM with Linear Kernel:\")\n",
    "print(conf_matrix_linear)\n",
    "\n",
    "# с полиномиальным ядром\n",
    "svm_poly = SVC(kernel='poly')\n",
    "svm_poly.fit(X_train, y_train)\n",
    "pred_poly = svm_poly.predict(X_test)\n",
    "accuracy_poly = accuracy_score(y_test, pred_poly)\n",
    "conf_matrix_poly = confusion_matrix(y_test, pred_poly)\n",
    "print(f\"Accuracy SVM with Polynomial Kernel: {accuracy_poly}\")\n",
    "print(\"Confusion Matrix SVM with Polynomial Kernel:\")\n",
    "print(conf_matrix_poly)\n",
    "\n",
    "# с гауссовым ядром\n",
    "svm_rbf = SVC(kernel='rbf')\n",
    "svm_rbf.fit(X_train, y_train)\n",
    "pred_rbf = svm_rbf.predict(X_test)\n",
    "accuracy_rbf = accuracy_score(y_test, pred_rbf)\n",
    "conf_matrix_rbf = confusion_matrix(y_test, pred_rbf)\n",
    "print(f\"Accuracy SVM with Gaussian Kernel: {accuracy_rbf}\")\n",
    "print(\"Confusion Matrix SVM with Gaussian Kernel:\")\n",
    "print(conf_matrix_rbf)\n",
    "\n",
    "# с сигмоидным ядром\n",
    "svm_sigma = SVC(kernel='sigmoid')\n",
    "svm_sigma.fit(X_train, y_train)\n",
    "pred_sigma = svm_sigma.predict(X_test)\n",
    "accuracy_sigma = accuracy_score(y_test, pred_sigma)\n",
    "conf_matrix_sigma = confusion_matrix(y_test, pred_sigma)\n",
    "print(f\"Accuracy SVM with Sigmoid Kernel: {accuracy_sigma}\")\n",
    "print(\"Confusion Matrix SVM with Sigmoid Kernel:\")\n",
    "print(conf_matrix_sigma)"
   ]
  },
  {
   "cell_type": "markdown",
   "id": "6832cc1c",
   "metadata": {},
   "source": [
    "#### Метод ближайших соседей"
   ]
  },
  {
   "cell_type": "code",
   "execution_count": 117,
   "id": "2dec4df5",
   "metadata": {},
   "outputs": [
    {
     "name": "stdout",
     "output_type": "stream",
     "text": [
      "1 0.94\n",
      "2 0.9333333333333333\n",
      "5 0.9466666666666667\n",
      "8 0.9533333333333334\n",
      "10 0.9466666666666667\n",
      "15 0.94\n",
      "25 0.9466666666666667\n",
      "40 0.9333333333333333\n",
      "55 0.92\n"
     ]
    }
   ],
   "source": [
    "from sklearn.neighbors import KNeighborsClassifier\n",
    "\n",
    "for n in [1, 2, 5, 8, 10, 15, 25, 40, 55]:\n",
    "    neigh = KNeighborsClassifier(n_neighbors=n)\n",
    "    neigh.fit(X_train, y_train)\n",
    "    pred_neigh = neigh.predict(X_test)\n",
    "    accuracy = accuracy_score(y_test, pred_neigh)\n",
    "    conf_matrix = confusion_matrix(y_test, pred_neigh)\n",
    "    print(n, accuracy)"
   ]
  },
  {
   "cell_type": "code",
   "execution_count": 118,
   "id": "87bf2d24",
   "metadata": {},
   "outputs": [
    {
     "name": "stdout",
     "output_type": "stream",
     "text": [
      "0.9533333333333334\n",
      "[[32  1  0  0  1  0]\n",
      " [ 0 20  0  0  0  0]\n",
      " [ 0  0 24  0  0  1]\n",
      " [ 0  1  0 25  0  0]\n",
      " [ 0  0  0  0 21  0]\n",
      " [ 0  0  2  0  1 21]]\n"
     ]
    }
   ],
   "source": [
    "neigh = KNeighborsClassifier(n_neighbors=8)\n",
    "neigh.fit(X_train, y_train)\n",
    "pred_neigh = neigh.predict(X_test)\n",
    "accuracy = accuracy_score(y_test, pred_neigh)\n",
    "conf_matrix = confusion_matrix(y_test, pred_neigh)\n",
    "print(accuracy)\n",
    "print(conf_matrix)"
   ]
  },
  {
   "cell_type": "markdown",
   "id": "7cb60049",
   "metadata": {},
   "source": [
    "#### Многослойный перцептрон"
   ]
  },
  {
   "cell_type": "code",
   "execution_count": 119,
   "id": "de9115b3",
   "metadata": {},
   "outputs": [
    {
     "name": "stdout",
     "output_type": "stream",
     "text": [
      "0.5333333333333333\n",
      "0.88\n",
      "0.9333333333333333\n",
      "0.9333333333333333\n",
      "0.94\n",
      "0.9466666666666667\n",
      "0.9533333333333334\n",
      "0.9533333333333334\n"
     ]
    }
   ],
   "source": [
    "from sklearn.neural_network import MLPClassifier\n",
    "\n",
    "for h in [2, 10, 30, 50, 100, 150, 200, 300]:\n",
    "    mlp = MLPClassifier(hidden_layer_sizes=(h, ), max_iter=300)\n",
    "    mlp.fit(X_train, y_train)\n",
    "    pred_mlp = mlp.predict(X_test)\n",
    "    accuracy = accuracy_score(y_test, pred_mlp)\n",
    "    conf_matrix = confusion_matrix(y_test, pred_mlp)\n",
    "    print(accuracy)"
   ]
  },
  {
   "cell_type": "code",
   "execution_count": 121,
   "id": "3f7876dc",
   "metadata": {},
   "outputs": [
    {
     "name": "stdout",
     "output_type": "stream",
     "text": [
      "0.9533333333333334\n",
      "[[32  1  0  0  1  0]\n",
      " [ 0 20  0  0  0  0]\n",
      " [ 0  0 23  0  0  2]\n",
      " [ 0  0  0 26  0  0]\n",
      " [ 0  0  0  0 20  1]\n",
      " [ 0  0  1  0  1 22]]\n"
     ]
    }
   ],
   "source": [
    "mlp = MLPClassifier(hidden_layer_sizes=(200, ), max_iter=300)\n",
    "mlp.fit(X_train, y_train)\n",
    "pred_mlp = mlp.predict(X_test)\n",
    "accuracy = accuracy_score(y_test, pred_mlp)\n",
    "conf_matrix = confusion_matrix(y_test, pred_mlp)\n",
    "print(accuracy)\n",
    "print(conf_matrix)"
   ]
  },
  {
   "cell_type": "markdown",
   "id": "e8d99dfd",
   "metadata": {},
   "source": [
    "#### Дерево решений"
   ]
  },
  {
   "cell_type": "code",
   "execution_count": 122,
   "id": "9e13ca88",
   "metadata": {},
   "outputs": [
    {
     "name": "stdout",
     "output_type": "stream",
     "text": [
      "0.8733333333333333\n",
      "[[31  2  0  0  1  0]\n",
      " [ 1 17  0  0  0  2]\n",
      " [ 2  1 19  0  1  2]\n",
      " [ 1  1  0 24  0  0]\n",
      " [ 1  0  0  1 18  1]\n",
      " [ 0  1  1  0  0 22]]\n"
     ]
    }
   ],
   "source": [
    "from sklearn.tree import DecisionTreeClassifier\n",
    "\n",
    "dt = DecisionTreeClassifier()\n",
    "dt.fit(X_train, y_train)\n",
    "pred_dt = dt.predict(X_test)\n",
    "accuracy = accuracy_score(y_test, pred_dt)\n",
    "conf_matrix = confusion_matrix(y_test, pred_dt)\n",
    "print(accuracy)\n",
    "print(conf_matrix)"
   ]
  },
  {
   "cell_type": "markdown",
   "id": "c0459b8d",
   "metadata": {},
   "source": [
    "#### Наивный байесовский классификатор"
   ]
  },
  {
   "cell_type": "code",
   "execution_count": 123,
   "id": "12ec822a",
   "metadata": {},
   "outputs": [
    {
     "name": "stdout",
     "output_type": "stream",
     "text": [
      "0.7333333333333333\n",
      "[[29  3  0  1  1  0]\n",
      " [ 5 12  0  1  0  2]\n",
      " [ 0  0 23  0  2  0]\n",
      " [ 6  1  1 16  2  0]\n",
      " [ 0  0  0  0 16  5]\n",
      " [ 0  0  2  0  8 14]]\n"
     ]
    }
   ],
   "source": [
    "from sklearn.naive_bayes import GaussianNB\n",
    "\n",
    "nb = GaussianNB()\n",
    "nb.fit(X_train, y_train)\n",
    "pred_nb = nb.predict(X_test)\n",
    "accuracy = accuracy_score(y_test, pred_nb)\n",
    "conf_matrix = confusion_matrix(y_test, pred_nb)\n",
    "print(accuracy)\n",
    "print(conf_matrix)"
   ]
  },
  {
   "cell_type": "markdown",
   "id": "d78e625a",
   "metadata": {},
   "source": [
    "#### (*) Другие методы:\n",
    "Пассивно-агрессивный классификатор\\\n",
    "Гребневый классификатор\\\n",
    "Случайный лес\\\n",
    "Беггинг"
   ]
  },
  {
   "cell_type": "code",
   "execution_count": 124,
   "id": "4b3f5608",
   "metadata": {},
   "outputs": [
    {
     "name": "stdout",
     "output_type": "stream",
     "text": [
      "Accuracy Passive Aggressive Classifier: 0.5933333333333334\n",
      "Confusion Matrix Passive Aggressive Classifier:\n",
      "[[26  2  1  2  1  2]\n",
      " [ 1 13  0  1  1  4]\n",
      " [ 7  0 18  0  0  0]\n",
      " [ 9  3  0 10  4  0]\n",
      " [ 0  0  1  0 20  0]\n",
      " [ 3  1  5  0 13  2]]\n",
      "Accuracy Ridge Classifier: 0.7333333333333333\n",
      "Confusion Matrix Ridge Classifier:\n",
      "[[24  2  6  1  1  0]\n",
      " [ 4 14  0  0  1  1]\n",
      " [ 3  0 20  0  2  0]\n",
      " [ 5  3  0 17  1  0]\n",
      " [ 0  0  0  0 18  3]\n",
      " [ 0  1  2  0  4 17]]\n",
      "Accuracy Random Forest Classifier: 0.9\n",
      "Confusion Matrix Random Forest Classifier:\n",
      "[[32  1  0  0  1  0]\n",
      " [ 0 16  0  2  1  1]\n",
      " [ 1  0 22  0  0  2]\n",
      " [ 1  1  0 24  0  0]\n",
      " [ 0  0  0  0 20  1]\n",
      " [ 0  0  2  0  1 21]]\n",
      "Accuracy Bagging Classifier: 0.8666666666666667\n",
      "Confusion Matrix Bagging Classifier:\n",
      "[[30  3  0  0  1  0]\n",
      " [ 0 16  0  2  0  2]\n",
      " [ 0  1 22  0  0  2]\n",
      " [ 1  2  0 22  1  0]\n",
      " [ 1  0  0  1 18  1]\n",
      " [ 0  0  2  0  0 22]]\n"
     ]
    }
   ],
   "source": [
    "from sklearn.linear_model import PassiveAggressiveClassifier, RidgeClassifier\n",
    "from sklearn.ensemble import RandomForestClassifier, BaggingClassifier\n",
    "\n",
    "# пассивно-агрессивный классификатор\n",
    "pac = PassiveAggressiveClassifier()\n",
    "pac.fit(X_train, y_train)\n",
    "pred_pac = pac.predict(X_test)\n",
    "accuracy_pac = accuracy_score(y_test, pred_pac)\n",
    "conf_matrix_pac = confusion_matrix(y_test, pred_pac)\n",
    "print(f\"Accuracy Passive Aggressive Classifier: {accuracy_pac}\")\n",
    "print(\"Confusion Matrix Passive Aggressive Classifier:\")\n",
    "print(conf_matrix_pac)\n",
    "\n",
    "# гребневый классификатор\n",
    "ridge = RidgeClassifier()\n",
    "ridge.fit(X_train, y_train)\n",
    "pred_ridge = ridge.predict(X_test)\n",
    "accuracy_ridge = accuracy_score(y_test, pred_ridge)\n",
    "conf_matrix_ridge = confusion_matrix(y_test, pred_ridge)\n",
    "print(f\"Accuracy Ridge Classifier: {accuracy_ridge}\")\n",
    "print(\"Confusion Matrix Ridge Classifier:\")\n",
    "print(conf_matrix_ridge)\n",
    "\n",
    "# случайный лес\n",
    "rf = RandomForestClassifier()\n",
    "rf.fit(X_train, y_train)\n",
    "pred_rf = rf.predict(X_test)\n",
    "accuracy_rf = accuracy_score(y_test, pred_rf)\n",
    "conf_matrix_rf = confusion_matrix(y_test, pred_rf)\n",
    "print(f\"Accuracy Random Forest Classifier: {accuracy_rf}\")\n",
    "print(\"Confusion Matrix Random Forest Classifier:\")\n",
    "print(conf_matrix_rf)\n",
    "\n",
    "# бэггинг\n",
    "bagging = BaggingClassifier()\n",
    "bagging.fit(X_train, y_train)\n",
    "pred_bagging = bagging.predict(X_test)\n",
    "accuracy_bagging = accuracy_score(y_test, pred_bagging)\n",
    "conf_matrix_bagging = confusion_matrix(y_test, pred_bagging)\n",
    "print(f\"Accuracy Bagging Classifier: {accuracy_bagging}\")\n",
    "print(\"Confusion Matrix Bagging Classifier:\")\n",
    "print(conf_matrix_bagging)"
   ]
  },
  {
   "cell_type": "markdown",
   "id": "9ed777d8",
   "metadata": {},
   "source": [
    "### 3.Напишите функцию, которая автоматически обучает все перечисленные модели и для каждой выдает оценку точности."
   ]
  },
  {
   "cell_type": "code",
   "execution_count": 125,
   "id": "decdcc56",
   "metadata": {},
   "outputs": [
    {
     "name": "stdout",
     "output_type": "stream",
     "text": [
      "Accuracy SVM without Kernel: 0.94\n",
      "Accuracy SVM with Linear Kernel: 0.8266666666666667\n",
      "Accuracy SVM with Gaussian Kernel: 0.94\n",
      "Accuracy SVM with Polynomial Kernel: 0.92\n",
      "Accuracy KNeighbors Classifier: 0.9466666666666667\n",
      "Accuracy MLP Classifier: 0.9333333333333333\n",
      "Accuracy Decision Tree Classifier: 0.8666666666666667\n",
      "Accuracy GaussianNB Classifier: 0.7333333333333333\n",
      "Accuracy Passive Aggressive Classifier: 0.6466666666666666\n",
      "Accuracy Ridge Classifier: 0.7333333333333333\n",
      "Accuracy Random Forest Classifier: 0.9066666666666666\n",
      "Accuracy Bagging Classifier: 0.8666666666666667\n"
     ]
    }
   ],
   "source": [
    "X,y = make_classification (n_samples=1000,\n",
    "                          n_features=6,\n",
    "                          n_informative=6,\n",
    "                          n_redundant=0,\n",
    "                          n_classes=6,\n",
    "                          class_sep=2,\n",
    "                          random_state=0)\n",
    "\n",
    "\n",
    "def train_models(X, y):\n",
    "    X_train, X_test, y_train, y_test = train_test_split(X, y, test_size=0.15, random_state=0)\n",
    "    \n",
    "    models = {\n",
    "        'SVM without Kernel': SVC(),\n",
    "        'SVM with Linear Kernel': SVC(kernel='linear'),\n",
    "        'SVM with Gaussian Kernel': SVC(kernel='rbf'),\n",
    "        'SVM with Polynomial Kernel': SVC(kernel='poly'),\n",
    "        'KNeighbors Classifier': KNeighborsClassifier(),\n",
    "        'MLP Classifier': MLPClassifier(),\n",
    "        'Decision Tree Classifier': DecisionTreeClassifier(),\n",
    "        'GaussianNB Classifier': GaussianNB(),\n",
    "        'Passive Aggressive Classifier': PassiveAggressiveClassifier(),\n",
    "        'Ridge Classifier': RidgeClassifier(),\n",
    "        'Random Forest Classifier': RandomForestClassifier(),\n",
    "        'Bagging Classifier': BaggingClassifier()\n",
    "    }\n",
    "    \n",
    "    results = {}\n",
    "    for name, model in models.items():\n",
    "        model.fit(X_train, y_train)\n",
    "        predictions = model.predict(X_test)\n",
    "        accuracy = accuracy_score(y_test, predictions)\n",
    "        results[name] = accuracy\n",
    "        \n",
    "    return results\n",
    "\n",
    "accuracy_results = train_models(X, y)\n",
    "\n",
    "for model, accuracy in accuracy_results.items():\n",
    "    print(f\"Accuracy {model}: {accuracy}\")"
   ]
  },
  {
   "cell_type": "markdown",
   "id": "190354eb",
   "metadata": {},
   "source": [
    "### 4.Повторите полностью анализ для другой задачи - распознавание вида ириса по параметрам растения (можно использовать метод sklearn.datasets.load_iris())."
   ]
  },
  {
   "cell_type": "code",
   "execution_count": 126,
   "id": "4f1a35b5",
   "metadata": {},
   "outputs": [
    {
     "name": "stdout",
     "output_type": "stream",
     "text": [
      "Accuracy SVM without Kernel: 1.0\n",
      "Accuracy SVM with Linear Kernel: 1.0\n",
      "Accuracy SVM with Gaussian Kernel: 1.0\n",
      "Accuracy SVM with Polynomial Kernel: 1.0\n",
      "Accuracy KNeighbors Classifier: 0.9565217391304348\n",
      "Accuracy MLP Classifier: 0.9565217391304348\n",
      "Accuracy Decision Tree Classifier: 1.0\n",
      "Accuracy GaussianNB Classifier: 0.9565217391304348\n",
      "Accuracy Passive Aggressive Classifier: 0.9130434782608695\n",
      "Accuracy Ridge Classifier: 0.7391304347826086\n",
      "Accuracy Random Forest Classifier: 1.0\n",
      "Accuracy Bagging Classifier: 1.0\n"
     ]
    }
   ],
   "source": [
    "from sklearn.datasets import load_iris\n",
    "\n",
    "iris = load_iris()\n",
    "\n",
    "X_train, X_test, y_train, y_test = train_test_split(iris.data, iris.target, test_size=0.15, random_state=0)\n",
    "\n",
    "accuracy_results = train_models(X, y)\n",
    "\n",
    "for model, accuracy in results.items():\n",
    "    print(f\"Accuracy {model}: {accuracy}\")"
   ]
  },
  {
   "cell_type": "code",
   "execution_count": null,
   "id": "d86d28ba",
   "metadata": {},
   "outputs": [],
   "source": []
  }
 ],
 "metadata": {
  "kernelspec": {
   "display_name": "Python 3 (ipykernel)",
   "language": "python",
   "name": "python3"
  },
  "language_info": {
   "codemirror_mode": {
    "name": "ipython",
    "version": 3
   },
   "file_extension": ".py",
   "mimetype": "text/x-python",
   "name": "python",
   "nbconvert_exporter": "python",
   "pygments_lexer": "ipython3",
   "version": "3.9.12"
  }
 },
 "nbformat": 4,
 "nbformat_minor": 5
}
