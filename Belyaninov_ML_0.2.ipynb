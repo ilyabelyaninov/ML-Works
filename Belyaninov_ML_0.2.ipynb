{
 "cells": [
  {
   "cell_type": "markdown",
   "metadata": {},
   "source": [
    "# Простой анализ данных"
   ]
  },
  {
   "cell_type": "markdown",
   "metadata": {},
   "source": [
    "Студент: Белянинов Илья Витальевич\\\n",
    "Группа: ПМ22-1"
   ]
  },
  {
   "cell_type": "markdown",
   "metadata": {},
   "source": [
    "## Задания для самостоятельного решения"
   ]
  },
  {
   "cell_type": "code",
   "execution_count": 1,
   "metadata": {
    "id": "9Fk4wWjQdVKV"
   },
   "outputs": [],
   "source": [
    "import pandas as pd\n",
    "import numpy as np\n",
    "import matplotlib.pyplot as plt\n",
    "import seaborn as sns"
   ]
  },
  {
   "cell_type": "markdown",
   "metadata": {
    "id": "wgdhBytBqB_Q"
   },
   "source": [
    "### 1. Загрузите данные по вариантам в ноутбук."
   ]
  },
  {
   "cell_type": "code",
   "execution_count": 2,
   "metadata": {
    "colab": {
     "base_uri": "https://localhost:8080/",
     "height": 478
    },
    "id": "C3nVada3dmRp",
    "outputId": "3cf6ca77-3758-4652-d83d-bcf45ff67314"
   },
   "outputs": [
    {
     "data": {
      "text/html": [
       "<div>\n",
       "<style scoped>\n",
       "    .dataframe tbody tr th:only-of-type {\n",
       "        vertical-align: middle;\n",
       "    }\n",
       "\n",
       "    .dataframe tbody tr th {\n",
       "        vertical-align: top;\n",
       "    }\n",
       "\n",
       "    .dataframe thead th {\n",
       "        text-align: right;\n",
       "    }\n",
       "</style>\n",
       "<table border=\"1\" class=\"dataframe\">\n",
       "  <thead>\n",
       "    <tr style=\"text-align: right;\">\n",
       "      <th></th>\n",
       "      <th>№</th>\n",
       "      <th>№ школы</th>\n",
       "      <th>Класс</th>\n",
       "      <th>Пол</th>\n",
       "      <th>Номер варианта</th>\n",
       "      <th>Задания с кратким ответом</th>\n",
       "      <th>Задания с развёрнутым ответом</th>\n",
       "      <th>Устная часть</th>\n",
       "      <th>Первичный балл</th>\n",
       "      <th>Балл</th>\n",
       "      <th>Минимальный балл</th>\n",
       "    </tr>\n",
       "  </thead>\n",
       "  <tbody>\n",
       "    <tr>\n",
       "      <th>0</th>\n",
       "      <td>1</td>\n",
       "      <td>152</td>\n",
       "      <td>11</td>\n",
       "      <td>М</td>\n",
       "      <td>333</td>\n",
       "      <td>----001---00---000--1-+0---</td>\n",
       "      <td>0(3)0(3)0(3)0(3)0(3)</td>\n",
       "      <td>NaN</td>\n",
       "      <td>3</td>\n",
       "      <td>10</td>\n",
       "      <td>36</td>\n",
       "    </tr>\n",
       "    <tr>\n",
       "      <th>1</th>\n",
       "      <td>2</td>\n",
       "      <td>140</td>\n",
       "      <td>12</td>\n",
       "      <td>Ж</td>\n",
       "      <td>332</td>\n",
       "      <td>----100---01-+-000--0--1---</td>\n",
       "      <td>0(3)0(3)0(3)0(3)0(3)</td>\n",
       "      <td>NaN</td>\n",
       "      <td>4</td>\n",
       "      <td>14</td>\n",
       "      <td>36</td>\n",
       "    </tr>\n",
       "    <tr>\n",
       "      <th>2</th>\n",
       "      <td>3</td>\n",
       "      <td>137</td>\n",
       "      <td>11</td>\n",
       "      <td>М</td>\n",
       "      <td>328</td>\n",
       "      <td>--+-010---00---101--0--1---</td>\n",
       "      <td>0(3)0(3)0(3)0(3)0(3)</td>\n",
       "      <td>NaN</td>\n",
       "      <td>5</td>\n",
       "      <td>17</td>\n",
       "      <td>36</td>\n",
       "    </tr>\n",
       "    <tr>\n",
       "      <th>3</th>\n",
       "      <td>4</td>\n",
       "      <td>148</td>\n",
       "      <td>11</td>\n",
       "      <td>М</td>\n",
       "      <td>333</td>\n",
       "      <td>-+--000--+01---100--0--1---</td>\n",
       "      <td>0(3)0(3)0(3)0(3)0(3)</td>\n",
       "      <td>NaN</td>\n",
       "      <td>5</td>\n",
       "      <td>17</td>\n",
       "      <td>36</td>\n",
       "    </tr>\n",
       "    <tr>\n",
       "      <th>4</th>\n",
       "      <td>5</td>\n",
       "      <td>153</td>\n",
       "      <td>11</td>\n",
       "      <td>Ж</td>\n",
       "      <td>333</td>\n",
       "      <td>-+--100---00---100-+0--1---</td>\n",
       "      <td>0(3)0(3)0(3)0(3)0(3)</td>\n",
       "      <td>NaN</td>\n",
       "      <td>5</td>\n",
       "      <td>17</td>\n",
       "      <td>36</td>\n",
       "    </tr>\n",
       "    <tr>\n",
       "      <th>...</th>\n",
       "      <td>...</td>\n",
       "      <td>...</td>\n",
       "      <td>...</td>\n",
       "      <td>...</td>\n",
       "      <td>...</td>\n",
       "      <td>...</td>\n",
       "      <td>...</td>\n",
       "      <td>...</td>\n",
       "      <td>...</td>\n",
       "      <td>...</td>\n",
       "      <td>...</td>\n",
       "    </tr>\n",
       "    <tr>\n",
       "      <th>1175</th>\n",
       "      <td>1176</td>\n",
       "      <td>148</td>\n",
       "      <td>11</td>\n",
       "      <td>М</td>\n",
       "      <td>332</td>\n",
       "      <td>++++222+++22+++222++2++2+++</td>\n",
       "      <td>3(3)3(3)3(3)3(3)2(3)</td>\n",
       "      <td>NaN</td>\n",
       "      <td>51</td>\n",
       "      <td>98</td>\n",
       "      <td>36</td>\n",
       "    </tr>\n",
       "    <tr>\n",
       "      <th>1176</th>\n",
       "      <td>1177</td>\n",
       "      <td>148</td>\n",
       "      <td>11</td>\n",
       "      <td>М</td>\n",
       "      <td>330</td>\n",
       "      <td>++++222+++22+++222++2++2+++</td>\n",
       "      <td>3(3)3(3)3(3)3(3)2(3)</td>\n",
       "      <td>NaN</td>\n",
       "      <td>51</td>\n",
       "      <td>98</td>\n",
       "      <td>36</td>\n",
       "    </tr>\n",
       "    <tr>\n",
       "      <th>1177</th>\n",
       "      <td>1178</td>\n",
       "      <td>152</td>\n",
       "      <td>11</td>\n",
       "      <td>Ж</td>\n",
       "      <td>330</td>\n",
       "      <td>++++222+++22+++222++2++2+++</td>\n",
       "      <td>3(3)3(3)3(3)2(3)3(3)</td>\n",
       "      <td>NaN</td>\n",
       "      <td>51</td>\n",
       "      <td>98</td>\n",
       "      <td>36</td>\n",
       "    </tr>\n",
       "    <tr>\n",
       "      <th>1178</th>\n",
       "      <td>1179</td>\n",
       "      <td>147</td>\n",
       "      <td>11</td>\n",
       "      <td>М</td>\n",
       "      <td>332</td>\n",
       "      <td>++++222+++22+++222++2++2+++</td>\n",
       "      <td>3(3)3(3)3(3)3(3)3(3)</td>\n",
       "      <td>NaN</td>\n",
       "      <td>52</td>\n",
       "      <td>100</td>\n",
       "      <td>36</td>\n",
       "    </tr>\n",
       "    <tr>\n",
       "      <th>1179</th>\n",
       "      <td>1180</td>\n",
       "      <td>148</td>\n",
       "      <td>11</td>\n",
       "      <td>М</td>\n",
       "      <td>328</td>\n",
       "      <td>++++222+++22+++222++2++2+++</td>\n",
       "      <td>3(3)3(3)3(3)3(3)3(3)</td>\n",
       "      <td>NaN</td>\n",
       "      <td>52</td>\n",
       "      <td>100</td>\n",
       "      <td>36</td>\n",
       "    </tr>\n",
       "  </tbody>\n",
       "</table>\n",
       "<p>1180 rows × 11 columns</p>\n",
       "</div>"
      ],
      "text/plain": [
       "         №  № школы Класс Пол  Номер варианта    Задания с кратким ответом  \\\n",
       "0        1      152    11   М             333  ----001---00---000--1-+0---   \n",
       "1        2      140    12   Ж             332  ----100---01-+-000--0--1---   \n",
       "2        3      137    11   М             328  --+-010---00---101--0--1---   \n",
       "3        4      148    11   М             333  -+--000--+01---100--0--1---   \n",
       "4        5      153    11   Ж             333  -+--100---00---100-+0--1---   \n",
       "...    ...      ...   ...  ..             ...                          ...   \n",
       "1175  1176      148    11   М             332  ++++222+++22+++222++2++2+++   \n",
       "1176  1177      148    11   М             330  ++++222+++22+++222++2++2+++   \n",
       "1177  1178      152    11   Ж             330  ++++222+++22+++222++2++2+++   \n",
       "1178  1179      147    11   М             332  ++++222+++22+++222++2++2+++   \n",
       "1179  1180      148    11   М             328  ++++222+++22+++222++2++2+++   \n",
       "\n",
       "     Задания с развёрнутым ответом  Устная часть  Первичный балл  Балл  \\\n",
       "0             0(3)0(3)0(3)0(3)0(3)           NaN               3    10   \n",
       "1             0(3)0(3)0(3)0(3)0(3)           NaN               4    14   \n",
       "2             0(3)0(3)0(3)0(3)0(3)           NaN               5    17   \n",
       "3             0(3)0(3)0(3)0(3)0(3)           NaN               5    17   \n",
       "4             0(3)0(3)0(3)0(3)0(3)           NaN               5    17   \n",
       "...                            ...           ...             ...   ...   \n",
       "1175          3(3)3(3)3(3)3(3)2(3)           NaN              51    98   \n",
       "1176          3(3)3(3)3(3)3(3)2(3)           NaN              51    98   \n",
       "1177          3(3)3(3)3(3)2(3)3(3)           NaN              51    98   \n",
       "1178          3(3)3(3)3(3)3(3)3(3)           NaN              52   100   \n",
       "1179          3(3)3(3)3(3)3(3)3(3)           NaN              52   100   \n",
       "\n",
       "      Минимальный балл  \n",
       "0                   36  \n",
       "1                   36  \n",
       "2                   36  \n",
       "3                   36  \n",
       "4                   36  \n",
       "...                ...  \n",
       "1175                36  \n",
       "1176                36  \n",
       "1177                36  \n",
       "1178                36  \n",
       "1179                36  \n",
       "\n",
       "[1180 rows x 11 columns]"
      ]
     },
     "execution_count": 2,
     "metadata": {},
     "output_type": "execute_result"
    }
   ],
   "source": [
    "df = pd.read_excel('Вариант 3.xlsx', skiprows = 2, skipfooter=1)\n",
    "df"
   ]
  },
  {
   "cell_type": "markdown",
   "metadata": {
    "id": "2c1h-c0krkKj"
   },
   "source": [
    "### 2. Сделайте описательную статистику полученных данных."
   ]
  },
  {
   "cell_type": "code",
   "execution_count": 3,
   "metadata": {},
   "outputs": [
    {
     "name": "stdout",
     "output_type": "stream",
     "text": [
      "<class 'pandas.core.frame.DataFrame'>\n",
      "RangeIndex: 1180 entries, 0 to 1179\n",
      "Data columns (total 11 columns):\n",
      " #   Column                         Non-Null Count  Dtype  \n",
      "---  ------                         --------------  -----  \n",
      " 0   №                              1180 non-null   int64  \n",
      " 1   № школы                        1180 non-null   int64  \n",
      " 2   Класс                          1180 non-null   object \n",
      " 3   Пол                            1180 non-null   object \n",
      " 4   Номер варианта                 1180 non-null   int64  \n",
      " 5   Задания с кратким ответом      1180 non-null   object \n",
      " 6   Задания с развёрнутым ответом  1180 non-null   object \n",
      " 7   Устная часть                   0 non-null      float64\n",
      " 8   Первичный балл                 1180 non-null   int64  \n",
      " 9   Балл                           1180 non-null   int64  \n",
      " 10  Минимальный балл               1180 non-null   int64  \n",
      "dtypes: float64(1), int64(6), object(4)\n",
      "memory usage: 101.5+ KB\n"
     ]
    }
   ],
   "source": [
    "df.info()"
   ]
  },
  {
   "cell_type": "code",
   "execution_count": 4,
   "metadata": {
    "colab": {
     "base_uri": "https://localhost:8080/"
    },
    "id": "0tMvzZSyfjGq",
    "outputId": "0da9edcf-4748-4236-c7d5-99681034dcf0"
   },
   "outputs": [
    {
     "data": {
      "text/html": [
       "<div>\n",
       "<style scoped>\n",
       "    .dataframe tbody tr th:only-of-type {\n",
       "        vertical-align: middle;\n",
       "    }\n",
       "\n",
       "    .dataframe tbody tr th {\n",
       "        vertical-align: top;\n",
       "    }\n",
       "\n",
       "    .dataframe thead th {\n",
       "        text-align: right;\n",
       "    }\n",
       "</style>\n",
       "<table border=\"1\" class=\"dataframe\">\n",
       "  <thead>\n",
       "    <tr style=\"text-align: right;\">\n",
       "      <th></th>\n",
       "      <th>№</th>\n",
       "      <th>№ школы</th>\n",
       "      <th>Номер варианта</th>\n",
       "      <th>Устная часть</th>\n",
       "      <th>Первичный балл</th>\n",
       "      <th>Балл</th>\n",
       "      <th>Минимальный балл</th>\n",
       "    </tr>\n",
       "  </thead>\n",
       "  <tbody>\n",
       "    <tr>\n",
       "      <th>count</th>\n",
       "      <td>1180.000000</td>\n",
       "      <td>1180.000000</td>\n",
       "      <td>1180.000000</td>\n",
       "      <td>0.0</td>\n",
       "      <td>1180.000000</td>\n",
       "      <td>1180.000000</td>\n",
       "      <td>1180.0</td>\n",
       "    </tr>\n",
       "    <tr>\n",
       "      <th>mean</th>\n",
       "      <td>590.500000</td>\n",
       "      <td>141.312712</td>\n",
       "      <td>329.559322</td>\n",
       "      <td>NaN</td>\n",
       "      <td>23.699153</td>\n",
       "      <td>52.047458</td>\n",
       "      <td>36.0</td>\n",
       "    </tr>\n",
       "    <tr>\n",
       "      <th>std</th>\n",
       "      <td>340.780966</td>\n",
       "      <td>30.796792</td>\n",
       "      <td>39.578149</td>\n",
       "      <td>NaN</td>\n",
       "      <td>10.480897</td>\n",
       "      <td>14.965477</td>\n",
       "      <td>0.0</td>\n",
       "    </tr>\n",
       "    <tr>\n",
       "      <th>min</th>\n",
       "      <td>1.000000</td>\n",
       "      <td>111.000000</td>\n",
       "      <td>101.000000</td>\n",
       "      <td>NaN</td>\n",
       "      <td>3.000000</td>\n",
       "      <td>10.000000</td>\n",
       "      <td>36.0</td>\n",
       "    </tr>\n",
       "    <tr>\n",
       "      <th>25%</th>\n",
       "      <td>295.750000</td>\n",
       "      <td>133.000000</td>\n",
       "      <td>329.000000</td>\n",
       "      <td>NaN</td>\n",
       "      <td>15.000000</td>\n",
       "      <td>41.000000</td>\n",
       "      <td>36.0</td>\n",
       "    </tr>\n",
       "    <tr>\n",
       "      <th>50%</th>\n",
       "      <td>590.500000</td>\n",
       "      <td>146.000000</td>\n",
       "      <td>330.000000</td>\n",
       "      <td>NaN</td>\n",
       "      <td>22.000000</td>\n",
       "      <td>49.000000</td>\n",
       "      <td>36.0</td>\n",
       "    </tr>\n",
       "    <tr>\n",
       "      <th>75%</th>\n",
       "      <td>885.250000</td>\n",
       "      <td>152.000000</td>\n",
       "      <td>332.000000</td>\n",
       "      <td>NaN</td>\n",
       "      <td>31.250000</td>\n",
       "      <td>60.250000</td>\n",
       "      <td>36.0</td>\n",
       "    </tr>\n",
       "    <tr>\n",
       "      <th>max</th>\n",
       "      <td>1180.000000</td>\n",
       "      <td>1106.000000</td>\n",
       "      <td>506.000000</td>\n",
       "      <td>NaN</td>\n",
       "      <td>52.000000</td>\n",
       "      <td>100.000000</td>\n",
       "      <td>36.0</td>\n",
       "    </tr>\n",
       "  </tbody>\n",
       "</table>\n",
       "</div>"
      ],
      "text/plain": [
       "                 №      № школы  Номер варианта  Устная часть  Первичный балл  \\\n",
       "count  1180.000000  1180.000000     1180.000000           0.0     1180.000000   \n",
       "mean    590.500000   141.312712      329.559322           NaN       23.699153   \n",
       "std     340.780966    30.796792       39.578149           NaN       10.480897   \n",
       "min       1.000000   111.000000      101.000000           NaN        3.000000   \n",
       "25%     295.750000   133.000000      329.000000           NaN       15.000000   \n",
       "50%     590.500000   146.000000      330.000000           NaN       22.000000   \n",
       "75%     885.250000   152.000000      332.000000           NaN       31.250000   \n",
       "max    1180.000000  1106.000000      506.000000           NaN       52.000000   \n",
       "\n",
       "              Балл  Минимальный балл  \n",
       "count  1180.000000            1180.0  \n",
       "mean     52.047458              36.0  \n",
       "std      14.965477               0.0  \n",
       "min      10.000000              36.0  \n",
       "25%      41.000000              36.0  \n",
       "50%      49.000000              36.0  \n",
       "75%      60.250000              36.0  \n",
       "max     100.000000              36.0  "
      ]
     },
     "execution_count": 4,
     "metadata": {},
     "output_type": "execute_result"
    }
   ],
   "source": [
    "descr = df.describe()\n",
    "descr"
   ]
  },
  {
   "cell_type": "markdown",
   "metadata": {
    "id": "zHGHQZhZrpzw"
   },
   "source": [
    "### 3. Найдите процент учащихся, выполнивших работу ниже среднего."
   ]
  },
  {
   "cell_type": "code",
   "execution_count": 5,
   "metadata": {
    "colab": {
     "base_uri": "https://localhost:8080/"
    },
    "id": "CW5CeVCqn1z6",
    "outputId": "630a7b85-9b26-408e-f8b7-e39eaaaa054b"
   },
   "outputs": [
    {
     "name": "stdout",
     "output_type": "stream",
     "text": [
      "Процент учащихся, выполнивших работу ниже среднего - 56.2712 %\n"
     ]
    }
   ],
   "source": [
    "print(f\"Процент учащихся, выполнивших работу ниже среднего - {round(len(df.loc[df['Балл'] < df['Балл'].mean()]) / len(df) * 100, 4)} %\")"
   ]
  },
  {
   "cell_type": "markdown",
   "metadata": {
    "id": "K_L-IV0IszrY"
   },
   "source": [
    "### 4. Найти процент учащихся не сдавших экзамен."
   ]
  },
  {
   "cell_type": "code",
   "execution_count": 6,
   "metadata": {
    "colab": {
     "base_uri": "https://localhost:8080/"
    },
    "id": "Rb2_fvCZp9QC",
    "outputId": "43c25ae6-fcec-44b1-d424-597f29b4be3f"
   },
   "outputs": [
    {
     "name": "stdout",
     "output_type": "stream",
     "text": [
      "Процент учащихся не сдавших экзамен - 7.7119 %\n"
     ]
    }
   ],
   "source": [
    "print(f\"Процент учащихся не сдавших экзамен - {round(len(df.loc[df['Балл'] < df['Минимальный балл'].mean()]) / len(df) * 100, 4)} %\")"
   ]
  },
  {
   "cell_type": "markdown",
   "metadata": {
    "id": "lgo_KE3Js5Hx"
   },
   "source": [
    "5. Постройте круговую диаграмму, показывающую распределение сдавших и не сдавших экзамен."
   ]
  },
  {
   "cell_type": "code",
   "execution_count": 7,
   "metadata": {
    "colab": {
     "base_uri": "https://localhost:8080/",
     "height": 521
    },
    "id": "161qid6ts7Yg",
    "outputId": "cfeb787f-b416-47c4-9df6-24b7f5972499"
   },
   "outputs": [
    {
     "data": {
      "text/html": [
       "<div>\n",
       "<style scoped>\n",
       "    .dataframe tbody tr th:only-of-type {\n",
       "        vertical-align: middle;\n",
       "    }\n",
       "\n",
       "    .dataframe tbody tr th {\n",
       "        vertical-align: top;\n",
       "    }\n",
       "\n",
       "    .dataframe thead th {\n",
       "        text-align: right;\n",
       "    }\n",
       "</style>\n",
       "<table border=\"1\" class=\"dataframe\">\n",
       "  <thead>\n",
       "    <tr style=\"text-align: right;\">\n",
       "      <th></th>\n",
       "      <th>Экзамен</th>\n",
       "      <th>Проценты</th>\n",
       "    </tr>\n",
       "  </thead>\n",
       "  <tbody>\n",
       "    <tr>\n",
       "      <th>0</th>\n",
       "      <td>Не сдал</td>\n",
       "      <td>7.711864</td>\n",
       "    </tr>\n",
       "    <tr>\n",
       "      <th>1</th>\n",
       "      <td>Сдал</td>\n",
       "      <td>89.745763</td>\n",
       "    </tr>\n",
       "  </tbody>\n",
       "</table>\n",
       "</div>"
      ],
      "text/plain": [
       "   Экзамен   Проценты\n",
       "0  Не сдал   7.711864\n",
       "1     Сдал  89.745763"
      ]
     },
     "execution_count": 7,
     "metadata": {},
     "output_type": "execute_result"
    }
   ],
   "source": [
    "data = {'Экзамен': ['Не сдал', 'Сдал'],\n",
    "        'Проценты':[len(df.loc[df['Балл'] < df['Минимальный балл'].mean()]) / len(df) * 100,\n",
    "                    len(df.loc[df['Балл'] > df['Минимальный балл'].mean()]) / len(df) * 100]}\n",
    "df_1 = pd.DataFrame(data)\n",
    "df_1"
   ]
  },
  {
   "cell_type": "code",
   "execution_count": 8,
   "metadata": {},
   "outputs": [
    {
     "data": {
      "image/png": "[encoded data removed]",
      "text/plain": [
       "<Figure size 432x432 with 1 Axes>"
      ]
     },
     "metadata": {},
     "output_type": "display_data"
    }
   ],
   "source": [
    "fig, ax = plt.subplots(figsize=(6, 6))\n",
    "ax.pie(df_1['Проценты'], labels=df_1['Экзамен'], autopct='%1.1f%%')\n",
    "ax.set_title('Распределение сдавших и не сдавших экзамен')\n",
    "\n",
    "plt.axis('equal')\n",
    "\n",
    "plt.show()"
   ]
  },
  {
   "cell_type": "markdown",
   "metadata": {
    "id": "bUbmcGR4w9wS"
   },
   "source": [
    "### 6. Постройте ядерную оценку плотности распределению баллов за экзамен."
   ]
  },
  {
   "cell_type": "code",
   "execution_count": 9,
   "metadata": {
    "colab": {
     "base_uri": "https://localhost:8080/",
     "height": 564
    },
    "id": "TMxxTq9ywBjJ",
    "outputId": "6c4beee9-faa5-4023-b510-5a43ba8360d7"
   },
   "outputs": [
    {
     "data": {
      "image/png": "[encoded data removed]",
      "text/plain": [
       "<Figure size 720x504 with 1 Axes>"
      ]
     },
     "metadata": {
      "needs_background": "light"
     },
     "output_type": "display_data"
    }
   ],
   "source": [
    "plt.figure(figsize=(10, 7))\n",
    "sns.kdeplot(df['Балл'],  color='violet', fill = True)\n",
    "plt.title('Ядерная оценка плотности баллов за экзамен')\n",
    "plt.xlabel('Баллы')\n",
    "plt.ylabel('Плотность')\n",
    "plt.show()"
   ]
  },
  {
   "cell_type": "markdown",
   "metadata": {
    "id": "IYR3_UmGxIqR"
   },
   "source": [
    "### 7. Найдите процентное соотношение учащихся, сдавших экзамен на «отлично», «хорошо», «удовлетворительно», «неудовлетворительно»."
   ]
  },
  {
   "cell_type": "code",
   "execution_count": 10,
   "metadata": {
    "colab": {
     "base_uri": "https://localhost:8080/"
    },
    "id": "BVpoXjZ2xH8q",
    "outputId": "c74d7666-8800-4d6b-d58d-3b54b6bbd8dd"
   },
   "outputs": [
    {
     "name": "stdout",
     "output_type": "stream",
     "text": [
      "Неудовлетворительно    50.423729\n",
      "Удовлетворительно      35.169492\n",
      "Хорошо                 11.440678\n",
      "Отлично                 2.966102\n",
      "Name: Оценка, dtype: float64\n"
     ]
    }
   ],
   "source": [
    "def mark(points):\n",
    "    if points >= 86:\n",
    "        return 'Отлично'\n",
    "    elif points >= 70 and points < 86:\n",
    "        return 'Хорошо'\n",
    "    elif points >= 50 and points < 70:\n",
    "        return 'Удовлетворительно'\n",
    "    else:\n",
    "        return 'Неудовлетворительно'\n",
    "    \n",
    "df['Оценка'] = df['Балл'].apply(lambda x: mark(x))\n",
    "percent_marks = df['Оценка'].value_counts(normalize=True) * 100\n",
    "print(percent_marks)"
   ]
  },
  {
   "cell_type": "markdown",
   "metadata": {
    "id": "CcDtLA5l2CUn"
   },
   "source": [
    "### 8. Какое процентное соотношение юношей и девушек писало данный экзамен?"
   ]
  },
  {
   "cell_type": "code",
   "execution_count": 11,
   "metadata": {
    "colab": {
     "base_uri": "https://localhost:8080/"
    },
    "id": "mT_GpFgixF54",
    "outputId": "2dcf0760-b091-448f-ff08-72b28678ca82"
   },
   "outputs": [
    {
     "name": "stdout",
     "output_type": "stream",
     "text": [
      "М    68.644068\n",
      "Ж    31.355932\n",
      "Name: Пол, dtype: float64\n"
     ]
    }
   ],
   "source": [
    "percent_genders = df['Пол'].value_counts(normalize=True) * 100\n",
    "print(percent_genders)"
   ]
  },
  {
   "cell_type": "markdown",
   "metadata": {
    "id": "nQZWrNIP2khA"
   },
   "source": [
    "### 9. Сколько школ принимало участие в экзамене?"
   ]
  },
  {
   "cell_type": "code",
   "execution_count": 12,
   "metadata": {
    "colab": {
     "base_uri": "https://localhost:8080/"
    },
    "id": "6rhkLrIT2j5E",
    "outputId": "94cb1fa6-e107-4d97-f020-ce7e8cd0a844"
   },
   "outputs": [
    {
     "name": "stdout",
     "output_type": "stream",
     "text": [
      "19\n"
     ]
    }
   ],
   "source": [
    "count_schools = df['№ школы'].nunique()\n",
    "print(count_schools)"
   ]
  },
  {
   "cell_type": "markdown",
   "metadata": {
    "id": "pRI3tqiB3QUX"
   },
   "source": [
    "### 10. Сколько всего заданий с кратким ответом? С развернутым ответом?"
   ]
  },
  {
   "cell_type": "code",
   "execution_count": 13,
   "metadata": {
    "colab": {
     "base_uri": "https://localhost:8080/"
    },
    "id": "gOGg0c9i3PqQ",
    "outputId": "a9a79734-469d-46e1-ff0c-c3b5b8127608"
   },
   "outputs": [
    {
     "name": "stdout",
     "output_type": "stream",
     "text": [
      "Задания с кратким ответом - 27\n",
      "Задания с развёрнутым ответом - 5\n"
     ]
    }
   ],
   "source": [
    "print(f\"Задания с кратким ответом - {len(df['Задания с кратким ответом'][0])}\")\n",
    "print(f\"Задания с развёрнутым ответом - {df['Задания с развёрнутым ответом'][0].count(')')}\")"
   ]
  },
  {
   "cell_type": "markdown",
   "metadata": {
    "id": "WxBgGSCIaYgu"
   },
   "source": [
    "### 11. Пусть задания с кратким ответом будут задания типа В. Соответственно всего по экзамену вопросов класса В: В, ... Вк. Посчитайте процент выполненных и невыполненных заданий по каждому вопросу класса В."
   ]
  },
  {
   "cell_type": "code",
   "execution_count": 14,
   "metadata": {
    "colab": {
     "base_uri": "https://localhost:8080/"
    },
    "id": "YE1Zbk8vftIF",
    "outputId": "4a3d00f7-7c37-4c2a-b93a-167c770e3ba5"
   },
   "outputs": [
    {
     "name": "stdout",
     "output_type": "stream",
     "text": [
      "{0: 1007, 1: 1025, 2: 734, 3: 525, 7: 774, 8: 873, 9: 413, 12: 668, 13: 602, 14: 502, 18: 967, 19: 886, 21: 599, 22: 732, 24: 353, 25: 436, 26: 351}\n",
      "Процент выполнения задания B1 = 85.339 %\n",
      "Процент выполнения задания B2 = 86.8644 %\n",
      "Процент выполнения задания B3 = 62.2034 %\n",
      "Процент выполнения задания B4 = 44.4915 %\n",
      "Процент выполнения задания B8 = 65.5932 %\n",
      "Процент выполнения задания B9 = 73.9831 %\n",
      "Процент выполнения задания B10 = 35.0 %\n",
      "Процент выполнения задания B13 = 56.6102 %\n",
      "Процент выполнения задания B14 = 51.0169 %\n",
      "Процент выполнения задания B15 = 42.5424 %\n",
      "Процент выполнения задания B19 = 81.9492 %\n",
      "Процент выполнения задания B20 = 75.0847 %\n",
      "Процент выполнения задания B22 = 50.7627 %\n",
      "Процент выполнения задания B23 = 62.0339 %\n",
      "Процент выполнения задания B25 = 29.9153 %\n",
      "Процент выполнения задания B26 = 36.9492 %\n",
      "Процент выполнения задания B27 = 29.7458 %\n"
     ]
    }
   ],
   "source": [
    "_dict = {}\n",
    "for i in range(len(df['Задания с кратким ответом'])):\n",
    "    for ind, symb in enumerate(df['Задания с кратким ответом'][i]):\n",
    "        if symb == '+':\n",
    "            _dict[ind] = _dict.get(ind, 0) + 1\n",
    "            \n",
    "_dict = dict(sorted(_dict.items()))\n",
    "print(_dict)\n",
    "\n",
    "for i, j in _dict.items():\n",
    "    print(f'Процент выполнения задания B{i+1} = {round(j / df.shape[0] * 100, 4)} %')"
   ]
  },
  {
   "cell_type": "markdown",
   "metadata": {
    "id": "FOEHWbLrhqbb"
   },
   "source": [
    "### 12. Аналогично и с типом С (ответы с развернутым ответом)"
   ]
  },
  {
   "cell_type": "code",
   "execution_count": 15,
   "metadata": {
    "colab": {
     "base_uri": "https://localhost:8080/",
     "height": 478
    },
    "id": "fTXIpsXHhp3z",
    "outputId": "605a5058-7e82-4cc5-ddf2-d66567b1f91f"
   },
   "outputs": [
    {
     "data": {
      "text/html": [
       "<div>\n",
       "<style scoped>\n",
       "    .dataframe tbody tr th:only-of-type {\n",
       "        vertical-align: middle;\n",
       "    }\n",
       "\n",
       "    .dataframe tbody tr th {\n",
       "        vertical-align: top;\n",
       "    }\n",
       "\n",
       "    .dataframe thead th {\n",
       "        text-align: right;\n",
       "    }\n",
       "</style>\n",
       "<table border=\"1\" class=\"dataframe\">\n",
       "  <thead>\n",
       "    <tr style=\"text-align: right;\">\n",
       "      <th></th>\n",
       "      <th>C1</th>\n",
       "      <th>C2</th>\n",
       "      <th>C3</th>\n",
       "      <th>C4</th>\n",
       "      <th>C5</th>\n",
       "    </tr>\n",
       "  </thead>\n",
       "  <tbody>\n",
       "    <tr>\n",
       "      <th>0</th>\n",
       "      <td>0</td>\n",
       "      <td>0</td>\n",
       "      <td>0</td>\n",
       "      <td>0</td>\n",
       "      <td>0</td>\n",
       "    </tr>\n",
       "    <tr>\n",
       "      <th>1</th>\n",
       "      <td>0</td>\n",
       "      <td>0</td>\n",
       "      <td>0</td>\n",
       "      <td>0</td>\n",
       "      <td>0</td>\n",
       "    </tr>\n",
       "    <tr>\n",
       "      <th>2</th>\n",
       "      <td>0</td>\n",
       "      <td>0</td>\n",
       "      <td>0</td>\n",
       "      <td>0</td>\n",
       "      <td>0</td>\n",
       "    </tr>\n",
       "    <tr>\n",
       "      <th>3</th>\n",
       "      <td>0</td>\n",
       "      <td>0</td>\n",
       "      <td>0</td>\n",
       "      <td>0</td>\n",
       "      <td>0</td>\n",
       "    </tr>\n",
       "    <tr>\n",
       "      <th>4</th>\n",
       "      <td>0</td>\n",
       "      <td>0</td>\n",
       "      <td>0</td>\n",
       "      <td>0</td>\n",
       "      <td>0</td>\n",
       "    </tr>\n",
       "    <tr>\n",
       "      <th>...</th>\n",
       "      <td>...</td>\n",
       "      <td>...</td>\n",
       "      <td>...</td>\n",
       "      <td>...</td>\n",
       "      <td>...</td>\n",
       "    </tr>\n",
       "    <tr>\n",
       "      <th>1175</th>\n",
       "      <td>3</td>\n",
       "      <td>3</td>\n",
       "      <td>3</td>\n",
       "      <td>3</td>\n",
       "      <td>2</td>\n",
       "    </tr>\n",
       "    <tr>\n",
       "      <th>1176</th>\n",
       "      <td>3</td>\n",
       "      <td>3</td>\n",
       "      <td>3</td>\n",
       "      <td>3</td>\n",
       "      <td>2</td>\n",
       "    </tr>\n",
       "    <tr>\n",
       "      <th>1177</th>\n",
       "      <td>3</td>\n",
       "      <td>3</td>\n",
       "      <td>3</td>\n",
       "      <td>2</td>\n",
       "      <td>3</td>\n",
       "    </tr>\n",
       "    <tr>\n",
       "      <th>1178</th>\n",
       "      <td>3</td>\n",
       "      <td>3</td>\n",
       "      <td>3</td>\n",
       "      <td>3</td>\n",
       "      <td>3</td>\n",
       "    </tr>\n",
       "    <tr>\n",
       "      <th>1179</th>\n",
       "      <td>3</td>\n",
       "      <td>3</td>\n",
       "      <td>3</td>\n",
       "      <td>3</td>\n",
       "      <td>3</td>\n",
       "    </tr>\n",
       "  </tbody>\n",
       "</table>\n",
       "<p>1180 rows × 5 columns</p>\n",
       "</div>"
      ],
      "text/plain": [
       "     C1 C2 C3 C4 C5\n",
       "0     0  0  0  0  0\n",
       "1     0  0  0  0  0\n",
       "2     0  0  0  0  0\n",
       "3     0  0  0  0  0\n",
       "4     0  0  0  0  0\n",
       "...  .. .. .. .. ..\n",
       "1175  3  3  3  3  2\n",
       "1176  3  3  3  3  2\n",
       "1177  3  3  3  2  3\n",
       "1178  3  3  3  3  3\n",
       "1179  3  3  3  3  3\n",
       "\n",
       "[1180 rows x 5 columns]"
      ]
     },
     "execution_count": 15,
     "metadata": {},
     "output_type": "execute_result"
    }
   ],
   "source": [
    "C1 = []\n",
    "C2 = []\n",
    "C3 = []\n",
    "C4 = []\n",
    "C5 = []\n",
    "for i in range(len(df['Задания с развёрнутым ответом'])):\n",
    "    C1.append(df['Задания с развёрнутым ответом'][i][0])\n",
    "    C2.append(df['Задания с развёрнутым ответом'][i][4])\n",
    "    C3.append(df['Задания с развёрнутым ответом'][i][8])\n",
    "    C4.append(df['Задания с развёрнутым ответом'][i][12])\n",
    "    C5.append(df['Задания с развёрнутым ответом'][i][16])\n",
    "\n",
    "df_C = pd.DataFrame()\n",
    "df_C['C1'] = C1\n",
    "df_C['C2'] = C2\n",
    "df_C['C3'] = C3\n",
    "df_C['C4'] = C4\n",
    "df_C['C5'] = C5\n",
    "df_C"
   ]
  },
  {
   "cell_type": "code",
   "execution_count": 16,
   "metadata": {
    "colab": {
     "base_uri": "https://localhost:8080/"
    },
    "id": "cPtFjmkzoyPT",
    "outputId": "a9caa5d5-5e7b-42f0-d378-d193d6cea465"
   },
   "outputs": [
    {
     "data": {
      "text/plain": [
       "0    82.372881\n",
       "1    11.525424\n",
       "2     3.983051\n",
       "3     2.118644\n",
       "Name: C1, dtype: float64"
      ]
     },
     "execution_count": 16,
     "metadata": {},
     "output_type": "execute_result"
    }
   ],
   "source": [
    "C1 = df_C['C1'].value_counts(normalize=True) * 100\n",
    "C1"
   ]
  },
  {
   "cell_type": "code",
   "execution_count": 17,
   "metadata": {
    "colab": {
     "base_uri": "https://localhost:8080/"
    },
    "id": "FP3Iv1NBqxnJ",
    "outputId": "9b70ca13-b613-4a55-a64d-dc0ce776fbfd"
   },
   "outputs": [
    {
     "data": {
      "text/plain": [
       "0    61.779661\n",
       "1    16.101695\n",
       "3    13.983051\n",
       "2     8.135593\n",
       "Name: C2, dtype: float64"
      ]
     },
     "execution_count": 17,
     "metadata": {},
     "output_type": "execute_result"
    }
   ],
   "source": [
    "C2 = df_C['C2'].value_counts(normalize=True) * 100\n",
    "C2"
   ]
  },
  {
   "cell_type": "code",
   "execution_count": 18,
   "metadata": {
    "colab": {
     "base_uri": "https://localhost:8080/"
    },
    "id": "q3UYHErMrVRA",
    "outputId": "171ac34f-805e-4b29-fc29-94713b5ed3e6"
   },
   "outputs": [
    {
     "data": {
      "text/plain": [
       "0    83.644068\n",
       "1     7.881356\n",
       "3     6.525424\n",
       "2     1.949153\n",
       "Name: C3, dtype: float64"
      ]
     },
     "execution_count": 18,
     "metadata": {},
     "output_type": "execute_result"
    }
   ],
   "source": [
    "C3 = df_C['C3'].value_counts(normalize=True) * 100\n",
    "C3"
   ]
  },
  {
   "cell_type": "code",
   "execution_count": 19,
   "metadata": {
    "colab": {
     "base_uri": "https://localhost:8080/"
    },
    "id": "Bqk_Hc49rcGh",
    "outputId": "52f82872-9ab3-402a-bf50-5b3fcedc7737"
   },
   "outputs": [
    {
     "data": {
      "text/plain": [
       "0    76.610169\n",
       "1    19.830508\n",
       "2     2.542373\n",
       "3     1.016949\n",
       "Name: C4, dtype: float64"
      ]
     },
     "execution_count": 19,
     "metadata": {},
     "output_type": "execute_result"
    }
   ],
   "source": [
    "C4 = df_C['C4'].value_counts(normalize=True) * 100\n",
    "C4"
   ]
  },
  {
   "cell_type": "code",
   "execution_count": 20,
   "metadata": {},
   "outputs": [
    {
     "data": {
      "text/plain": [
       "0    68.220339\n",
       "1    15.423729\n",
       "3     9.661017\n",
       "2     6.694915\n",
       "Name: C5, dtype: float64"
      ]
     },
     "execution_count": 20,
     "metadata": {},
     "output_type": "execute_result"
    }
   ],
   "source": [
    "C5 = df_C['C5'].value_counts(normalize=True) * 100\n",
    "C5"
   ]
  },
  {
   "cell_type": "markdown",
   "metadata": {
    "id": "UohqmNH8rzdX"
   },
   "source": [
    "### 13) Сделайте анализ по двум школам:\n",
    "#### 1. по всем выполненным заданиям типа В\n",
    "#### 2. по заданиям типа С больше 50%\n",
    "#### 3. по среднему баллу юношей и девушек\n"
   ]
  },
  {
   "cell_type": "code",
   "execution_count": 24,
   "metadata": {
    "colab": {
     "base_uri": "https://localhost:8080/",
     "height": 478
    },
    "id": "5whGJGWLryry",
    "outputId": "7a6c6e30-5b2c-4ba8-b923-b413a2830439"
   },
   "outputs": [
    {
     "data": {
      "text/html": [
       "<div>\n",
       "<style scoped>\n",
       "    .dataframe tbody tr th:only-of-type {\n",
       "        vertical-align: middle;\n",
       "    }\n",
       "\n",
       "    .dataframe tbody tr th {\n",
       "        vertical-align: top;\n",
       "    }\n",
       "\n",
       "    .dataframe thead th {\n",
       "        text-align: right;\n",
       "    }\n",
       "</style>\n",
       "<table border=\"1\" class=\"dataframe\">\n",
       "  <thead>\n",
       "    <tr style=\"text-align: right;\">\n",
       "      <th></th>\n",
       "      <th>index</th>\n",
       "      <th>№</th>\n",
       "      <th>№ школы</th>\n",
       "      <th>Класс</th>\n",
       "      <th>Пол</th>\n",
       "      <th>Номер варианта</th>\n",
       "      <th>Задания с кратким ответом</th>\n",
       "      <th>Задания с развёрнутым ответом</th>\n",
       "      <th>Устная часть</th>\n",
       "      <th>Первичный балл</th>\n",
       "      <th>Балл</th>\n",
       "      <th>Минимальный балл</th>\n",
       "      <th>Оценка</th>\n",
       "    </tr>\n",
       "  </thead>\n",
       "  <tbody>\n",
       "    <tr>\n",
       "      <th>0</th>\n",
       "      <td>0</td>\n",
       "      <td>1</td>\n",
       "      <td>152</td>\n",
       "      <td>11</td>\n",
       "      <td>М</td>\n",
       "      <td>333</td>\n",
       "      <td>----001---00---000--1-+0---</td>\n",
       "      <td>0(3)0(3)0(3)0(3)0(3)</td>\n",
       "      <td>NaN</td>\n",
       "      <td>3</td>\n",
       "      <td>10</td>\n",
       "      <td>36</td>\n",
       "      <td>Неудовлетворительно</td>\n",
       "    </tr>\n",
       "    <tr>\n",
       "      <th>1</th>\n",
       "      <td>19</td>\n",
       "      <td>20</td>\n",
       "      <td>152</td>\n",
       "      <td>11</td>\n",
       "      <td>М</td>\n",
       "      <td>330</td>\n",
       "      <td>+---010---01---100--1--2---</td>\n",
       "      <td>0(3)0(3)0(3)0(3)0(3)</td>\n",
       "      <td>NaN</td>\n",
       "      <td>7</td>\n",
       "      <td>23</td>\n",
       "      <td>36</td>\n",
       "      <td>Неудовлетворительно</td>\n",
       "    </tr>\n",
       "    <tr>\n",
       "      <th>2</th>\n",
       "      <td>22</td>\n",
       "      <td>23</td>\n",
       "      <td>152</td>\n",
       "      <td>11В</td>\n",
       "      <td>М</td>\n",
       "      <td>332</td>\n",
       "      <td>-+--000---00---111+-0--2---</td>\n",
       "      <td>0(3)0(3)0(3)0(3)0(3)</td>\n",
       "      <td>NaN</td>\n",
       "      <td>7</td>\n",
       "      <td>23</td>\n",
       "      <td>36</td>\n",
       "      <td>Неудовлетворительно</td>\n",
       "    </tr>\n",
       "    <tr>\n",
       "      <th>3</th>\n",
       "      <td>33</td>\n",
       "      <td>34</td>\n",
       "      <td>152</td>\n",
       "      <td>11</td>\n",
       "      <td>М</td>\n",
       "      <td>330</td>\n",
       "      <td>----200---10---011--1--2---</td>\n",
       "      <td>0(3)0(3)0(3)0(3)0(3)</td>\n",
       "      <td>NaN</td>\n",
       "      <td>8</td>\n",
       "      <td>27</td>\n",
       "      <td>36</td>\n",
       "      <td>Неудовлетворительно</td>\n",
       "    </tr>\n",
       "    <tr>\n",
       "      <th>4</th>\n",
       "      <td>56</td>\n",
       "      <td>57</td>\n",
       "      <td>152</td>\n",
       "      <td>11</td>\n",
       "      <td>М</td>\n",
       "      <td>331</td>\n",
       "      <td>++--100-+-20---100+-0--1---</td>\n",
       "      <td>0(3)0(3)0(3)0(3)0(3)</td>\n",
       "      <td>NaN</td>\n",
       "      <td>9</td>\n",
       "      <td>30</td>\n",
       "      <td>36</td>\n",
       "      <td>Неудовлетворительно</td>\n",
       "    </tr>\n",
       "    <tr>\n",
       "      <th>...</th>\n",
       "      <td>...</td>\n",
       "      <td>...</td>\n",
       "      <td>...</td>\n",
       "      <td>...</td>\n",
       "      <td>...</td>\n",
       "      <td>...</td>\n",
       "      <td>...</td>\n",
       "      <td>...</td>\n",
       "      <td>...</td>\n",
       "      <td>...</td>\n",
       "      <td>...</td>\n",
       "      <td>...</td>\n",
       "      <td>...</td>\n",
       "    </tr>\n",
       "    <tr>\n",
       "      <th>165</th>\n",
       "      <td>1168</td>\n",
       "      <td>1169</td>\n",
       "      <td>152</td>\n",
       "      <td>11</td>\n",
       "      <td>М</td>\n",
       "      <td>332</td>\n",
       "      <td>++++222+++22+++222++2++1+++</td>\n",
       "      <td>2(3)3(3)3(3)2(3)2(3)</td>\n",
       "      <td>NaN</td>\n",
       "      <td>48</td>\n",
       "      <td>92</td>\n",
       "      <td>36</td>\n",
       "      <td>Отлично</td>\n",
       "    </tr>\n",
       "    <tr>\n",
       "      <th>166</th>\n",
       "      <td>1169</td>\n",
       "      <td>1170</td>\n",
       "      <td>152</td>\n",
       "      <td>11</td>\n",
       "      <td>Ж</td>\n",
       "      <td>329</td>\n",
       "      <td>++++222+++22+++221++2++1+++</td>\n",
       "      <td>1(3)3(3)3(3)3(3)3(3)</td>\n",
       "      <td>NaN</td>\n",
       "      <td>48</td>\n",
       "      <td>92</td>\n",
       "      <td>36</td>\n",
       "      <td>Отлично</td>\n",
       "    </tr>\n",
       "    <tr>\n",
       "      <th>167</th>\n",
       "      <td>1170</td>\n",
       "      <td>1171</td>\n",
       "      <td>152</td>\n",
       "      <td>11</td>\n",
       "      <td>Ж</td>\n",
       "      <td>329</td>\n",
       "      <td>++++222+++22+++221++2++1+++</td>\n",
       "      <td>3(3)3(3)3(3)1(3)3(3)</td>\n",
       "      <td>NaN</td>\n",
       "      <td>48</td>\n",
       "      <td>92</td>\n",
       "      <td>36</td>\n",
       "      <td>Отлично</td>\n",
       "    </tr>\n",
       "    <tr>\n",
       "      <th>168</th>\n",
       "      <td>1174</td>\n",
       "      <td>1175</td>\n",
       "      <td>152</td>\n",
       "      <td>11</td>\n",
       "      <td>Ж</td>\n",
       "      <td>332</td>\n",
       "      <td>++++222+++22+++222++2++2+++</td>\n",
       "      <td>3(3)3(3)3(3)1(3)3(3)</td>\n",
       "      <td>NaN</td>\n",
       "      <td>50</td>\n",
       "      <td>96</td>\n",
       "      <td>36</td>\n",
       "      <td>Отлично</td>\n",
       "    </tr>\n",
       "    <tr>\n",
       "      <th>169</th>\n",
       "      <td>1177</td>\n",
       "      <td>1178</td>\n",
       "      <td>152</td>\n",
       "      <td>11</td>\n",
       "      <td>Ж</td>\n",
       "      <td>330</td>\n",
       "      <td>++++222+++22+++222++2++2+++</td>\n",
       "      <td>3(3)3(3)3(3)2(3)3(3)</td>\n",
       "      <td>NaN</td>\n",
       "      <td>51</td>\n",
       "      <td>98</td>\n",
       "      <td>36</td>\n",
       "      <td>Отлично</td>\n",
       "    </tr>\n",
       "  </tbody>\n",
       "</table>\n",
       "<p>170 rows × 13 columns</p>\n",
       "</div>"
      ],
      "text/plain": [
       "     index     №  № школы Класс Пол  Номер варианта  \\\n",
       "0        0     1      152    11   М             333   \n",
       "1       19    20      152    11   М             330   \n",
       "2       22    23      152   11В   М             332   \n",
       "3       33    34      152    11   М             330   \n",
       "4       56    57      152    11   М             331   \n",
       "..     ...   ...      ...   ...  ..             ...   \n",
       "165   1168  1169      152    11   М             332   \n",
       "166   1169  1170      152    11   Ж             329   \n",
       "167   1170  1171      152    11   Ж             329   \n",
       "168   1174  1175      152    11   Ж             332   \n",
       "169   1177  1178      152    11   Ж             330   \n",
       "\n",
       "       Задания с кратким ответом Задания с развёрнутым ответом  Устная часть  \\\n",
       "0    ----001---00---000--1-+0---          0(3)0(3)0(3)0(3)0(3)           NaN   \n",
       "1    +---010---01---100--1--2---          0(3)0(3)0(3)0(3)0(3)           NaN   \n",
       "2    -+--000---00---111+-0--2---          0(3)0(3)0(3)0(3)0(3)           NaN   \n",
       "3    ----200---10---011--1--2---          0(3)0(3)0(3)0(3)0(3)           NaN   \n",
       "4    ++--100-+-20---100+-0--1---          0(3)0(3)0(3)0(3)0(3)           NaN   \n",
       "..                           ...                           ...           ...   \n",
       "165  ++++222+++22+++222++2++1+++          2(3)3(3)3(3)2(3)2(3)           NaN   \n",
       "166  ++++222+++22+++221++2++1+++          1(3)3(3)3(3)3(3)3(3)           NaN   \n",
       "167  ++++222+++22+++221++2++1+++          3(3)3(3)3(3)1(3)3(3)           NaN   \n",
       "168  ++++222+++22+++222++2++2+++          3(3)3(3)3(3)1(3)3(3)           NaN   \n",
       "169  ++++222+++22+++222++2++2+++          3(3)3(3)3(3)2(3)3(3)           NaN   \n",
       "\n",
       "     Первичный балл  Балл  Минимальный балл               Оценка  \n",
       "0                 3    10                36  Неудовлетворительно  \n",
       "1                 7    23                36  Неудовлетворительно  \n",
       "2                 7    23                36  Неудовлетворительно  \n",
       "3                 8    27                36  Неудовлетворительно  \n",
       "4                 9    30                36  Неудовлетворительно  \n",
       "..              ...   ...               ...                  ...  \n",
       "165              48    92                36              Отлично  \n",
       "166              48    92                36              Отлично  \n",
       "167              48    92                36              Отлично  \n",
       "168              50    96                36              Отлично  \n",
       "169              51    98                36              Отлично  \n",
       "\n",
       "[170 rows x 13 columns]"
      ]
     },
     "execution_count": 24,
     "metadata": {},
     "output_type": "execute_result"
    }
   ],
   "source": [
    "df_152 = df.loc[df['№ школы'] == 152].reset_index()\n",
    "df_152"
   ]
  },
  {
   "cell_type": "code",
   "execution_count": 25,
   "metadata": {},
   "outputs": [
    {
     "name": "stdout",
     "output_type": "stream",
     "text": [
      "{0: 150, 1: 146, 2: 109, 3: 78, 7: 113, 8: 127, 9: 59, 12: 104, 13: 95, 14: 82, 18: 148, 19: 131, 21: 89, 22: 109, 24: 54, 25: 71, 26: 63}\n",
      "Процент выполнения задания B1 = 88.2353 %\n",
      "Процент выполнения задания B2 = 85.8824 %\n",
      "Процент выполнения задания B3 = 64.1176 %\n",
      "Процент выполнения задания B4 = 45.8824 %\n",
      "Процент выполнения задания B8 = 66.4706 %\n",
      "Процент выполнения задания B9 = 74.7059 %\n",
      "Процент выполнения задания B10 = 34.7059 %\n",
      "Процент выполнения задания B13 = 61.1765 %\n",
      "Процент выполнения задания B14 = 55.8824 %\n",
      "Процент выполнения задания B15 = 48.2353 %\n",
      "Процент выполнения задания B19 = 87.0588 %\n",
      "Процент выполнения задания B20 = 77.0588 %\n",
      "Процент выполнения задания B22 = 52.3529 %\n",
      "Процент выполнения задания B23 = 64.1176 %\n",
      "Процент выполнения задания B25 = 31.7647 %\n",
      "Процент выполнения задания B26 = 41.7647 %\n",
      "Процент выполнения задания B27 = 37.0588 %\n"
     ]
    }
   ],
   "source": [
    "def B_tasks(df):\n",
    "    _dict = {}\n",
    "    for i in range(len(df['Задания с кратким ответом'])):\n",
    "        for ind, symb in enumerate(df['Задания с кратким ответом'][i]):\n",
    "            if symb == '+':\n",
    "                _dict[ind] = _dict.get(ind, 0) + 1\n",
    "\n",
    "    _dict = dict(sorted(_dict.items()))\n",
    "    print(_dict)\n",
    "\n",
    "    for i, j in _dict.items():\n",
    "        print(f'Процент выполнения задания B{i+1} = {round(j / df.shape[0] * 100, 4)} %')\n",
    "B_tasks(df_152)"
   ]
  },
  {
   "cell_type": "code",
   "execution_count": 26,
   "metadata": {},
   "outputs": [
    {
     "data": {
      "text/html": [
       "<div>\n",
       "<style scoped>\n",
       "    .dataframe tbody tr th:only-of-type {\n",
       "        vertical-align: middle;\n",
       "    }\n",
       "\n",
       "    .dataframe tbody tr th {\n",
       "        vertical-align: top;\n",
       "    }\n",
       "\n",
       "    .dataframe thead th {\n",
       "        text-align: right;\n",
       "    }\n",
       "</style>\n",
       "<table border=\"1\" class=\"dataframe\">\n",
       "  <thead>\n",
       "    <tr style=\"text-align: right;\">\n",
       "      <th></th>\n",
       "      <th>C1</th>\n",
       "      <th>C2</th>\n",
       "      <th>C3</th>\n",
       "      <th>C4</th>\n",
       "      <th>C5</th>\n",
       "    </tr>\n",
       "  </thead>\n",
       "  <tbody>\n",
       "    <tr>\n",
       "      <th>0</th>\n",
       "      <td>0</td>\n",
       "      <td>0</td>\n",
       "      <td>0</td>\n",
       "      <td>0</td>\n",
       "      <td>0</td>\n",
       "    </tr>\n",
       "    <tr>\n",
       "      <th>1</th>\n",
       "      <td>0</td>\n",
       "      <td>0</td>\n",
       "      <td>0</td>\n",
       "      <td>0</td>\n",
       "      <td>0</td>\n",
       "    </tr>\n",
       "    <tr>\n",
       "      <th>2</th>\n",
       "      <td>0</td>\n",
       "      <td>0</td>\n",
       "      <td>0</td>\n",
       "      <td>0</td>\n",
       "      <td>0</td>\n",
       "    </tr>\n",
       "    <tr>\n",
       "      <th>3</th>\n",
       "      <td>0</td>\n",
       "      <td>0</td>\n",
       "      <td>0</td>\n",
       "      <td>0</td>\n",
       "      <td>0</td>\n",
       "    </tr>\n",
       "    <tr>\n",
       "      <th>4</th>\n",
       "      <td>0</td>\n",
       "      <td>0</td>\n",
       "      <td>0</td>\n",
       "      <td>0</td>\n",
       "      <td>0</td>\n",
       "    </tr>\n",
       "    <tr>\n",
       "      <th>...</th>\n",
       "      <td>...</td>\n",
       "      <td>...</td>\n",
       "      <td>...</td>\n",
       "      <td>...</td>\n",
       "      <td>...</td>\n",
       "    </tr>\n",
       "    <tr>\n",
       "      <th>165</th>\n",
       "      <td>2</td>\n",
       "      <td>3</td>\n",
       "      <td>3</td>\n",
       "      <td>2</td>\n",
       "      <td>2</td>\n",
       "    </tr>\n",
       "    <tr>\n",
       "      <th>166</th>\n",
       "      <td>1</td>\n",
       "      <td>3</td>\n",
       "      <td>3</td>\n",
       "      <td>3</td>\n",
       "      <td>3</td>\n",
       "    </tr>\n",
       "    <tr>\n",
       "      <th>167</th>\n",
       "      <td>3</td>\n",
       "      <td>3</td>\n",
       "      <td>3</td>\n",
       "      <td>1</td>\n",
       "      <td>3</td>\n",
       "    </tr>\n",
       "    <tr>\n",
       "      <th>168</th>\n",
       "      <td>3</td>\n",
       "      <td>3</td>\n",
       "      <td>3</td>\n",
       "      <td>1</td>\n",
       "      <td>3</td>\n",
       "    </tr>\n",
       "    <tr>\n",
       "      <th>169</th>\n",
       "      <td>3</td>\n",
       "      <td>3</td>\n",
       "      <td>3</td>\n",
       "      <td>2</td>\n",
       "      <td>3</td>\n",
       "    </tr>\n",
       "  </tbody>\n",
       "</table>\n",
       "<p>170 rows × 5 columns</p>\n",
       "</div>"
      ],
      "text/plain": [
       "     C1  C2  C3  C4  C5\n",
       "0     0   0   0   0   0\n",
       "1     0   0   0   0   0\n",
       "2     0   0   0   0   0\n",
       "3     0   0   0   0   0\n",
       "4     0   0   0   0   0\n",
       "..   ..  ..  ..  ..  ..\n",
       "165   2   3   3   2   2\n",
       "166   1   3   3   3   3\n",
       "167   3   3   3   1   3\n",
       "168   3   3   3   1   3\n",
       "169   3   3   3   2   3\n",
       "\n",
       "[170 rows x 5 columns]"
      ]
     },
     "execution_count": 26,
     "metadata": {},
     "output_type": "execute_result"
    }
   ],
   "source": [
    "def C_tasks(df):\n",
    "    C1 = []\n",
    "    C2 = []\n",
    "    C3 = []\n",
    "    C4 = []\n",
    "    C5 = []\n",
    "    for i in range(len(df['Задания с развёрнутым ответом'])):\n",
    "        C1.append(df['Задания с развёрнутым ответом'][i][0])\n",
    "        C2.append(df['Задания с развёрнутым ответом'][i][4])\n",
    "        C3.append(df['Задания с развёрнутым ответом'][i][8])\n",
    "        C4.append(df['Задания с развёрнутым ответом'][i][12])\n",
    "        C5.append(df['Задания с развёрнутым ответом'][i][16])\n",
    "\n",
    "    df_C = pd.DataFrame()\n",
    "    df_C['C1'] = C1\n",
    "    df_C['C2'] = C2\n",
    "    df_C['C3'] = C3\n",
    "    df_C['C4'] = C4\n",
    "    df_C['C5'] = C5\n",
    "    return df_C\n",
    "df_C_152 = C_tasks(df_152)\n",
    "df_C_152 = df_C_152.astype(int)\n",
    "df_C_152"
   ]
  },
  {
   "cell_type": "code",
   "execution_count": 27,
   "metadata": {},
   "outputs": [
    {
     "data": {
      "text/html": [
       "<div>\n",
       "<style scoped>\n",
       "    .dataframe tbody tr th:only-of-type {\n",
       "        vertical-align: middle;\n",
       "    }\n",
       "\n",
       "    .dataframe tbody tr th {\n",
       "        vertical-align: top;\n",
       "    }\n",
       "\n",
       "    .dataframe thead th {\n",
       "        text-align: right;\n",
       "    }\n",
       "</style>\n",
       "<table border=\"1\" class=\"dataframe\">\n",
       "  <thead>\n",
       "    <tr style=\"text-align: right;\">\n",
       "      <th></th>\n",
       "      <th>C1</th>\n",
       "      <th>C2</th>\n",
       "      <th>C3</th>\n",
       "      <th>C4</th>\n",
       "      <th>C5</th>\n",
       "      <th>Сумма</th>\n",
       "    </tr>\n",
       "  </thead>\n",
       "  <tbody>\n",
       "    <tr>\n",
       "      <th>0</th>\n",
       "      <td>0</td>\n",
       "      <td>0</td>\n",
       "      <td>0</td>\n",
       "      <td>0</td>\n",
       "      <td>0</td>\n",
       "      <td>0</td>\n",
       "    </tr>\n",
       "    <tr>\n",
       "      <th>1</th>\n",
       "      <td>0</td>\n",
       "      <td>0</td>\n",
       "      <td>0</td>\n",
       "      <td>0</td>\n",
       "      <td>0</td>\n",
       "      <td>0</td>\n",
       "    </tr>\n",
       "    <tr>\n",
       "      <th>2</th>\n",
       "      <td>0</td>\n",
       "      <td>0</td>\n",
       "      <td>0</td>\n",
       "      <td>0</td>\n",
       "      <td>0</td>\n",
       "      <td>0</td>\n",
       "    </tr>\n",
       "    <tr>\n",
       "      <th>3</th>\n",
       "      <td>0</td>\n",
       "      <td>0</td>\n",
       "      <td>0</td>\n",
       "      <td>0</td>\n",
       "      <td>0</td>\n",
       "      <td>0</td>\n",
       "    </tr>\n",
       "    <tr>\n",
       "      <th>4</th>\n",
       "      <td>0</td>\n",
       "      <td>0</td>\n",
       "      <td>0</td>\n",
       "      <td>0</td>\n",
       "      <td>0</td>\n",
       "      <td>0</td>\n",
       "    </tr>\n",
       "    <tr>\n",
       "      <th>...</th>\n",
       "      <td>...</td>\n",
       "      <td>...</td>\n",
       "      <td>...</td>\n",
       "      <td>...</td>\n",
       "      <td>...</td>\n",
       "      <td>...</td>\n",
       "    </tr>\n",
       "    <tr>\n",
       "      <th>165</th>\n",
       "      <td>2</td>\n",
       "      <td>3</td>\n",
       "      <td>3</td>\n",
       "      <td>2</td>\n",
       "      <td>2</td>\n",
       "      <td>12</td>\n",
       "    </tr>\n",
       "    <tr>\n",
       "      <th>166</th>\n",
       "      <td>1</td>\n",
       "      <td>3</td>\n",
       "      <td>3</td>\n",
       "      <td>3</td>\n",
       "      <td>3</td>\n",
       "      <td>13</td>\n",
       "    </tr>\n",
       "    <tr>\n",
       "      <th>167</th>\n",
       "      <td>3</td>\n",
       "      <td>3</td>\n",
       "      <td>3</td>\n",
       "      <td>1</td>\n",
       "      <td>3</td>\n",
       "      <td>13</td>\n",
       "    </tr>\n",
       "    <tr>\n",
       "      <th>168</th>\n",
       "      <td>3</td>\n",
       "      <td>3</td>\n",
       "      <td>3</td>\n",
       "      <td>1</td>\n",
       "      <td>3</td>\n",
       "      <td>13</td>\n",
       "    </tr>\n",
       "    <tr>\n",
       "      <th>169</th>\n",
       "      <td>3</td>\n",
       "      <td>3</td>\n",
       "      <td>3</td>\n",
       "      <td>2</td>\n",
       "      <td>3</td>\n",
       "      <td>14</td>\n",
       "    </tr>\n",
       "  </tbody>\n",
       "</table>\n",
       "<p>170 rows × 6 columns</p>\n",
       "</div>"
      ],
      "text/plain": [
       "     C1  C2  C3  C4  C5  Сумма\n",
       "0     0   0   0   0   0      0\n",
       "1     0   0   0   0   0      0\n",
       "2     0   0   0   0   0      0\n",
       "3     0   0   0   0   0      0\n",
       "4     0   0   0   0   0      0\n",
       "..   ..  ..  ..  ..  ..    ...\n",
       "165   2   3   3   2   2     12\n",
       "166   1   3   3   3   3     13\n",
       "167   3   3   3   1   3     13\n",
       "168   3   3   3   1   3     13\n",
       "169   3   3   3   2   3     14\n",
       "\n",
       "[170 rows x 6 columns]"
      ]
     },
     "execution_count": 27,
     "metadata": {},
     "output_type": "execute_result"
    }
   ],
   "source": [
    "df_C_152['Сумма'] = df_C_152.sum(axis=1)\n",
    "df_C_152"
   ]
  },
  {
   "cell_type": "code",
   "execution_count": 41,
   "metadata": {},
   "outputs": [
    {
     "name": "stdout",
     "output_type": "stream",
     "text": [
      "Получили больше 50% баллов по заданиям типа C - 18.2353%\n"
     ]
    }
   ],
   "source": [
    "print(f\"Получили больше 50% баллов по заданиям типа C - {round(len(df_C_152[df_C_152['Сумма'] > 3*5/2]) / len(df_C_152) * 100,4)}%\")"
   ]
  },
  {
   "cell_type": "code",
   "execution_count": 31,
   "metadata": {},
   "outputs": [
    {
     "name": "stdout",
     "output_type": "stream",
     "text": [
      "Средний балл юношей - 53.8992\n",
      "Средний балл девушек - 58.1176\n"
     ]
    }
   ],
   "source": [
    "mean_points_man_152 = round(df_152[df_152['Пол'] == 'М']['Балл'].mean(),4)\n",
    "mean_points_woman_152 = round(df_152[df_152['Пол'] == 'Ж']['Балл'].mean(),4)\n",
    "print(f\"Средний балл юношей - {mean_points_man_152}\")\n",
    "print(f\"Средний балл девушек - {mean_points_woman_152}\")"
   ]
  },
  {
   "cell_type": "code",
   "execution_count": 32,
   "metadata": {
    "colab": {
     "base_uri": "https://localhost:8080/",
     "height": 953
    },
    "id": "m3__zn7TDjUK",
    "outputId": "8ecc90a1-f0f7-4e7c-8f09-5c2dc444e876"
   },
   "outputs": [
    {
     "data": {
      "text/html": [
       "<div>\n",
       "<style scoped>\n",
       "    .dataframe tbody tr th:only-of-type {\n",
       "        vertical-align: middle;\n",
       "    }\n",
       "\n",
       "    .dataframe tbody tr th {\n",
       "        vertical-align: top;\n",
       "    }\n",
       "\n",
       "    .dataframe thead th {\n",
       "        text-align: right;\n",
       "    }\n",
       "</style>\n",
       "<table border=\"1\" class=\"dataframe\">\n",
       "  <thead>\n",
       "    <tr style=\"text-align: right;\">\n",
       "      <th></th>\n",
       "      <th>index</th>\n",
       "      <th>№</th>\n",
       "      <th>№ школы</th>\n",
       "      <th>Класс</th>\n",
       "      <th>Пол</th>\n",
       "      <th>Номер варианта</th>\n",
       "      <th>Задания с кратким ответом</th>\n",
       "      <th>Задания с развёрнутым ответом</th>\n",
       "      <th>Устная часть</th>\n",
       "      <th>Первичный балл</th>\n",
       "      <th>Балл</th>\n",
       "      <th>Минимальный балл</th>\n",
       "      <th>Оценка</th>\n",
       "    </tr>\n",
       "  </thead>\n",
       "  <tbody>\n",
       "    <tr>\n",
       "      <th>0</th>\n",
       "      <td>114</td>\n",
       "      <td>115</td>\n",
       "      <td>147</td>\n",
       "      <td>11</td>\n",
       "      <td>Ж</td>\n",
       "      <td>329</td>\n",
       "      <td>++--002+++10--+000+-1--0---</td>\n",
       "      <td>0(3)0(3)0(3)0(3)0(3)</td>\n",
       "      <td>NaN</td>\n",
       "      <td>11</td>\n",
       "      <td>36</td>\n",
       "      <td>36</td>\n",
       "      <td>Неудовлетворительно</td>\n",
       "    </tr>\n",
       "    <tr>\n",
       "      <th>1</th>\n",
       "      <td>156</td>\n",
       "      <td>157</td>\n",
       "      <td>147</td>\n",
       "      <td>11</td>\n",
       "      <td>М</td>\n",
       "      <td>330</td>\n",
       "      <td>++--000-+-20---200+-2--2---</td>\n",
       "      <td>0(3)0(3)0(3)0(3)0(3)</td>\n",
       "      <td>NaN</td>\n",
       "      <td>12</td>\n",
       "      <td>38</td>\n",
       "      <td>36</td>\n",
       "      <td>Неудовлетворительно</td>\n",
       "    </tr>\n",
       "    <tr>\n",
       "      <th>2</th>\n",
       "      <td>204</td>\n",
       "      <td>205</td>\n",
       "      <td>147</td>\n",
       "      <td>11А</td>\n",
       "      <td>М</td>\n",
       "      <td>328</td>\n",
       "      <td>++--201-+-10---102--1--2---</td>\n",
       "      <td>0(3)0(3)0(3)0(3)0(3)</td>\n",
       "      <td>NaN</td>\n",
       "      <td>13</td>\n",
       "      <td>39</td>\n",
       "      <td>36</td>\n",
       "      <td>Неудовлетворительно</td>\n",
       "    </tr>\n",
       "    <tr>\n",
       "      <th>3</th>\n",
       "      <td>267</td>\n",
       "      <td>268</td>\n",
       "      <td>147</td>\n",
       "      <td>11М</td>\n",
       "      <td>Ж</td>\n",
       "      <td>329</td>\n",
       "      <td>++--112+--00---001++2--1--+</td>\n",
       "      <td>0(3)0(3)0(3)0(3)0(3)</td>\n",
       "      <td>NaN</td>\n",
       "      <td>14</td>\n",
       "      <td>40</td>\n",
       "      <td>36</td>\n",
       "      <td>Неудовлетворительно</td>\n",
       "    </tr>\n",
       "    <tr>\n",
       "      <th>4</th>\n",
       "      <td>268</td>\n",
       "      <td>269</td>\n",
       "      <td>147</td>\n",
       "      <td>11</td>\n",
       "      <td>М</td>\n",
       "      <td>333</td>\n",
       "      <td>++--110---10--+100++1++1---</td>\n",
       "      <td>0(3)0(3)0(3)0(3)1(3)</td>\n",
       "      <td>NaN</td>\n",
       "      <td>14</td>\n",
       "      <td>40</td>\n",
       "      <td>36</td>\n",
       "      <td>Неудовлетворительно</td>\n",
       "    </tr>\n",
       "    <tr>\n",
       "      <th>...</th>\n",
       "      <td>...</td>\n",
       "      <td>...</td>\n",
       "      <td>...</td>\n",
       "      <td>...</td>\n",
       "      <td>...</td>\n",
       "      <td>...</td>\n",
       "      <td>...</td>\n",
       "      <td>...</td>\n",
       "      <td>...</td>\n",
       "      <td>...</td>\n",
       "      <td>...</td>\n",
       "      <td>...</td>\n",
       "      <td>...</td>\n",
       "    </tr>\n",
       "    <tr>\n",
       "      <th>62</th>\n",
       "      <td>1139</td>\n",
       "      <td>1140</td>\n",
       "      <td>147</td>\n",
       "      <td>11</td>\n",
       "      <td>Ж</td>\n",
       "      <td>332</td>\n",
       "      <td>+++-222+++22+++122++2++2+++</td>\n",
       "      <td>1(3)2(3)3(3)0(3)3(3)</td>\n",
       "      <td>NaN</td>\n",
       "      <td>44</td>\n",
       "      <td>84</td>\n",
       "      <td>36</td>\n",
       "      <td>Хорошо</td>\n",
       "    </tr>\n",
       "    <tr>\n",
       "      <th>63</th>\n",
       "      <td>1154</td>\n",
       "      <td>1155</td>\n",
       "      <td>147</td>\n",
       "      <td>11</td>\n",
       "      <td>Ж</td>\n",
       "      <td>333</td>\n",
       "      <td>++++222+++12-++122++2++2+++</td>\n",
       "      <td>2(3)3(3)3(3)1(3)3(3)</td>\n",
       "      <td>NaN</td>\n",
       "      <td>46</td>\n",
       "      <td>88</td>\n",
       "      <td>36</td>\n",
       "      <td>Отлично</td>\n",
       "    </tr>\n",
       "    <tr>\n",
       "      <th>64</th>\n",
       "      <td>1165</td>\n",
       "      <td>1166</td>\n",
       "      <td>147</td>\n",
       "      <td>11</td>\n",
       "      <td>Ж</td>\n",
       "      <td>330</td>\n",
       "      <td>++++222+++22+++222++2++2+++</td>\n",
       "      <td>1(3)3(3)3(3)1(3)3(3)</td>\n",
       "      <td>NaN</td>\n",
       "      <td>48</td>\n",
       "      <td>92</td>\n",
       "      <td>36</td>\n",
       "      <td>Отлично</td>\n",
       "    </tr>\n",
       "    <tr>\n",
       "      <th>65</th>\n",
       "      <td>1172</td>\n",
       "      <td>1173</td>\n",
       "      <td>147</td>\n",
       "      <td>11</td>\n",
       "      <td>М</td>\n",
       "      <td>328</td>\n",
       "      <td>++++222+++22+++222++2++2+++</td>\n",
       "      <td>2(3)2(3)3(3)2(3)3(3)</td>\n",
       "      <td>NaN</td>\n",
       "      <td>49</td>\n",
       "      <td>94</td>\n",
       "      <td>36</td>\n",
       "      <td>Отлично</td>\n",
       "    </tr>\n",
       "    <tr>\n",
       "      <th>66</th>\n",
       "      <td>1178</td>\n",
       "      <td>1179</td>\n",
       "      <td>147</td>\n",
       "      <td>11</td>\n",
       "      <td>М</td>\n",
       "      <td>332</td>\n",
       "      <td>++++222+++22+++222++2++2+++</td>\n",
       "      <td>3(3)3(3)3(3)3(3)3(3)</td>\n",
       "      <td>NaN</td>\n",
       "      <td>52</td>\n",
       "      <td>100</td>\n",
       "      <td>36</td>\n",
       "      <td>Отлично</td>\n",
       "    </tr>\n",
       "  </tbody>\n",
       "</table>\n",
       "<p>67 rows × 13 columns</p>\n",
       "</div>"
      ],
      "text/plain": [
       "    index     №  № школы Класс Пол  Номер варианта  \\\n",
       "0     114   115      147    11   Ж             329   \n",
       "1     156   157      147    11   М             330   \n",
       "2     204   205      147   11А   М             328   \n",
       "3     267   268      147   11М   Ж             329   \n",
       "4     268   269      147    11   М             333   \n",
       "..    ...   ...      ...   ...  ..             ...   \n",
       "62   1139  1140      147    11   Ж             332   \n",
       "63   1154  1155      147    11   Ж             333   \n",
       "64   1165  1166      147    11   Ж             330   \n",
       "65   1172  1173      147    11   М             328   \n",
       "66   1178  1179      147    11   М             332   \n",
       "\n",
       "      Задания с кратким ответом Задания с развёрнутым ответом  Устная часть  \\\n",
       "0   ++--002+++10--+000+-1--0---          0(3)0(3)0(3)0(3)0(3)           NaN   \n",
       "1   ++--000-+-20---200+-2--2---          0(3)0(3)0(3)0(3)0(3)           NaN   \n",
       "2   ++--201-+-10---102--1--2---          0(3)0(3)0(3)0(3)0(3)           NaN   \n",
       "3   ++--112+--00---001++2--1--+          0(3)0(3)0(3)0(3)0(3)           NaN   \n",
       "4   ++--110---10--+100++1++1---          0(3)0(3)0(3)0(3)1(3)           NaN   \n",
       "..                          ...                           ...           ...   \n",
       "62  +++-222+++22+++122++2++2+++          1(3)2(3)3(3)0(3)3(3)           NaN   \n",
       "63  ++++222+++12-++122++2++2+++          2(3)3(3)3(3)1(3)3(3)           NaN   \n",
       "64  ++++222+++22+++222++2++2+++          1(3)3(3)3(3)1(3)3(3)           NaN   \n",
       "65  ++++222+++22+++222++2++2+++          2(3)2(3)3(3)2(3)3(3)           NaN   \n",
       "66  ++++222+++22+++222++2++2+++          3(3)3(3)3(3)3(3)3(3)           NaN   \n",
       "\n",
       "    Первичный балл  Балл  Минимальный балл               Оценка  \n",
       "0               11    36                36  Неудовлетворительно  \n",
       "1               12    38                36  Неудовлетворительно  \n",
       "2               13    39                36  Неудовлетворительно  \n",
       "3               14    40                36  Неудовлетворительно  \n",
       "4               14    40                36  Неудовлетворительно  \n",
       "..             ...   ...               ...                  ...  \n",
       "62              44    84                36               Хорошо  \n",
       "63              46    88                36              Отлично  \n",
       "64              48    92                36              Отлично  \n",
       "65              49    94                36              Отлично  \n",
       "66              52   100                36              Отлично  \n",
       "\n",
       "[67 rows x 13 columns]"
      ]
     },
     "execution_count": 32,
     "metadata": {},
     "output_type": "execute_result"
    }
   ],
   "source": [
    "df_147 = df.loc[df['№ школы'] == 147].reset_index()\n",
    "df_147"
   ]
  },
  {
   "cell_type": "code",
   "execution_count": 33,
   "metadata": {},
   "outputs": [
    {
     "name": "stdout",
     "output_type": "stream",
     "text": [
      "{0: 66, 1: 63, 2: 43, 3: 37, 7: 48, 8: 58, 9: 34, 12: 45, 13: 43, 14: 42, 18: 60, 19: 55, 21: 46, 22: 47, 24: 28, 25: 32, 26: 31}\n",
      "Процент выполнения задания B1 = 98.5075 %\n",
      "Процент выполнения задания B2 = 94.0299 %\n",
      "Процент выполнения задания B3 = 64.1791 %\n",
      "Процент выполнения задания B4 = 55.2239 %\n",
      "Процент выполнения задания B8 = 71.6418 %\n",
      "Процент выполнения задания B9 = 86.5672 %\n",
      "Процент выполнения задания B10 = 50.7463 %\n",
      "Процент выполнения задания B13 = 67.1642 %\n",
      "Процент выполнения задания B14 = 64.1791 %\n",
      "Процент выполнения задания B15 = 62.6866 %\n",
      "Процент выполнения задания B19 = 89.5522 %\n",
      "Процент выполнения задания B20 = 82.0896 %\n",
      "Процент выполнения задания B22 = 68.6567 %\n",
      "Процент выполнения задания B23 = 70.1493 %\n",
      "Процент выполнения задания B25 = 41.791 %\n",
      "Процент выполнения задания B26 = 47.7612 %\n",
      "Процент выполнения задания B27 = 46.2687 %\n"
     ]
    }
   ],
   "source": [
    "B_tasks(df_147)"
   ]
  },
  {
   "cell_type": "code",
   "execution_count": 34,
   "metadata": {},
   "outputs": [
    {
     "data": {
      "text/html": [
       "<div>\n",
       "<style scoped>\n",
       "    .dataframe tbody tr th:only-of-type {\n",
       "        vertical-align: middle;\n",
       "    }\n",
       "\n",
       "    .dataframe tbody tr th {\n",
       "        vertical-align: top;\n",
       "    }\n",
       "\n",
       "    .dataframe thead th {\n",
       "        text-align: right;\n",
       "    }\n",
       "</style>\n",
       "<table border=\"1\" class=\"dataframe\">\n",
       "  <thead>\n",
       "    <tr style=\"text-align: right;\">\n",
       "      <th></th>\n",
       "      <th>C1</th>\n",
       "      <th>C2</th>\n",
       "      <th>C3</th>\n",
       "      <th>C4</th>\n",
       "      <th>C5</th>\n",
       "    </tr>\n",
       "  </thead>\n",
       "  <tbody>\n",
       "    <tr>\n",
       "      <th>0</th>\n",
       "      <td>0</td>\n",
       "      <td>0</td>\n",
       "      <td>0</td>\n",
       "      <td>0</td>\n",
       "      <td>0</td>\n",
       "    </tr>\n",
       "    <tr>\n",
       "      <th>1</th>\n",
       "      <td>0</td>\n",
       "      <td>0</td>\n",
       "      <td>0</td>\n",
       "      <td>0</td>\n",
       "      <td>0</td>\n",
       "    </tr>\n",
       "    <tr>\n",
       "      <th>2</th>\n",
       "      <td>0</td>\n",
       "      <td>0</td>\n",
       "      <td>0</td>\n",
       "      <td>0</td>\n",
       "      <td>0</td>\n",
       "    </tr>\n",
       "    <tr>\n",
       "      <th>3</th>\n",
       "      <td>0</td>\n",
       "      <td>0</td>\n",
       "      <td>0</td>\n",
       "      <td>0</td>\n",
       "      <td>0</td>\n",
       "    </tr>\n",
       "    <tr>\n",
       "      <th>4</th>\n",
       "      <td>0</td>\n",
       "      <td>0</td>\n",
       "      <td>0</td>\n",
       "      <td>0</td>\n",
       "      <td>1</td>\n",
       "    </tr>\n",
       "    <tr>\n",
       "      <th>...</th>\n",
       "      <td>...</td>\n",
       "      <td>...</td>\n",
       "      <td>...</td>\n",
       "      <td>...</td>\n",
       "      <td>...</td>\n",
       "    </tr>\n",
       "    <tr>\n",
       "      <th>62</th>\n",
       "      <td>1</td>\n",
       "      <td>2</td>\n",
       "      <td>3</td>\n",
       "      <td>0</td>\n",
       "      <td>3</td>\n",
       "    </tr>\n",
       "    <tr>\n",
       "      <th>63</th>\n",
       "      <td>2</td>\n",
       "      <td>3</td>\n",
       "      <td>3</td>\n",
       "      <td>1</td>\n",
       "      <td>3</td>\n",
       "    </tr>\n",
       "    <tr>\n",
       "      <th>64</th>\n",
       "      <td>1</td>\n",
       "      <td>3</td>\n",
       "      <td>3</td>\n",
       "      <td>1</td>\n",
       "      <td>3</td>\n",
       "    </tr>\n",
       "    <tr>\n",
       "      <th>65</th>\n",
       "      <td>2</td>\n",
       "      <td>2</td>\n",
       "      <td>3</td>\n",
       "      <td>2</td>\n",
       "      <td>3</td>\n",
       "    </tr>\n",
       "    <tr>\n",
       "      <th>66</th>\n",
       "      <td>3</td>\n",
       "      <td>3</td>\n",
       "      <td>3</td>\n",
       "      <td>3</td>\n",
       "      <td>3</td>\n",
       "    </tr>\n",
       "  </tbody>\n",
       "</table>\n",
       "<p>67 rows × 5 columns</p>\n",
       "</div>"
      ],
      "text/plain": [
       "    C1  C2  C3  C4  C5\n",
       "0    0   0   0   0   0\n",
       "1    0   0   0   0   0\n",
       "2    0   0   0   0   0\n",
       "3    0   0   0   0   0\n",
       "4    0   0   0   0   1\n",
       "..  ..  ..  ..  ..  ..\n",
       "62   1   2   3   0   3\n",
       "63   2   3   3   1   3\n",
       "64   1   3   3   1   3\n",
       "65   2   2   3   2   3\n",
       "66   3   3   3   3   3\n",
       "\n",
       "[67 rows x 5 columns]"
      ]
     },
     "execution_count": 34,
     "metadata": {},
     "output_type": "execute_result"
    }
   ],
   "source": [
    "df_C_147 = C_tasks(df_147)\n",
    "df_C_147 = df_C_147.astype(int)\n",
    "df_C_147"
   ]
  },
  {
   "cell_type": "code",
   "execution_count": 35,
   "metadata": {},
   "outputs": [
    {
     "data": {
      "text/html": [
       "<div>\n",
       "<style scoped>\n",
       "    .dataframe tbody tr th:only-of-type {\n",
       "        vertical-align: middle;\n",
       "    }\n",
       "\n",
       "    .dataframe tbody tr th {\n",
       "        vertical-align: top;\n",
       "    }\n",
       "\n",
       "    .dataframe thead th {\n",
       "        text-align: right;\n",
       "    }\n",
       "</style>\n",
       "<table border=\"1\" class=\"dataframe\">\n",
       "  <thead>\n",
       "    <tr style=\"text-align: right;\">\n",
       "      <th></th>\n",
       "      <th>C1</th>\n",
       "      <th>C2</th>\n",
       "      <th>C3</th>\n",
       "      <th>C4</th>\n",
       "      <th>C5</th>\n",
       "      <th>Сумма</th>\n",
       "    </tr>\n",
       "  </thead>\n",
       "  <tbody>\n",
       "    <tr>\n",
       "      <th>0</th>\n",
       "      <td>0</td>\n",
       "      <td>0</td>\n",
       "      <td>0</td>\n",
       "      <td>0</td>\n",
       "      <td>0</td>\n",
       "      <td>0</td>\n",
       "    </tr>\n",
       "    <tr>\n",
       "      <th>1</th>\n",
       "      <td>0</td>\n",
       "      <td>0</td>\n",
       "      <td>0</td>\n",
       "      <td>0</td>\n",
       "      <td>0</td>\n",
       "      <td>0</td>\n",
       "    </tr>\n",
       "    <tr>\n",
       "      <th>2</th>\n",
       "      <td>0</td>\n",
       "      <td>0</td>\n",
       "      <td>0</td>\n",
       "      <td>0</td>\n",
       "      <td>0</td>\n",
       "      <td>0</td>\n",
       "    </tr>\n",
       "    <tr>\n",
       "      <th>3</th>\n",
       "      <td>0</td>\n",
       "      <td>0</td>\n",
       "      <td>0</td>\n",
       "      <td>0</td>\n",
       "      <td>0</td>\n",
       "      <td>0</td>\n",
       "    </tr>\n",
       "    <tr>\n",
       "      <th>4</th>\n",
       "      <td>0</td>\n",
       "      <td>0</td>\n",
       "      <td>0</td>\n",
       "      <td>0</td>\n",
       "      <td>1</td>\n",
       "      <td>1</td>\n",
       "    </tr>\n",
       "    <tr>\n",
       "      <th>...</th>\n",
       "      <td>...</td>\n",
       "      <td>...</td>\n",
       "      <td>...</td>\n",
       "      <td>...</td>\n",
       "      <td>...</td>\n",
       "      <td>...</td>\n",
       "    </tr>\n",
       "    <tr>\n",
       "      <th>62</th>\n",
       "      <td>1</td>\n",
       "      <td>2</td>\n",
       "      <td>3</td>\n",
       "      <td>0</td>\n",
       "      <td>3</td>\n",
       "      <td>9</td>\n",
       "    </tr>\n",
       "    <tr>\n",
       "      <th>63</th>\n",
       "      <td>2</td>\n",
       "      <td>3</td>\n",
       "      <td>3</td>\n",
       "      <td>1</td>\n",
       "      <td>3</td>\n",
       "      <td>12</td>\n",
       "    </tr>\n",
       "    <tr>\n",
       "      <th>64</th>\n",
       "      <td>1</td>\n",
       "      <td>3</td>\n",
       "      <td>3</td>\n",
       "      <td>1</td>\n",
       "      <td>3</td>\n",
       "      <td>11</td>\n",
       "    </tr>\n",
       "    <tr>\n",
       "      <th>65</th>\n",
       "      <td>2</td>\n",
       "      <td>2</td>\n",
       "      <td>3</td>\n",
       "      <td>2</td>\n",
       "      <td>3</td>\n",
       "      <td>12</td>\n",
       "    </tr>\n",
       "    <tr>\n",
       "      <th>66</th>\n",
       "      <td>3</td>\n",
       "      <td>3</td>\n",
       "      <td>3</td>\n",
       "      <td>3</td>\n",
       "      <td>3</td>\n",
       "      <td>15</td>\n",
       "    </tr>\n",
       "  </tbody>\n",
       "</table>\n",
       "<p>67 rows × 6 columns</p>\n",
       "</div>"
      ],
      "text/plain": [
       "    C1  C2  C3  C4  C5  Сумма\n",
       "0    0   0   0   0   0      0\n",
       "1    0   0   0   0   0      0\n",
       "2    0   0   0   0   0      0\n",
       "3    0   0   0   0   0      0\n",
       "4    0   0   0   0   1      1\n",
       "..  ..  ..  ..  ..  ..    ...\n",
       "62   1   2   3   0   3      9\n",
       "63   2   3   3   1   3     12\n",
       "64   1   3   3   1   3     11\n",
       "65   2   2   3   2   3     12\n",
       "66   3   3   3   3   3     15\n",
       "\n",
       "[67 rows x 6 columns]"
      ]
     },
     "execution_count": 35,
     "metadata": {},
     "output_type": "execute_result"
    }
   ],
   "source": [
    "df_C_147['Сумма'] = df_C_147.sum(axis=1)\n",
    "df_C_147"
   ]
  },
  {
   "cell_type": "code",
   "execution_count": 39,
   "metadata": {},
   "outputs": [
    {
     "name": "stdout",
     "output_type": "stream",
     "text": [
      "Получили больше 50% баллов по заданиям типа C - 17.9104%\n"
     ]
    }
   ],
   "source": [
    "print(f\"Получили больше 50% баллов по заданиям типа C - {round(len(df_C_147[df_C_147['Сумма'] > 3*5/2]) / len(df_C_147) * 100,4)}%\")"
   ]
  },
  {
   "cell_type": "code",
   "execution_count": 40,
   "metadata": {},
   "outputs": [
    {
     "name": "stdout",
     "output_type": "stream",
     "text": [
      "Средний балл юношей - 57.025\n",
      "Средний балл девушек - 61.8148\n"
     ]
    }
   ],
   "source": [
    "mean_points_man_147 = round(df_147[df_147['Пол'] == 'М']['Балл'].mean(),4)\n",
    "mean_points_woman_147 = round(df_147[df_147['Пол'] == 'Ж']['Балл'].mean(),4)\n",
    "print(f\"Средний балл юношей - {mean_points_man_147}\")\n",
    "print(f\"Средний балл девушек - {mean_points_woman_147}\")"
   ]
  },
  {
   "cell_type": "code",
   "execution_count": null,
   "metadata": {},
   "outputs": [],
   "source": []
  }
 ],
 "metadata": {
  "colab": {
   "provenance": []
  },
  "kernelspec": {
   "display_name": "Python 3 (ipykernel)",
   "language": "python",
   "name": "python3"
  },
  "language_info": {
   "codemirror_mode": {
    "name": "ipython",
    "version": 3
   },
   "file_extension": ".py",
   "mimetype": "text/x-python",
   "name": "python",
   "nbconvert_exporter": "python",
   "pygments_lexer": "ipython3",
   "version": "3.9.12"
  }
 },
 "nbformat": 4,
 "nbformat_minor": 1
}
